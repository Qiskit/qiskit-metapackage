{
  "cells": [
    {
      "cell_type": "markdown",
      "source": [
        "# Qiskit Aer: The Extended Stabilizer Simulator"
      ],
      "metadata": {}
    },
    {
      "cell_type": "markdown",
      "source": [
        "## Introduction"
      ],
      "metadata": {}
    },
    {
      "cell_type": "markdown",
      "source": [
        "The Extended Simulator is a new method for classically simulating quantum circuits available in the latest release of [Qiskit-Aer](https://github.com/qiskit/qiskit-aer). \n",
        "\n",
        "This method is an implementation of the ideas published in the paper _Simulation of quantum circuits by low-rank stabilizer decompositions_ by Bravyi, Browne, Calpin, Campbell, Gosset & Howard, 2018, [**arXiv:1808.00128**](https://arxiv.org/abs/1808.00128).\n",
        "\n",
        "It uses a different representation of a quantum circuit, that gives it some unique capabilities. This notebook will give some examples of what the extended stabilizer method can do.\n",
        "\n",
        "For example:"
      ],
      "metadata": {}
    },
    {
      "cell_type": "code",
      "source": [
        "from qiskit import QuantumCircuit, QuantumRegister, ClassicalRegister\n",
        "from qiskit.compiler import assemble\n",
        "from qiskit.providers.aer import AerError, QasmSimulator\n",
        "from qiskit.tools.visualization import plot_histogram\n",
        "\n",
        "import random"
      ],
      "outputs": [],
      "execution_count": 1,
      "metadata": {
        "ExecuteTime": {
          "end_time": "2019-08-19T17:17:32.305227Z",
          "start_time": "2019-08-19T17:17:32.300959Z"
        }
      }
    },
    {
      "cell_type": "code",
      "source": [
        "circ = QuantumCircuit(40, 40)\n",
        "\n",
        "# Initialise with a Hadamard layer\n",
        "circ.h(range(40))\n",
        "# Apply some random CNOT and T gates\n",
        "qubit_indices = [i for i in range(40)]\n",
        "for i in range(10):\n",
        "    control, target, t = random.sample(qubit_indices, 3)\n",
        "    circ.cx(control, target)\n",
        "    circ.t(t)\n",
        "circ.measure(range(40), range(40))\n",
        "\n",
        "qobj = assemble(circ, backend=QasmSimulator(), shots=1)"
      ],
      "outputs": [],
      "execution_count": 2,
      "metadata": {
        "ExecuteTime": {
          "end_time": "2019-08-19T17:21:43.756467Z",
          "start_time": "2019-08-19T17:21:43.742436Z"
        }
      }
    },
    {
      "cell_type": "markdown",
      "source": [
        "We've created a random circuit with just 60 gates, that acts on 40 qubits. But, because of the number of qubits, if we wanted to run this with say the statevector simulator then I hope you have access to terabytes of RAM!"
      ],
      "metadata": {}
    },
    {
      "cell_type": "code",
      "source": [
        "statevector_job = QasmSimulator().run(qobj, backend_options={\n",
        "    'method': 'statevector'\n",
        "})\n",
        "# This should error!\n",
        "try:\n",
        "    statevector_job.result()\n",
        "except AerError as err:\n",
        "    print(err)"
      ],
      "outputs": [],
      "execution_count": 3,
      "metadata": {
        "ExecuteTime": {
          "end_time": "2019-08-19T17:21:58.295935Z",
          "start_time": "2019-08-19T17:21:58.246239Z"
        }
      }
    },
    {
      "cell_type": "markdown",
      "source": [
        "The Extended Stabilizer method, in contrast, handles this circuit just fine. (Though it needs a couple of minutes!)"
      ],
      "metadata": {}
    },
    {
      "cell_type": "code",
      "source": [
        "es_job = QasmSimulator().run(qobj, backend_options={\n",
        "    'method': 'extended_stabilizer'\n",
        "})\n",
        "result = es_job.result()\n",
        "print('This succeeded?: {}'.format(result.success))"
      ],
      "outputs": [
        {
          "output_type": "stream",
          "name": "stdout",
          "text": [
            "This succeeded?: True\n"
          ]
        }
      ],
      "execution_count": 4,
      "metadata": {
        "ExecuteTime": {
          "end_time": "2019-08-19T17:22:26.158636Z",
          "start_time": "2019-08-19T17:22:22.534910Z"
        }
      }
    },
    {
      "cell_type": "markdown",
      "source": [
        "## How does this work?\n",
        "If you're interested in how exactly we can handle such large circuits, then for a detailed explanation you can [read the paper!](https://arxiv.org/abs/1808.00128)\n",
        "\n",
        "For running circuits, however, it's important to just understand the basics.\n",
        "\n",
        "The Extended Stabilizer method is made up of two parts. The first is a method of decomposing quantum circuits into _stabilizer circuits_, a special class of circuit that can be efficiently simulated classically. The second is then a way of combining these circuits to perform measurements.\n",
        "\n",
        "The number of terms you need scales with the number of what we call _non-Clifford Gates_. At the moment, the method knows how to handle the following methods:\n",
        "```python\n",
        "circ.t(qr[qubit])\n",
        "circ.tdg(qr[qubit])\n",
        "circ.ccx(qr[control_1], qr[control_2], qr[target])\n",
        "circ.u1(rotation_angle, qr[qubit])\n",
        "```\n",
        "\n",
        "The simulator is also able to handle circuits of up to 63 qubits.\n",
        "     \n"
      ],
      "metadata": {}
    },
    {
      "cell_type": "markdown",
      "source": [
        "One thing that's important to note is these decompositions are approximate. This means that the results aren't exactly the same as with the State Vector simulator."
      ],
      "metadata": {}
    },
    {
      "cell_type": "code",
      "source": [
        "small_qr = QuantumRegister(2)\n",
        "small_cr = ClassicalRegister(2)\n",
        "small_circ = QuantumCircuit(small_qr, small_cr)\n",
        "small_circ.h(small_qr[0])\n",
        "small_circ.cx(small_qr[0], small_qr[1])\n",
        "small_circ.t(small_qr[0])\n",
        "small_circ.measure(small_qr, small_cr)\n",
        "small_qobj = assemble(small_circ, backend=QasmSimulator(), shots=100)\n",
        "# This circuit should give 00 or 11 with equal probability...\n",
        "expected_results ={'00': 50, '11': 50}"
      ],
      "outputs": [],
      "execution_count": 5,
      "metadata": {
        "ExecuteTime": {
          "end_time": "2019-08-19T17:23:52.873028Z",
          "start_time": "2019-08-19T17:23:52.863305Z"
        }
      }
    },
    {
      "cell_type": "code",
      "source": [
        "es_job = QasmSimulator().run(small_qobj, backend_options={'method':'extended_stabilizer'})\n",
        "es_result = es_job.result()\n",
        "es_counts = es_result.get_counts(small_circ)\n",
        "print('100 shots in {}s'.format(es_result.time_taken))"
      ],
      "outputs": [
        {
          "output_type": "stream",
          "name": "stdout",
          "text": [
            "100 shots in 3.9687795639038086s\n"
          ]
        }
      ],
      "execution_count": 6,
      "metadata": {
        "ExecuteTime": {
          "end_time": "2019-08-19T17:23:54.879606Z",
          "start_time": "2019-08-19T17:23:53.249255Z"
        }
      }
    },
    {
      "cell_type": "code",
      "source": [
        "plot_histogram([expected_results, es_counts], legend=['Expected', 'Extended Stabilizer'])"
      ],
      "outputs": [
        {
          "output_type": "execute_result",
          "execution_count": 7,
          "data": {
            "image/png": "[encoded data removed]",
            "text/plain": [
              "<Figure size 504x360 with 1 Axes>"
            ]
          },
          "metadata": {}
        }
      ],
      "execution_count": 7,
      "metadata": {
        "ExecuteTime": {
          "end_time": "2019-08-19T17:23:55.222602Z",
          "start_time": "2019-08-19T17:23:55.101958Z"
        }
      }
    },
    {
      "cell_type": "markdown",
      "source": [
        "You can control this approximation error using the `backend_options` in Qiskit Aer. The default error is 0.05. The smaller the error, the more precise the results, but also the longer your simulation will take and the more memory it will require."
      ],
      "metadata": {}
    },
    {
      "cell_type": "code",
      "source": [
        "es_job = QasmSimulator().run(small_qobj, backend_options={\n",
        "    'method':'extended_stabilizer',\n",
        "    'extended_stabilizer_approximation_error': 0.03\n",
        "})\n",
        "es_result = es_job.result()\n",
        "es_counts = es_result.get_counts(small_circ)\n",
        "print('100 shots in {}s'.format(es_result.time_taken))\n",
        "plot_histogram([expected_results, es_counts], legend=['Expected', 'Extended Stabilizer'])"
      ],
      "outputs": [
        {
          "output_type": "stream",
          "name": "stdout",
          "text": [
            "100 shots in 10.484436273574829s\n"
          ]
        },
        {
          "output_type": "execute_result",
          "execution_count": 8,
          "data": {
            "image/png": "[encoded data removed]",
            "text/plain": [
              "<Figure size 504x360 with 1 Axes>"
            ]
          },
          "metadata": {}
        }
      ],
      "execution_count": 8,
      "metadata": {
        "ExecuteTime": {
          "end_time": "2019-08-19T17:24:01.638958Z",
          "start_time": "2019-08-19T17:23:57.206364Z"
        }
      }
    },
    {
      "cell_type": "markdown",
      "source": [
        "## Simulator Options"
      ],
      "metadata": {}
    },
    {
      "cell_type": "markdown",
      "source": [
        "There are several other options you can tweak to control how the extended stabilizer method performs. What these options are and their explanation can all be found in the Qiskit Aer documentation. However, I want to highlight two important ones that can help to optimize your simulations.\n",
        "\n",
        "To perform measurements, the extended stabilizer method uses a Markov chain method to sample outcomes at random. This Markov chain has to be run for some time we call the 'mixing time' before it will start sampling, and has to be re-mixed for every circuit shot.\n",
        "\n",
        "If you expect your circuit output to be concentrated on just a few output states, then you can likely optimize your simulations by reducing the `extended_stabilizer_mixing_time` option.\n",
        "\n"
      ],
      "metadata": {}
    },
    {
      "cell_type": "code",
      "source": [
        "print(\"The circuit above, with 100 shots at precision 0.03 \"\n",
        "      \"and default mixing time, needed {}s\".format(int(es_result.time_taken)))\n",
        "optimised_job = QasmSimulator().run(small_qobj, backend_options={\n",
        "    'method': 'extended_stabilizer',\n",
        "    'extended_stabilizer_approximation_error': 0.03,\n",
        "    'extended_stabilizer_mixing_time': 100\n",
        "})\n",
        "optimised_result = optimised_job.result()\n",
        "print('Dialing down the mixing time, we completed in just {}s'.format(optimised_result.time_taken))"
      ],
      "outputs": [
        {
          "output_type": "stream",
          "name": "stdout",
          "text": [
            "The circuit above, with 100 shots at precision 0.03 and default mixing time, needed 10s\n",
            "Dialing down the mixing time, we completed in just 0.26561832427978516s\n"
          ]
        }
      ],
      "execution_count": 9,
      "metadata": {
        "ExecuteTime": {
          "end_time": "2019-08-19T17:24:03.270544Z",
          "start_time": "2019-08-19T17:24:03.132881Z"
        }
      }
    },
    {
      "cell_type": "markdown",
      "source": [
        "Similarly, if your circuit has some non-zero probability on all amplitudes (e.g. if it's a random circuit), then you can avoid this expensive re-mixing step to take multiple shots from the output at once. This can be enabled by setting `extended_stabilizer_measure_sampling=True` in the `backend_options`.\n",
        "\n",
        "For example, let's look again at the random circuit from the start of the tutorial, running for 100 shots:"
      ],
      "metadata": {}
    },
    {
      "cell_type": "code",
      "source": [
        "multishot_qobj = assemble(circ, backend=QasmSimulator(), shots=100)"
      ],
      "outputs": [],
      "execution_count": 10,
      "metadata": {
        "ExecuteTime": {
          "end_time": "2019-08-19T17:24:03.961088Z",
          "start_time": "2019-08-19T17:24:03.951284Z"
        }
      }
    },
    {
      "cell_type": "code",
      "source": [
        "# It's a 40 qubit circuit so we use Extended Stabilizer automatically\n",
        "multishot_job = QasmSimulator().run(multishot_qobj, backend_options={\n",
        "    'extended_stabilizer_mixing_time': 100 # We set this here only to make the example run more quickly.\n",
        "})\n",
        "result = multishot_job.result()\n",
        "print(\"100 shots took {} s\".format(result.time_taken))"
      ],
      "outputs": [
        {
          "output_type": "stream",
          "name": "stdout",
          "text": [
            "100 shots took 31.812614917755127 s\n"
          ]
        }
      ],
      "execution_count": 11,
      "metadata": {
        "ExecuteTime": {
          "end_time": "2019-08-19T17:24:20.656799Z",
          "start_time": "2019-08-19T17:24:04.332417Z"
        }
      }
    },
    {
      "cell_type": "code",
      "source": [
        "multishot_job = QasmSimulator().run(multishot_qobj, backend_options={\n",
        "    'extended_stabilizer_measure_sampling': True,\n",
        "    'extended_stabilizer_mixing_time': 100 # We set this here only to make the example run more quickly.\n",
        "})\n",
        "result = multishot_job.result()\n",
        "print(\"With the optimization, 50 shots took {} s\".format(result.time_taken))"
      ],
      "outputs": [
        {
          "output_type": "stream",
          "name": "stdout",
          "text": [
            "With the optimization, 50 shots took 0.15625762939453125 s\n"
          ]
        }
      ],
      "execution_count": 12,
      "metadata": {
        "ExecuteTime": {
          "end_time": "2019-08-19T17:24:21.070233Z",
          "start_time": "2019-08-19T17:24:20.918300Z"
        }
      }
    },
    {
      "cell_type": "markdown",
      "source": [
        "## How can I use it?\n",
        "\n",
        "In the latest release of Qiskit Aer, if you try to run a circuit on more qubits than can be handled by the state vector simulator, then Aer will automatically switch to using the extended stabilizer method. You can also force circuits to run on this method using the `backend_options` keyword argument to `QasmSimulator().run`. \n",
        "\n",
        "It's worth bearing in mind: if you have smaller circuits with lots of non-Clifford gates, then the statevector method will likely perform better than the extended stabilizer. If however you want to look at circuits on many qubits, without needing access to high performance computation, then give this method a try!"
      ],
      "metadata": {}
    },
    {
      "cell_type": "code",
      "source": [
        "import qiskit.tools.jupyter\n",
        "%qiskit_version_table\n",
        "%qiskit_copyright"
      ],
      "outputs": [
        {
          "output_type": "display_data",
          "data": {
            "text/html": [
              "<h3>Version Information</h3><table><tr><th>Qiskit Software</th><th>Version</th></tr><tr><td>Qiskit</td><td>0.14.0</td></tr><tr><td>Terra</td><td>0.11.0</td></tr><tr><td>Aer</td><td>0.3.4</td></tr><tr><td>Ignis</td><td>0.2.0</td></tr><tr><td>Aqua</td><td>0.6.1</td></tr><tr><td>IBM Q Provider</td><td>0.4.4</td></tr><tr><th>System information</th></tr><tr><td>Python</td><td>3.7.4 (default, Aug  9 2019, 18:34:13) [MSC v.1915 64 bit (AMD64)]</td></tr><tr><td>OS</td><td>Windows</td></tr><tr><td>CPUs</td><td>2</td></tr><tr><td>Memory (Gb)</td><td>7.9987335205078125</td></tr><tr><td colspan='2'>Tue Dec 10 16:02:44 2019 Eastern Standard Time</td></tr></table>"
            ],
            "text/plain": [
              "<IPython.core.display.HTML object>"
            ]
          },
          "metadata": {}
        },
        {
          "output_type": "display_data",
          "data": {
            "text/html": [
              "<div style='width: 100%; background-color:#d5d9e0;padding-left: 10px; padding-bottom: 10px; padding-right: 10px; padding-top: 5px'><h3>This code is a part of Qiskit</h3><p>&copy; Copyright IBM 2017, 2019.</p><p>This code is licensed under the Apache License, Version 2.0. You may<br>obtain a copy of this license in the LICENSE.txt file in the root directory<br> of this source tree or at http://www.apache.org/licenses/LICENSE-2.0.<p>Any modifications or derivative works of this code must retain this<br>copyright notice, and modified files need to carry a notice indicating<br>that they have been altered from the originals.</p></div>"
            ],
            "text/plain": [
              "<IPython.core.display.HTML object>"
            ]
          },
          "metadata": {}
        }
      ],
      "execution_count": 13,
      "metadata": {
        "ExecuteTime": {
          "end_time": "2019-08-19T17:24:45.930560Z",
          "start_time": "2019-08-19T17:24:45.920568Z"
        }
      }
    },
    {
      "cell_type": "code",
      "source": [],
      "outputs": [],
      "execution_count": null,
      "metadata": {}
    }
  ],
  "metadata": {
    "kernelspec": {
      "display_name": "Python 3",
      "language": "python",
      "name": "python3"
    },
    "language_info": {
      "codemirror_mode": {
        "name": "ipython",
        "version": 3
      },
      "file_extension": ".py",
      "mimetype": "text/x-python",
      "name": "python",
      "nbconvert_exporter": "python",
      "pygments_lexer": "ipython3",
      "version": "3.7.4"
    },
    "varInspector": {
      "cols": {
        "lenName": 16,
        "lenType": 16,
        "lenVar": 40
      },
      "kernels_config": {
        "python": {
          "delete_cmd_postfix": "",
          "delete_cmd_prefix": "del ",
          "library": "var_list.py",
          "varRefreshCmd": "print(var_dic_list())"
        },
        "r": {
          "delete_cmd_postfix": ") ",
          "delete_cmd_prefix": "rm(",
          "library": "var_list.r",
          "varRefreshCmd": "cat(var_dic_list()) "
        }
      },
      "types_to_exclude": [
        "module",
        "function",
        "builtin_function_or_method",
        "instance",
        "_Feature"
      ],
      "window_display": false
    },
    "nteract": {
      "version": "0.22.0"
    }
  },
  "nbformat": 4,
  "nbformat_minor": 2
}
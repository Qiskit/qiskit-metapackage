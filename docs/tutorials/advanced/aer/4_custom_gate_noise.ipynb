{
  "cells": [
    {
      "cell_type": "markdown",
      "source": [
        "# Qiskit Aer: Applying noise to custom unitary gates\n",
        "\n",
        "The latest version of this notebook is available on https://github.com/Qiskit/qiskit-tutorial."
      ],
      "metadata": {}
    },
    {
      "cell_type": "markdown",
      "source": [
        "## Introduction\n",
        "\n",
        "This notebook shows how to add custom unitary gates to a quantum circuit, and use them for noise simulations in Qiskit Aer."
      ],
      "metadata": {}
    },
    {
      "cell_type": "code",
      "source": [
        "from qiskit import execute, QuantumCircuit, QuantumRegister, ClassicalRegister\n",
        "from qiskit.quantum_info import Operator, average_gate_fidelity\n",
        "from qiskit.providers.aer import QasmSimulator\n",
        "from qiskit.providers.aer.noise import NoiseModel, amplitude_damping_error\n",
        "\n",
        "from qiskit.tools.visualization import plot_histogram"
      ],
      "outputs": [],
      "execution_count": 1,
      "metadata": {
        "ExecuteTime": {
          "end_time": "2019-08-19T17:09:18.154548Z",
          "start_time": "2019-08-19T17:09:15.909907Z"
        }
      }
    },
    {
      "cell_type": "markdown",
      "source": [
        "## Creating matrix operators\n",
        "\n",
        "We can use the `Operator` class in `qiskit.quantum_info` to represent arbitrary matrix operators. If the operator is unitary it can then be added to a quantum circuit and used for simulation on Qiskit Aer.\n",
        "\n",
        "Lets create two operators below for a CNOT gate and an iSWAP gate:\n",
        "\n",
        "$$\\mbox{CNOT} = \\left(\\begin{array} \n",
        "& 1 & 0 & 0 & 0 \\\\ \n",
        "0 & 0 & 0 & 1 \\\\ \n",
        "0 & 0 & 1 & 0 \\\\ \n",
        "0 & 1 & 0 & 0\n",
        "\\end{array}\\right), \\quad\n",
        "\\mbox{iSWAP} = \\left(\\begin{array} \n",
        "& 1 & 0 & 0 & 0 \\\\ \n",
        "0 & 0 & i & 0 \\\\ \n",
        "0 & i & 0 & 0 \\\\ \n",
        "0 & 0 & 0 & 1\n",
        "\\end{array}\\right)$$\n"
      ],
      "metadata": {}
    },
    {
      "cell_type": "code",
      "source": [
        "# CNOT matrix operator with qubit-0 as control and qubit-1 as target\n",
        "cx_op = Operator([[1, 0, 0, 0],\n",
        "                  [0, 0, 0, 1],\n",
        "                  [0, 0, 1, 0],\n",
        "                  [0, 1, 0, 0]])\n",
        "\n",
        "# iSWAP matrix operator\n",
        "iswap_op = Operator([[1, 0, 0, 0],\n",
        "                     [0, 0, 1j, 0],\n",
        "                     [0, 1j, 0, 0],\n",
        "                     [0, 0, 0, 1]])"
      ],
      "outputs": [],
      "execution_count": 2,
      "metadata": {
        "ExecuteTime": {
          "end_time": "2019-08-19T17:09:18.170527Z",
          "start_time": "2019-08-19T17:09:18.166252Z"
        }
      }
    },
    {
      "cell_type": "markdown",
      "source": [
        "**Note:** The matrix is specified with respect to the tensor product $U_{b}\\otimes U_{a}$ for qubits specified by list `[a, b]`."
      ],
      "metadata": {}
    },
    {
      "cell_type": "markdown",
      "source": [
        "## Using operators in circuits\n",
        "\n",
        "Let us demonstrate how these can be used in a circuit. We will consider an example of implementing a CNOT gate decomposed in terms of single-qubit gates and the iSWAP gate as follows."
      ],
      "metadata": {}
    },
    {
      "cell_type": "code",
      "source": [
        "# CNOT in terms of iSWAP and single-qubit gates\n",
        "cx_circ = QuantumCircuit(2)\n",
        "\n",
        "# Add gates\n",
        "cx_circ.sdg(1)\n",
        "cx_circ.h(1)\n",
        "cx_circ.sdg(0)\n",
        "cx_circ.unitary(iswap_op, [0, 1], label='iswap')\n",
        "cx_circ.sdg(0)\n",
        "cx_circ.h(0)\n",
        "cx_circ.sdg(0)\n",
        "cx_circ.unitary(iswap_op, [0, 1], label='iswap')\n",
        "cx_circ.s(1)\n",
        "\n",
        "print(cx_circ)"
      ],
      "outputs": [
        {
          "output_type": "stream",
          "name": "stdout",
          "text": [
            "        ┌─────┐     ┌────────┐┌─────┐┌───┐┌─────┐┌────────┐     \n",
            "q_0: |0>┤ Sdg ├─────┤0       ├┤ Sdg ├┤ H ├┤ Sdg ├┤0       ├─────\n",
            "        ├─────┤┌───┐│  iswap │└─────┘└───┘└─────┘│  iswap │┌───┐\n",
            "q_1: |0>┤ Sdg ├┤ H ├┤1       ├───────────────────┤1       ├┤ S ├\n",
            "        └─────┘└───┘└────────┘                   └────────┘└───┘\n"
          ]
        }
      ],
      "execution_count": 3,
      "metadata": {
        "ExecuteTime": {
          "end_time": "2019-08-19T17:09:55.343221Z",
          "start_time": "2019-08-19T17:09:55.332156Z"
        }
      }
    },
    {
      "cell_type": "markdown",
      "source": [
        "Note that we have assigned an optional *label* of `\"iswap\"` to the unitary when it is inserted. This allows us to identify this unitary in a Qiskit Aer `NoiseModel` so that we can add errors to these custom unitary gates in noisy circuit simulations."
      ],
      "metadata": {}
    },
    {
      "cell_type": "markdown",
      "source": [
        "We can confirm this circuit returns the correct output using the `Operator` class as a simulator for the circuit:"
      ],
      "metadata": {}
    },
    {
      "cell_type": "code",
      "source": [
        "# Simulate the unitary for the circuit using Operator:\n",
        "unitary = Operator(cx_circ)\n",
        "print(unitary)"
      ],
      "outputs": [
        {
          "output_type": "stream",
          "name": "stdout",
          "text": [
            "Operator([[1.+0.j 0.+0.j 0.+0.j 0.+0.j]\n",
            " [0.+0.j 0.+0.j 0.+0.j 1.+0.j]\n",
            " [0.+0.j 0.+0.j 1.+0.j 0.+0.j]\n",
            " [0.+0.j 1.+0.j 0.+0.j 0.+0.j]], input_dims=(2, 2), output_dims=(2, 2))\n"
          ]
        }
      ],
      "execution_count": 4,
      "metadata": {
        "ExecuteTime": {
          "end_time": "2019-08-19T17:09:58.954826Z",
          "start_time": "2019-08-19T17:09:58.948275Z"
        }
      }
    },
    {
      "cell_type": "markdown",
      "source": [
        "And to confirm the output is correct we can compute the average gate fidelity:"
      ],
      "metadata": {}
    },
    {
      "cell_type": "code",
      "source": [
        "f_ave = average_gate_fidelity(cx_op, unitary)\n",
        "print(\"Average Gate Fidelity: F = {:f}\".format(f_ave))"
      ],
      "outputs": [
        {
          "output_type": "stream",
          "name": "stdout",
          "text": [
            "Average Gate Fidelity: F = 1.000000\n"
          ]
        }
      ],
      "execution_count": 5,
      "metadata": {
        "ExecuteTime": {
          "end_time": "2019-08-19T17:10:01.198369Z",
          "start_time": "2019-08-19T17:10:01.184222Z"
        }
      }
    },
    {
      "cell_type": "markdown",
      "source": [
        "## Creating a custom unitary in a noise model\n",
        "\n",
        "The Qiskit Aer `QasmSimulator` supports simulation of arbitrary unitary operators directly as specified by the `\"unitary\"` in the basis gates."
      ],
      "metadata": {}
    },
    {
      "cell_type": "code",
      "source": [
        "'unitary' in QasmSimulator().configuration().basis_gates"
      ],
      "outputs": [
        {
          "output_type": "execute_result",
          "execution_count": 6,
          "data": {
            "text/plain": [
              "True"
            ]
          },
          "metadata": {}
        }
      ],
      "execution_count": 6,
      "metadata": {
        "ExecuteTime": {
          "end_time": "2019-08-19T17:10:03.174651Z",
          "start_time": "2019-08-19T17:10:03.168643Z"
        }
      }
    },
    {
      "cell_type": "markdown",
      "source": [
        "This allows us to add noise models to arbitrary unitaries in our simulation when we identify them using the optional `label` argument of `QuantumCircuit.unitary`.\n",
        "\n",
        "We will now do this by creating a `NoiseModel` that includes a quantum error channel on our custom iSWAP gate. For our example we will create a 2-qubit error consisting of two single-qubit amplitude damping channels with different damping parameters. For now we will assume all the other circuit instructions are ideal."
      ],
      "metadata": {}
    },
    {
      "cell_type": "code",
      "source": [
        "# Error parameters\n",
        "param_q0 = 0.05  # damping parameter for qubit-0\n",
        "param_q1 = 0.1   # damping parameter for qubit-1\n",
        "\n",
        "# Construct the error\n",
        "qerror_q0 = amplitude_damping_error(param_q0)\n",
        "qerror_q1 = amplitude_damping_error(param_q1)\n",
        "iswap_error = qerror_q1.tensor(qerror_q0)\n",
        "\n",
        "# Build the noise model by adding the error to the \"iswap\" gate\n",
        "noise_model = NoiseModel()\n",
        "noise_model.add_all_qubit_quantum_error(iswap_error, 'iswap')"
      ],
      "outputs": [],
      "execution_count": 7,
      "metadata": {
        "ExecuteTime": {
          "end_time": "2019-08-19T17:10:05.585654Z",
          "start_time": "2019-08-19T17:10:05.574669Z"
        }
      }
    },
    {
      "cell_type": "markdown",
      "source": [
        "Note that when we add an error to a custom label such as `\"iswap\"` the `NoiseModel` does not know what gate this label is supposed to apply to, so we must manually add the desired gate string to the noise model `basis_gates`. This ensures that the compiler will unroll to the correct basis gates for the noise model simulation. This can done using the `NoiseModel.add_basis_gates` function:"
      ],
      "metadata": {}
    },
    {
      "cell_type": "code",
      "source": [
        "noise_model.add_basis_gates(['unitary'])\n",
        "print(noise_model.basis_gates)"
      ],
      "outputs": [
        {
          "output_type": "stream",
          "name": "stdout",
          "text": [
            "['cx', 'id', 'u3', 'unitary']\n"
          ]
        }
      ],
      "execution_count": 8,
      "metadata": {
        "ExecuteTime": {
          "end_time": "2019-08-19T17:10:06.301854Z",
          "start_time": "2019-08-19T17:10:06.298595Z"
        }
      }
    },
    {
      "cell_type": "markdown",
      "source": [
        "By default the basis gates of a noise model are `['cx','id','u3']` plus any standard `QasmSimulator` basis gates that are added to the noise model."
      ],
      "metadata": {}
    },
    {
      "cell_type": "markdown",
      "source": [
        "## Simulating a custom unitary noise model"
      ],
      "metadata": {}
    },
    {
      "cell_type": "markdown",
      "source": [
        "Let us first take our previous CX circuit and add an initial Hadamard gate and final measurement to create a Bell-state preparation circuit that we may simulator on the `QasmSimulator` both for the ideal and noisy case:"
      ],
      "metadata": {}
    },
    {
      "cell_type": "code",
      "source": [
        "# Bell state circuit where iSWAPS should be inserted at barrier locations\n",
        "bell_circ = QuantumCircuit(2, 2, name='bell')\n",
        "bell_circ.h(0)\n",
        "bell_circ = bell_circ + cx_circ \n",
        "bell_circ.measure([0,1], [0,1])\n",
        "print(bell_circ)"
      ],
      "outputs": [
        {
          "output_type": "stream",
          "name": "stdout",
          "text": [
            "         ┌───┐ ┌─────┐┌────────┐┌─────┐┌───┐┌─────┐┌────────┐     ┌─┐   \n",
            "q_0: |0>─┤ H ├─┤ Sdg ├┤0       ├┤ Sdg ├┤ H ├┤ Sdg ├┤0       ├─────┤M├───\n",
            "        ┌┴───┴┐└┬───┬┘│  iswap │└─────┘└───┘└─────┘│  iswap │┌───┐└╥┘┌─┐\n",
            "q_1: |0>┤ Sdg ├─┤ H ├─┤1       ├───────────────────┤1       ├┤ S ├─╫─┤M├\n",
            "        └─────┘ └───┘ └────────┘                   └────────┘└───┘ ║ └╥┘\n",
            " c_0: 0 ═══════════════════════════════════════════════════════════╩══╬═\n",
            "                                                                      ║ \n",
            " c_1: 0 ══════════════════════════════════════════════════════════════╩═\n",
            "                                                                        \n"
          ]
        }
      ],
      "execution_count": 9,
      "metadata": {
        "ExecuteTime": {
          "end_time": "2019-08-19T17:10:26.234163Z",
          "start_time": "2019-08-19T17:10:26.224218Z"
        }
      }
    },
    {
      "cell_type": "markdown",
      "source": [
        "### Ideal output\n",
        "\n",
        "Let's first see the ideal output. Since this generates a Bell-state we expect two peaks for 00 and 11."
      ],
      "metadata": {}
    },
    {
      "cell_type": "code",
      "source": [
        "# Execute on the simulator without noise\n",
        "job = execute(bell_circ, QasmSimulator(),\n",
        "              basis_gates=noise_model.basis_gates)\n",
        "ideal_result = job.result()\n",
        "ideal_counts = ideal_result.get_counts(bell_circ)\n",
        "plot_histogram(ideal_counts, title='Ideal output for iSWAP bell-state preparation')"
      ],
      "outputs": [
        {
          "output_type": "execute_result",
          "execution_count": 10,
          "data": {
            "image/png": "[encoded data removed]",
            "text/plain": [
              "<Figure size 504x360 with 1 Axes>"
            ]
          },
          "metadata": {}
        }
      ],
      "execution_count": 10,
      "metadata": {
        "ExecuteTime": {
          "end_time": "2019-08-19T17:10:28.605669Z",
          "start_time": "2019-08-19T17:10:28.467516Z"
        }
      }
    },
    {
      "cell_type": "markdown",
      "source": [
        "### Noisy circuit execution\n",
        "\n",
        "Finally, let's now simulate it with our custom noise model. Since there is a small amplitude damping error on the two-qubit gates we expect small additional peaks for the 01 and 10 outcome probabilities."
      ],
      "metadata": {}
    },
    {
      "cell_type": "code",
      "source": [
        "# Execute on the simulator without noise\n",
        "job = execute(bell_circ, QasmSimulator(),\n",
        "              basis_gates=noise_model.basis_gates,\n",
        "              noise_model=noise_model)\n",
        "noise_result = job.result()\n",
        "noise_counts = noise_result.get_counts(bell_circ)\n",
        "plot_histogram(noise_counts, title='Noisy output for iSWAP bell-state preparation')"
      ],
      "outputs": [
        {
          "output_type": "execute_result",
          "execution_count": 11,
          "data": {
            "image/png": "[encoded data removed]",
            "text/plain": [
              "<Figure size 504x360 with 1 Axes>"
            ]
          },
          "metadata": {}
        }
      ],
      "execution_count": 11,
      "metadata": {
        "ExecuteTime": {
          "end_time": "2019-08-19T17:10:31.078094Z",
          "start_time": "2019-08-19T17:10:30.946144Z"
        }
      }
    },
    {
      "cell_type": "code",
      "source": [
        "import qiskit.tools.jupyter\n",
        "%qiskit_version_table\n",
        "%qiskit_copyright"
      ],
      "outputs": [
        {
          "output_type": "display_data",
          "data": {
            "text/html": [
              "<h3>Version Information</h3><table><tr><th>Qiskit Software</th><th>Version</th></tr><tr><td>Qiskit</td><td>None</td></tr><tr><td>Terra</td><td>0.12.0.dev0+c028a28</td></tr><tr><td>Aer</td><td>0.4.0</td></tr><tr><td>Ignis</td><td>0.3.0.dev0+829207f</td></tr><tr><td>Aqua</td><td>0.7.0.dev0+2776c5d</td></tr><tr><td>IBM Q Provider</td><td>0.4.6rc1</td></tr><tr><th>System information</th></tr><tr><td>Python</td><td>3.7.3 | packaged by conda-forge | (default, Jul  1 2019, 14:38:56) \n",
              "[Clang 4.0.1 (tags/RELEASE_401/final)]</td></tr><tr><td>OS</td><td>Darwin</td></tr><tr><td>CPUs</td><td>6</td></tr><tr><td>Memory (Gb)</td><td>32.0</td></tr><tr><td colspan='2'>Wed Feb 05 11:43:27 2020 EST</td></tr></table>"
            ],
            "text/plain": [
              "<IPython.core.display.HTML object>"
            ]
          },
          "metadata": {}
        },
        {
          "output_type": "display_data",
          "data": {
            "text/html": [
              "<div style='width: 100%; background-color:#d5d9e0;padding-left: 10px; padding-bottom: 10px; padding-right: 10px; padding-top: 5px'><h3>This code is a part of Qiskit</h3><p>&copy; Copyright IBM 2017, 2020.</p><p>This code is licensed under the Apache License, Version 2.0. You may<br>obtain a copy of this license in the LICENSE.txt file in the root directory<br> of this source tree or at http://www.apache.org/licenses/LICENSE-2.0.<p>Any modifications or derivative works of this code must retain this<br>copyright notice, and modified files need to carry a notice indicating<br>that they have been altered from the originals.</p></div>"
            ],
            "text/plain": [
              "<IPython.core.display.HTML object>"
            ]
          },
          "metadata": {}
        }
      ],
      "execution_count": 12,
      "metadata": {
        "ExecuteTime": {
          "end_time": "2019-08-19T17:10:53.298595Z",
          "start_time": "2019-08-19T17:10:53.290949Z"
        }
      }
    },
    {
      "cell_type": "code",
      "source": [],
      "outputs": [],
      "execution_count": null,
      "metadata": {}
    }
  ],
  "metadata": {
    "kernelspec": {
      "display_name": "Python 3",
      "language": "python",
      "name": "python3"
    },
    "language_info": {
      "codemirror_mode": {
        "name": "ipython",
        "version": 3
      },
      "file_extension": ".py",
      "mimetype": "text/x-python",
      "name": "python",
      "nbconvert_exporter": "python",
      "pygments_lexer": "ipython3",
      "version": "3.7.5"
    },
    "varInspector": {
      "cols": {
        "lenName": 16,
        "lenType": 16,
        "lenVar": 40
      },
      "kernels_config": {
        "python": {
          "delete_cmd_postfix": "",
          "delete_cmd_prefix": "del ",
          "library": "var_list.py",
          "varRefreshCmd": "print(var_dic_list())"
        },
        "r": {
          "delete_cmd_postfix": ") ",
          "delete_cmd_prefix": "rm(",
          "library": "var_list.r",
          "varRefreshCmd": "cat(var_dic_list()) "
        }
      },
      "types_to_exclude": [
        "module",
        "function",
        "builtin_function_or_method",
        "instance",
        "_Feature"
      ],
      "window_display": false
    },
    "nteract": {
      "version": "0.22.0"
    }
  },
  "nbformat": 4,
  "nbformat_minor": 2
}
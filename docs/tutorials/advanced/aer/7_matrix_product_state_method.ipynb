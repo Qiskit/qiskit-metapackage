{
  "cells": [
    {
      "cell_type": "markdown",
      "source": [
        "# QasmSimulator: matrix product state simulation method\n",
        "\n",
        "## Simulation methods\n",
        "The `QasmSimulator` has several simulation methods including `statevector`, `stabilizer`, `extended_stabilizer` and `matrix_product_state`. Each of these determines the internal representation of the quantum circuit and the algorithms used to process the quantum operations. They each have advantages and disadvantages, and choosing the best method is a matter of investigation.\n",
        "In this tutorial, we focus on the `matrix product state simulation method`.\n"
      ],
      "metadata": {}
    },
    {
      "cell_type": "markdown",
      "source": [
        "## Matrix product state simulation method\n",
        "This simulation method is based on the concept of `matrix product states`. This structure was initially proposed in the paper *Efficient classical simulation of slightly entangled quantum computations* by Vidal in https://arxiv.org/abs/quant-ph/0301063. There are additional papers that describe the structure in more detail, for example *The density-matrix renormalization group in the age of matrix product states* by Schollwoeck https://arxiv.org/abs/1008.3477."
      ],
      "metadata": {}
    },
    {
      "cell_type": "markdown",
      "source": [
        "A pure quantum state is usually described as a state vector, by the expression $|\\psi\\rangle =  \\sum_{i_1=0}^1 {\\ldots} \\sum_{i_n=0}^1 c_{i_1 \\ldots i_n} |i_i\\rangle {\\otimes} {\\ldots} {\\otimes} |i_n\\rangle$.\n",
        "\n",
        "The state vector representation implies an exponential size representation, regardless of the actual circuit. Every quantum gate operating on this representation requires exponential time and memory.\n",
        "\n",
        "The matrix product state (MPS) representation offers a local representation, in the form:\n",
        "$\\Gamma^{[1]} \\lambda^{[1]} \\Gamma^{[2]} \\lambda^{[2]}\\ldots \\Gamma^{[1]} \\lambda^{[n-1]} \\Gamma^{[n]}$, such that all the information contained in the $c_{i_1 \\ldots i_n}$, can be generated out of the MPS representation.\n"
      ],
      "metadata": {}
    },
    {
      "cell_type": "markdown",
      "source": [
        "Every $\\Gamma^{[i]}$ is a tensor of complex numbers that represents qubit $i$. Every $\\lambda^{[i]}$ is a matrix of real numbers that is used to normalize the amplitudes of qubits $i$ and $i+1$. Single-qubit gates operate only on the relevant tensor. \n",
        "\n",
        "Two-qubit gates operate on consecutive qubits $i$ and $i+1$. This involves a tensor-contract operation over $\\lambda^{[i-1]}$, $\\Gamma^{[i-1]}$, $\\lambda^{[i]}$, $\\Gamma^{[i+1]}$ and  $\\lambda^{[i+1]}$, that creates a single tensor. We apply the gate to this tensor, and then decompose back to the original structure. This operation may increase the size of the respective tensors. Gates that involve two qubits that are not consecutive, require a series of swap gates to bring the two qubits next to each other and then the reverse swaps. \n",
        "\n",
        "In the worst case, the tensors may grow exponentially. However, the size of the overall structure remains 'small' for circuits that do not have 'many' two-qubit gates. This allows much more efficient operations in circuits with relatively 'low' entanglement. Characterizing when to use this method over other methods is a subject of current research."
      ],
      "metadata": {}
    },
    {
      "cell_type": "markdown",
      "source": [
        "## Using the matrix product state simulation method\n",
        "The matrix product state simulation method is invoked in the `QasmSimulator` by setting the `simulation_method`. \n",
        "Other than that, all operations are controlled by the `QasmSimulator` itself, as in the following example:"
      ],
      "metadata": {}
    },
    {
      "cell_type": "code",
      "source": [
        "import numpy as np\n",
        "\n",
        "# Import Qiskit\n",
        "from qiskit import QuantumCircuit, QuantumRegister, ClassicalRegister\n",
        "from qiskit import Aer, execute\n",
        "from qiskit.providers.aer import QasmSimulator\n",
        "\n",
        "# Construct quantum circuit\n",
        "circ = QuantumCircuit(2, 2)\n",
        "circ.h(0)\n",
        "circ.cx(0, 1)\n",
        "circ.measure([0,1], [0,1])\n",
        "\n",
        "# Select the QasmSimulator from the Aer provider\n",
        "simulator = Aer.get_backend('qasm_simulator')\n",
        "\n",
        "# Define the simulation method\n",
        "backend_opts_mps = {\"method\":\"matrix_product_state\"}\n",
        "\n",
        "# Execute and get counts, using the matrix_product_state method\n",
        "result = execute(circ, simulator, backend_options=backend_opts_mps).result()\n",
        "counts = result.get_counts(circ)\n",
        "counts"
      ],
      "outputs": [
        {
          "output_type": "execute_result",
          "execution_count": 1,
          "data": {
            "text/plain": [
              "{'11': 489, '00': 535}"
            ]
          },
          "metadata": {}
        }
      ],
      "execution_count": 1,
      "metadata": {
        "ExecuteTime": {
          "end_time": "2019-08-19T17:28:36.535599Z",
          "start_time": "2019-08-19T17:28:36.463583Z"
        },
        "scrolled": true
      }
    },
    {
      "cell_type": "markdown",
      "source": [
        "To see the internal state vector of the circuit, we can import the snapshot files:"
      ],
      "metadata": {}
    },
    {
      "cell_type": "code",
      "source": [
        "from qiskit.extensions.simulator import Snapshot\n",
        "from qiskit.extensions.simulator.snapshot import snapshot"
      ],
      "outputs": [],
      "execution_count": 2,
      "metadata": {
        "ExecuteTime": {
          "end_time": "2019-08-19T17:28:20.888531Z",
          "start_time": "2019-08-19T17:28:20.878023Z"
        }
      }
    },
    {
      "cell_type": "code",
      "source": [
        "circ = QuantumCircuit(2, 2)\n",
        "circ.h(0)\n",
        "circ.cx(0, 1)\n",
        "\n",
        "# Define a snapshot that shows the current state vector\n",
        "circ.snapshot('my_sv', snapshot_type='statevector')\n",
        "circ.measure([0,1], [0,1])\n",
        "\n",
        "# Execute\n",
        "job_sim = execute([circ], QasmSimulator(), backend_options=backend_opts_mps)\n",
        "result = job_sim.result()\n",
        "res = result.results\n",
        "\n",
        "#print the state vector\n",
        "statevector = res[0].data.snapshots.statevector\n",
        "statevector['my_sv']"
      ],
      "outputs": [
        {
          "output_type": "execute_result",
          "execution_count": 3,
          "data": {
            "text/plain": [
              "[[[0.7071067811865475, 0.0],\n",
              "  [0.0, 0.0],\n",
              "  [0.0, 0.0],\n",
              "  [0.7071067811865475, 0.0]]]"
            ]
          },
          "metadata": {}
        }
      ],
      "execution_count": 3,
      "metadata": {
        "ExecuteTime": {
          "end_time": "2019-08-19T17:28:31.715708Z",
          "start_time": "2019-08-19T17:28:31.646419Z"
        }
      }
    },
    {
      "cell_type": "code",
      "source": [
        "result.get_counts()"
      ],
      "outputs": [
        {
          "output_type": "execute_result",
          "execution_count": 4,
          "data": {
            "text/plain": [
              "{'11': 517, '00': 507}"
            ]
          },
          "metadata": {}
        }
      ],
      "execution_count": 4,
      "metadata": {
        "ExecuteTime": {
          "end_time": "2019-08-19T17:28:26.871779Z",
          "start_time": "2019-08-19T17:28:26.866124Z"
        }
      }
    },
    {
      "cell_type": "markdown",
      "source": [
        "Running circuits using the matrix product state simulation method can be fast, relative to other methods. However, if we generate the state vector during the execution, then the conversion to state vector is, of course, exponential in memory and time, and therefore we don't benefit from using this method. We can benefit if we only do operations that don't require printing the full state vector. For example, if we run a circuit and then take measurement. The circuit below has 200 qubits. We create an `EPR state` involving all these qubits. Although this state is highly entangled, it is handled well by the matrix product state method, because there are effectively only two states. \n",
        "\n",
        "We can handle more qubits than this, but execution may take a few minutes. Try running a similar circuit with 500 qubits! Or maybe even 1000 (you can get a cup of coffee while waiting)."
      ],
      "metadata": {}
    },
    {
      "cell_type": "code",
      "source": [
        "num_qubits = 50\n",
        "qr = QuantumRegister(num_qubits)\n",
        "cr = ClassicalRegister(num_qubits)\n",
        "circ = QuantumCircuit(qr, cr)\n",
        "\n",
        "# Create EPR state\n",
        "circ.h(qr[0])\n",
        "for i in range (0,num_qubits-1):\n",
        "    circ.cx(qr[i], qr[i+1])\n",
        "\n",
        "# Measure\n",
        "circ.measure(qr, cr)\n",
        "\n",
        "job_sim = execute([circ], QasmSimulator(), backend_options=backend_opts_mps)\n",
        "result = job_sim.result()\n",
        "print(\"Time taken: {} sec\".format(result.time_taken))\n",
        "result.get_counts()"
      ],
      "outputs": [
        {
          "output_type": "stream",
          "name": "stdout",
          "text": [
            "Time taken: 1.5781288146972656 sec\n"
          ]
        },
        {
          "output_type": "execute_result",
          "execution_count": 6,
          "data": {
            "text/plain": [
              "{'00000000000000000000000000000000000000000000000000': 496,\n",
              " '11111111111111111111111111111111111111111111111111': 528}"
            ]
          },
          "metadata": {}
        }
      ],
      "execution_count": 6,
      "metadata": {
        "ExecuteTime": {
          "end_time": "2019-08-19T17:29:38.913752Z",
          "start_time": "2019-08-19T17:29:04.306048Z"
        },
        "scrolled": true
      }
    },
    {
      "cell_type": "code",
      "source": [
        "import qiskit.tools.jupyter\n",
        "%qiskit_version_table\n",
        "%qiskit_copyright"
      ],
      "outputs": [
        {
          "output_type": "display_data",
          "data": {
            "text/html": [
              "<h3>Version Information</h3><table><tr><th>Qiskit Software</th><th>Version</th></tr><tr><td>Qiskit</td><td>0.14.0</td></tr><tr><td>Terra</td><td>0.11.0</td></tr><tr><td>Aer</td><td>0.3.4</td></tr><tr><td>Ignis</td><td>0.2.0</td></tr><tr><td>Aqua</td><td>0.6.1</td></tr><tr><td>IBM Q Provider</td><td>0.4.4</td></tr><tr><th>System information</th></tr><tr><td>Python</td><td>3.7.4 (default, Aug  9 2019, 18:34:13) [MSC v.1915 64 bit (AMD64)]</td></tr><tr><td>OS</td><td>Windows</td></tr><tr><td>CPUs</td><td>2</td></tr><tr><td>Memory (Gb)</td><td>7.9987335205078125</td></tr><tr><td colspan='2'>Tue Dec 10 16:03:51 2019 Eastern Standard Time</td></tr></table>"
            ],
            "text/plain": [
              "<IPython.core.display.HTML object>"
            ]
          },
          "metadata": {}
        },
        {
          "output_type": "display_data",
          "data": {
            "text/html": [
              "<div style='width: 100%; background-color:#d5d9e0;padding-left: 10px; padding-bottom: 10px; padding-right: 10px; padding-top: 5px'><h3>This code is a part of Qiskit</h3><p>&copy; Copyright IBM 2017, 2019.</p><p>This code is licensed under the Apache License, Version 2.0. You may<br>obtain a copy of this license in the LICENSE.txt file in the root directory<br> of this source tree or at http://www.apache.org/licenses/LICENSE-2.0.<p>Any modifications or derivative works of this code must retain this<br>copyright notice, and modified files need to carry a notice indicating<br>that they have been altered from the originals.</p></div>"
            ],
            "text/plain": [
              "<IPython.core.display.HTML object>"
            ]
          },
          "metadata": {}
        }
      ],
      "execution_count": 7,
      "metadata": {
        "ExecuteTime": {
          "end_time": "2019-08-19T17:39:56.328435Z",
          "start_time": "2019-08-19T17:39:56.320197Z"
        }
      }
    },
    {
      "cell_type": "code",
      "source": [],
      "outputs": [],
      "execution_count": null,
      "metadata": {}
    }
  ],
  "metadata": {
    "kernelspec": {
      "display_name": "Python 3",
      "language": "python",
      "name": "python3"
    },
    "language_info": {
      "codemirror_mode": {
        "name": "ipython",
        "version": 3
      },
      "file_extension": ".py",
      "mimetype": "text/x-python",
      "name": "python",
      "nbconvert_exporter": "python",
      "pygments_lexer": "ipython3",
      "version": "3.7.4"
    },
    "varInspector": {
      "cols": {
        "lenName": 16,
        "lenType": 16,
        "lenVar": 40
      },
      "kernels_config": {
        "python": {
          "delete_cmd_postfix": "",
          "delete_cmd_prefix": "del ",
          "library": "var_list.py",
          "varRefreshCmd": "print(var_dic_list())"
        },
        "r": {
          "delete_cmd_postfix": ") ",
          "delete_cmd_prefix": "rm(",
          "library": "var_list.r",
          "varRefreshCmd": "cat(var_dic_list()) "
        }
      },
      "types_to_exclude": [
        "module",
        "function",
        "builtin_function_or_method",
        "instance",
        "_Feature"
      ],
      "window_display": false
    },
    "nteract": {
      "version": "0.22.0"
    }
  },
  "nbformat": 4,
  "nbformat_minor": 2
}
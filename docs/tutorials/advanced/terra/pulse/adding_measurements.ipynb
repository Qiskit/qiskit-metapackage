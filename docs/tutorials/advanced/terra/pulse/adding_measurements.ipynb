{
 "cells": [
  {
   "cell_type": "markdown",
   "metadata": {},
   "source": [
    "# Adding measurements to `Schedule`s\n",
    "\n",
    "Measurement is clearly a very important part of building a Pulse schedule -- this is required to get the results of our program execution! The powerful low-level control we are granted by Pulse gives us more freedom than `QuantumCircuit`s in specifying how the measurement should be done, enabling you to explore readout error mitigation. This power of course comes with responsibility: we have to understand how measurement works, and accomodate certain hardware constraints.\n",
    "\n",
    "On this page, we will explore in depth how to create measurements, using several different approaches of increasing complexity.\n",
    "\n",
    "**Note: Pulse allows you to receive raw, kerneled, and disciminated readout data (whereas circuits will only return discriminated data). Documentation for these options can be found here-COMING SOON.**\n",
    "\n",
    "### Adding a backend-default measurement with `measure`\n",
    "To add measurements as easily to `Schedule`s as to `QuantumCircuit`s, you just have to know which qubits you want to measure (below, qubits 0 and 1) and have a OpenPulse-enabled `backend`:\n",
    "\n",
    "```\n",
    "# Appending a measurement schedule to a Schedule, sched\n",
    "from qiskit.scheduler import measure\n",
    "sched += measure([0, 1], backend) << sched.duration\n",
    "```\n",
    "The `backend` contains a default definition for measurement, which is tailored to the qubits you are measuring.\n",
    "\n",
    "### Basic measurement pattern and `measure_all`\n",
    "Let's use the default measurement feature to inspect a measurement and learn what each pulse does. Below, we use `measure_all`, which measures all the qubits on the backend."
   ]
  },
  {
   "cell_type": "code",
   "execution_count": null,
   "metadata": {},
   "outputs": [],
   "source": [
    "from qiskit import IBMQ\n",
    "from qiskit.pulse import Schedule\n",
    "from qiskit.scheduler import measure_all\n",
    "from qiskit.test.mock import FakeAlmaden\n",
    "\n",
    "backend = FakeAlmaden()"
   ]
  },
  {
   "cell_type": "code",
   "execution_count": null,
   "metadata": {},
   "outputs": [],
   "source": [
    "sched = Schedule(name=\"Measurement scheduling example\")\n",
    "sched += measure_all(backend)\n",
    "\n",
    "sched.draw()"
   ]
  },
  {
   "cell_type": "markdown",
   "metadata": {},
   "source": [
    "Each qubit has two channels related to readout, as we see above. These are the readout transmit `MeasureChannel`s, and the readout receive `AcquireChannel`s. In superconducting qubit architectures, qubits are coupled to readout resonators. The `MeasureChannel` and `AcquireChannel`s label signal lines which connect to the readout resonator. The coupling between the qubit and the readout resonator hybridizes their state, so when a stimulus pulse is sent to the readout resonantor, the reflected pulse is dependent on the state of the qubit. The acquisition \"pulse\" is truly a trigger specifying to the analog-to-digital converter (ADC) to begin collecting data, and for how long. That data is used to classify the qubit state.\n",
    "\n",
    "### Specifying classical memory slots\n",
    "\n",
    "If you would like to specify where your measurement results go, there is an option for that in `measure`, called `qubit_mem_slots`. It takes a dictionary mapping qubit indices to classical memory slots. For example, if you want to measure qubit 0 into memory slot 1, you would do this:"
   ]
  },
  {
   "cell_type": "code",
   "execution_count": null,
   "metadata": {},
   "outputs": [],
   "source": [
    "from qiskit.scheduler import measure\n",
    "\n",
    "sched = measure(qubits=[0], backend=backend, qubit_mem_slots={0: 1})"
   ]
  },
  {
   "cell_type": "markdown",
   "metadata": {},
   "source": [
    "This would be equivalent to the circuit measurement `circuit.measure(qubit_reg[0], classical_reg[1])`."
   ]
  },
  {
   "cell_type": "markdown",
   "metadata": {},
   "source": [
    "## Build a measurement sequence from pulses\n",
    "\n",
    "Rather than use the default measurements provided by the backend, we can also build the measurement sequence up as a basic Pulse schedule. The example below is similar to a typical measurement on IBM systems.\n",
    "\n",
    "First, we'll build the measurement stimulus pulses for each of the qubits we want to measure. Below, we use a Gaussian square parametric pulse."
   ]
  },
  {
   "cell_type": "code",
   "execution_count": null,
   "metadata": {},
   "outputs": [],
   "source": [
    "from qiskit.pulse import MeasureChannel, AcquireChannel, MemorySlot, GaussianSquare, Acquire\n",
    "\n",
    "# Duration (in number of cycles) for readout \n",
    "duration = 16000\n",
    "\n",
    "# Stimulus pulses for qubits 0 and 1\n",
    "measure_tx = GaussianSquare(duration=duration, amp=0.2, sigma=10, width=duration - 50)(MeasureChannel(0))\n",
    "measure_tx += GaussianSquare(duration=duration, amp=0.2, sigma=10, width=duration - 50)(MeasureChannel(1))"
   ]
  },
  {
   "cell_type": "markdown",
   "metadata": {},
   "source": [
    "Before we build the acquisition pulses, we need to understand the measurement map.\n",
    "\n",
    "#### Acquiring qubits: the measurement map `meas_map`\n",
    "\n",
    "Due to control rack hardware constraints, some qubits may need to be acquired together. This can be the case for qubits whose readout channels are multiplexed. Any OpenPulse-enabled backend will provide a `meas_map` to notify the user of this.\n",
    "\n",
    "For instance, if we see this for a 5-qubit `backend`\n",
    "\n",
    "```\n",
    "backend.configuration().meas_map\n",
    "\n",
    "Out: [[0, 1, 2, 3, 4]]\n",
    "```\n",
    "\n",
    "then we know that all the qubits on this device must be acquired together. On the other hand, this output\n",
    "\n",
    "```\n",
    "Out: [[0], [1], [2], [3, 4]]\n",
    "```\n",
    "\n",
    "tells us that qubits 0, 1 and 2 can be acquired independently, but qubits 3 and 4 must be acquired together.\n",
    "\n",
    "When building up a pulse schedule, be sure to add all the acquire pulses required by the backend you plan to run on. This is validated at assemble time.\n",
    "\n",
    "Getting back to our example, let's imagine we plan to run on a backend with this measurement map: `[[0, 1, 2]]`. Now we can build the acquisition pulses. This is done with the `Acquire` command, which takes only a duration. We specify the channels and memory slots to acquire on."
   ]
  },
  {
   "cell_type": "code",
   "execution_count": null,
   "metadata": {},
   "outputs": [],
   "source": [
    "# Acquisition instructions\n",
    "acquire = Acquire(duration)\n",
    "measure_rx = acquire(AcquireChannel(0), MemorySlot(0))\n",
    "measure_rx += acquire(AcquireChannel(1), MemorySlot(1))"
   ]
  },
  {
   "cell_type": "markdown",
   "metadata": {},
   "source": [
    "Finally, we just combine the two parts together. Every instruction is on a different channel, so appending schedules the instructions at time 0. The `measure_schedule` can then be added to the end of any Pulse schedule to measure qubits 0 and 1 into classical memory slots 0 and 1."
   ]
  },
  {
   "cell_type": "code",
   "execution_count": null,
   "metadata": {},
   "outputs": [],
   "source": [
    "measure_sched = measure_tx + measure_rx\n",
    "\n",
    "measure_sched.draw()"
   ]
  },
  {
   "cell_type": "code",
   "execution_count": null,
   "metadata": {},
   "outputs": [],
   "source": [
    "import qiskit.tools.jupyter\n",
    "%qiskit_version_table\n",
    "%qiskit_copyright"
   ]
  }
 ],
 "metadata": {
  "kernelspec": {
   "display_name": "Python 3",
   "language": "python",
   "name": "python3"
  },
  "language_info": {
   "codemirror_mode": {
    "name": "ipython",
    "version": 3
   },
   "file_extension": ".py",
   "mimetype": "text/x-python",
   "name": "python",
   "nbconvert_exporter": "python",
   "pygments_lexer": "ipython3",
   "version": "3.7.6"
  },
  "varInspector": {
   "cols": {
    "lenName": 16,
    "lenType": 16,
    "lenVar": 40
   },
   "kernels_config": {
    "python": {
     "delete_cmd_postfix": "",
     "delete_cmd_prefix": "del ",
     "library": "var_list.py",
     "varRefreshCmd": "print(var_dic_list())"
    },
    "r": {
     "delete_cmd_postfix": ") ",
     "delete_cmd_prefix": "rm(",
     "library": "var_list.r",
     "varRefreshCmd": "cat(var_dic_list()) "
    }
   },
   "types_to_exclude": [
    "module",
    "function",
    "builtin_function_or_method",
    "instance",
    "_Feature"
   ],
   "window_display": false
  }
 },
 "nbformat": 4,
 "nbformat_minor": 2
}

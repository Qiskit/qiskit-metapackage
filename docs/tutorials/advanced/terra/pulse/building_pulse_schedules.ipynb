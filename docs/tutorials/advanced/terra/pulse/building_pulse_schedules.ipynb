{
 "cells": [
  {
   "cell_type": "markdown",
   "metadata": {},
   "source": [
    "# Building Pulse Schedules\n",
    "\n",
    "Building `Schedule`s is very straightforward, yet there are a few ways to compose them. We're going to explore these different methods here.\n",
    "\n",
    "Tip: `Instruction`s can be treated just like `Schedule`s -- that means all the methods we use here work equally well for composing `Schedule`s with `Schedule`s, `Instruction`s with `Instruction`s, or between the two.\n",
    "\n",
    "As the basis for trying out the composition methods, let's initialize a couple dummy `Schedule`s."
   ]
  },
  {
   "cell_type": "code",
   "execution_count": null,
   "metadata": {},
   "outputs": [],
   "source": [
    "from qiskit.pulse import Schedule, ConstantPulse, Delay, DriveChannel\n",
    "\n",
    "sched_a = Schedule(name=\"A\")\n",
    "sched_b = Schedule(name=\"B\")"
   ]
  },
  {
   "cell_type": "markdown",
   "metadata": {},
   "source": [
    "### `insert` or `|`\n",
    "\n",
    "The `insert` method schedules an `Instruction` or `Schedule` at a particular time. Let's use it to give each of our schedules a different instruction.\n",
    "\n",
    "The insert schedule method overloads the `|` (or) operator for `Schedule`s, so we will use this special syntax on schedule `B`. When using this syntactic sugar, the `time` argument is implicitly zero."
   ]
  },
  {
   "cell_type": "code",
   "execution_count": null,
   "metadata": {},
   "outputs": [],
   "source": [
    "sched_a = sched_a.insert(0, ConstantPulse(duration=5, amp=1)(DriveChannel(0)))\n",
    "sched_b |= ConstantPulse(duration=5, amp=-1)(DriveChannel(0))\n",
    "\n",
    "sched_a.draw()"
   ]
  },
  {
   "cell_type": "markdown",
   "metadata": {},
   "source": [
    "### `shift` or `<<`\n",
    "\n",
    "Sometimes we need to offset one schedule from `time=0`. For instance, when using `|`, we use `shift` to add an instruction at a time besides zero."
   ]
  },
  {
   "cell_type": "code",
   "execution_count": null,
   "metadata": {},
   "outputs": [],
   "source": [
    "sched_a |= ConstantPulse(duration=5, amp=0.5)(DriveChannel(0)).shift(10)\n",
    "sched_b |= ConstantPulse(duration=5, amp=-0.5)(DriveChannel(0)) << 10\n",
    "\n",
    "sched_b.draw()"
   ]
  },
  {
   "cell_type": "markdown",
   "metadata": {},
   "source": [
    "Let's see how we can use `insert` to compose schedules `A` and `B` together."
   ]
  },
  {
   "cell_type": "code",
   "execution_count": null,
   "metadata": {},
   "outputs": [],
   "source": [
    "sched_a_and_b = sched_a.insert(20, sched_b)  # A followed by B at time 20\n",
    "sched_b_and_a = sched_a | sched_b << 20      # B followed by A at time 20\n",
    "\n",
    "sched_a_and_b.draw()"
   ]
  },
  {
   "cell_type": "markdown",
   "metadata": {},
   "source": [
    "### `append` or `+`\n",
    "\n",
    "The `append` method is like `insert`, but the insertion time is determined for us. The `Instruction` or `Schedule` being added will begin when all the channels common to the two become free. If they contain no common channels, then the `Schedule` will be appended at `time=0`. In psuedocode:\n",
    "\n",
    "```\n",
    "time = 0\n",
    "for channel in intersection(original_sched_channels, appended_sched_channels):\n",
    "    time = max(time, original_sched.duration(channel))\n",
    "```\n",
    "\n",
    "The append schedule method overloads the `+` (add) operator for Schedules.\n",
    "\n",
    "Let's continue with schedule `A` and schedule `B`. Remember that they both have instructions scheduled on the same channel, `DriveChannel(0)`. Schedule `A` contains positive amplitude pulses, and schedule `B` contains negative amplitude pulses."
   ]
  },
  {
   "cell_type": "code",
   "execution_count": null,
   "metadata": {},
   "outputs": [],
   "source": [
    "sched_a_plus_b = sched_a.append(sched_b)\n",
    "\n",
    "sched_a_plus_b.draw()"
   ]
  },
  {
   "cell_type": "markdown",
   "metadata": {},
   "source": [
    "Let's see what happens when there are no common channels.\n",
    "\n",
    "Warning: Common channels is not the same as common qubits. Measurements require different channels than gate operations, even on one qubit. If you simply append a measurement to a schedule, you'll likely schedule your measurement at `time=0`, not what you were expecting! Instead, use the shift operation, with `schedule.duration` as the time argument."
   ]
  },
  {
   "cell_type": "code",
   "execution_count": null,
   "metadata": {},
   "outputs": [],
   "source": [
    "sched_a_plus_c = sched_a + ConstantPulse(duration=20, amp=0.2)(DriveChannel(1))\n",
    "\n",
    "sched_a_plus_c.draw()"
   ]
  },
  {
   "cell_type": "markdown",
   "metadata": {},
   "source": [
    "This time, the new instruction being appended was added at `time=0`, because it did not have any instructions on `DriveChannel(0)`.\n",
    "\n",
    "Be wary: `append` only \"slides\" the appended schedule into the original around channels that are not common between them. The following example demonstrates this point."
   ]
  },
  {
   "cell_type": "code",
   "execution_count": null,
   "metadata": {},
   "outputs": [],
   "source": [
    "sched_d = ConstantPulse(duration=20, amp=-0.2)(DriveChannel(0)) \\\n",
    "          + (ConstantPulse(duration=10, amp=-0.2)(DriveChannel(1)) << 10)\n",
    "\n",
    "(sched_a_plus_c + sched_d).draw()"
   ]
  },
  {
   "cell_type": "markdown",
   "metadata": {},
   "source": [
    "Congrats, you've mastered schedule composition!"
   ]
  },
  {
   "cell_type": "code",
   "execution_count": null,
   "metadata": {},
   "outputs": [],
   "source": [
    "import qiskit.tools.jupyter\n",
    "%qiskit_version_table\n",
    "%qiskit_copyright"
   ]
  }
 ],
 "metadata": {
  "kernelspec": {
   "display_name": "Python 3",
   "language": "python",
   "name": "python3"
  },
  "language_info": {
   "codemirror_mode": {
    "name": "ipython",
    "version": 3
   },
   "file_extension": ".py",
   "mimetype": "text/x-python",
   "name": "python",
   "nbconvert_exporter": "python",
   "pygments_lexer": "ipython3",
   "version": "3.7.6"
  },
  "varInspector": {
   "cols": {
    "lenName": 16,
    "lenType": 16,
    "lenVar": 40
   },
   "kernels_config": {
    "python": {
     "delete_cmd_postfix": "",
     "delete_cmd_prefix": "del ",
     "library": "var_list.py",
     "varRefreshCmd": "print(var_dic_list())"
    },
    "r": {
     "delete_cmd_postfix": ") ",
     "delete_cmd_prefix": "rm(",
     "library": "var_list.r",
     "varRefreshCmd": "cat(var_dic_list()) "
    }
   },
   "types_to_exclude": [
    "module",
    "function",
    "builtin_function_or_method",
    "instance",
    "_Feature"
   ],
   "window_display": false
  }
 },
 "nbformat": 4,
 "nbformat_minor": 2
}

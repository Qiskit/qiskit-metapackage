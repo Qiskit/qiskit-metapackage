{
 "cells": [
  {
   "cell_type": "markdown",
   "metadata": {},
   "source": [
    "# Obtaining information about your `backend`\n",
    "\n",
    "#### _Note: All the attributes of the backend are described in detail in the [Qiskit Backend Specifications](https://arxiv.org/pdf/1809.03452.pdf). This page reviews a subset of the spec._\n",
    "\n",
    "Programming a quantum computer at the microwave pulse level requires more information about the device than is required at the circuit level. A quantum circuit is built for an abstract quantum computer -- it will yield the same quantum state on any quantum computer (except for varying performance levels). A pulse schedule, on the other hand, is so specific to the device, that running one program on two different backends is not expected to have the same result, even on perfectly noiseless systems.\n",
    "\n",
    "As a basic example, imagine a drive pulse `q0_X180` calibrated on qubit 0 to enact an $X180$ pulse, which flips the state of qubit 0. If we use the samples from that pulse on qubit 1 on the same device, or qubit 0 on another device, we do not know what the resulting state will be -- but we can be pretty sure it won't be an $X180$ operation. The qubits are each unique, with various drive coupling strengths. If we have specified a frequency for the drive pulse, it's very probable that pulse would have little effect on another qubit, which has its own resonant frequency.\n",
    "\n",
    "With that, we have motivated why information from the backend may be very useful at times for building Pulse schedules. The information included in a `backend` is broken into three main parts:\n",
    "\n",
    " - [**Configuration**](#Configuration): static backend features\n",
    " - [**Properties**](#Properties): measured and reported backend characteristics\n",
    " - [**Defaults**](#Defaults): default settings for the OpenPulse-enabled backend\n",
    " \n",
    "which are each covered in the following sections. While all three of these contain interesting data for Pulse users, the defaults are _only_ provided for backends enabled with OpenPulse.\n",
    "\n",
    "The first thing you'll need to do is grab a backend to inspect. Here we use a mocked backend that contains a snapshot of data from the real OpenPulse-enabled backend."
   ]
  },
  {
   "cell_type": "code",
   "execution_count": 1,
   "metadata": {},
   "outputs": [],
   "source": [
    "from qiskit.test.mock import FakeAlmaden\n",
    "\n",
    "backend = FakeAlmaden()"
   ]
  },
  {
   "cell_type": "markdown",
   "metadata": {},
   "source": [
    "## Configuration\n",
    "\n",
    "The configuration is where you'll find data about the static setup of the device, such as its name, version, the number of qubits, and the types of features it supports.\n",
    "\n",
    "Let's build a description of our backend using information from the `backend`'s config."
   ]
  },
  {
   "cell_type": "code",
   "execution_count": 2,
   "metadata": {},
   "outputs": [
    {
     "name": "stdout",
     "output_type": "stream",
     "text": [
      "This backend is called fake_almaden, and is on version 1.2.4. It has 20 qubits. It supports OpenPulse programs. The basis gates supported on this device are ['u1', 'u2', 'u3', 'cx', 'id'].\n"
     ]
    }
   ],
   "source": [
    "config = backend.configuration()\n",
    "\n",
    "# Basic Features\n",
    "print(\"This backend is called {0}, and is on version {1}. It has {2} qubit{3}. It \"\n",
    "      \"{4} OpenPulse programs. The basis gates supported on this device are {5}.\"\n",
    "      \"\".format(config.backend_name,\n",
    "                config.backend_version,\n",
    "                config.n_qubits,\n",
    "                '' if config.n_qubits == 1 else 's',\n",
    "                'supports' if config.open_pulse else 'does not support',\n",
    "                config.basis_gates))"
   ]
  },
  {
   "cell_type": "markdown",
   "metadata": {},
   "source": [
    "Neat! All of the above configuration is available for any backend, whether enabled with OpenPulse or not, although it is not an exhaustive list. There are additional attributes available on Pulse backends. Let's go into a bit more detail with those.\n",
    "\n",
    "The **timescale**, `dt`, is backend dependent. Think of this as the inverse sampling rate of the control rack's arbitrary waveform generators. Each sample point and duration in a Pulse `Schedule` is given in units of this timescale."
   ]
  },
  {
   "cell_type": "code",
   "execution_count": 3,
   "metadata": {},
   "outputs": [
    {
     "data": {
      "text/plain": [
       "2.2222222222222221e-10"
      ]
     },
     "execution_count": 3,
     "metadata": {},
     "output_type": "execute_result"
    }
   ],
   "source": [
    "config.dt  # units of seconds"
   ]
  },
  {
   "cell_type": "markdown",
   "metadata": {},
   "source": [
    "The configuration also provides information that is useful for building measurements. Pulse supports three measurement levels: `0: RAW`, `1: KERNELED`, and `2: DISCRIMINATED`. The `meas_levels` attribute tells us which of those are supported by this backend. To learn how to execute programs with these different levels, see this page -- COMING SOON."
   ]
  },
  {
   "cell_type": "code",
   "execution_count": 4,
   "metadata": {},
   "outputs": [
    {
     "data": {
      "text/plain": [
       "[1, 2]"
      ]
     },
     "execution_count": 4,
     "metadata": {},
     "output_type": "execute_result"
    }
   ],
   "source": [
    "config.meas_levels"
   ]
  },
  {
   "cell_type": "markdown",
   "metadata": {},
   "source": [
    "For backends which support measurement level 0, the sampling rate of the control rack's analog-to-digital converters (ADCs) also becomes relevant. The configuration also has this info, where `dtm` is the time per sample returned:"
   ]
  },
  {
   "cell_type": "code",
   "execution_count": 5,
   "metadata": {},
   "outputs": [
    {
     "data": {
      "text/plain": [
       "2.2222222222222221e-10"
      ]
     },
     "execution_count": 5,
     "metadata": {},
     "output_type": "execute_result"
    }
   ],
   "source": [
    "config.dtm"
   ]
  },
  {
   "cell_type": "markdown",
   "metadata": {},
   "source": [
    "The measurement map, explained in detail on [this page COMING SOON], is also found here."
   ]
  },
  {
   "cell_type": "code",
   "execution_count": 6,
   "metadata": {},
   "outputs": [
    {
     "data": {
      "text/plain": [
       "[[0, 1, 2, 3, 4, 5, 6, 7, 8, 9, 10, 11, 12, 13, 14, 15, 16, 17, 18, 19]]"
      ]
     },
     "execution_count": 6,
     "metadata": {},
     "output_type": "execute_result"
    }
   ],
   "source": [
    "config.meas_map"
   ]
  },
  {
   "cell_type": "markdown",
   "metadata": {},
   "source": [
    "The configuration also supplies convenient methods for getting channels for your schedule programs. For instance:"
   ]
  },
  {
   "cell_type": "code",
   "execution_count": 7,
   "metadata": {},
   "outputs": [
    {
     "data": {
      "text/plain": [
       "DriveChannel(0)"
      ]
     },
     "execution_count": 7,
     "metadata": {},
     "output_type": "execute_result"
    }
   ],
   "source": [
    "config.drive(0)"
   ]
  },
  {
   "cell_type": "code",
   "execution_count": 8,
   "metadata": {},
   "outputs": [
    {
     "data": {
      "text/plain": [
       "MeasureChannel(0)"
      ]
     },
     "execution_count": 8,
     "metadata": {},
     "output_type": "execute_result"
    }
   ],
   "source": [
    "config.measure(0)"
   ]
  },
  {
   "cell_type": "code",
   "execution_count": 9,
   "metadata": {},
   "outputs": [
    {
     "data": {
      "text/plain": [
       "AcquireChannel(0)"
      ]
     },
     "execution_count": 9,
     "metadata": {},
     "output_type": "execute_result"
    }
   ],
   "source": [
    "config.acquire(0)"
   ]
  },
  {
   "cell_type": "markdown",
   "metadata": {},
   "source": [
    "It is a matter of style and personal preference whether you use `config.drive(0)` or `DriveChannel(0)`.\n",
    "\n",
    "## Properties\n",
    "\n",
    "The `backend` properties contain data that was measured and optionally reported by the provider. Let's see what kind of information is reported for qubit 0."
   ]
  },
  {
   "cell_type": "code",
   "execution_count": 10,
   "metadata": {},
   "outputs": [],
   "source": [
    "props = backend.properties()"
   ]
  },
  {
   "cell_type": "code",
   "execution_count": 11,
   "metadata": {},
   "outputs": [
    {
     "name": "stdout",
     "output_type": "stream",
     "text": [
      "Qubit 0 has a \n",
      "  - T1 time of 113.3795751321217 microseconds\n",
      "  - T2 time of 150.2847720544259 microseconds\n",
      "  - U2 gate error of 0.0005295247303964942\n",
      "  - U2 gate duration of 35.555555555555564 nanoseconds\n",
      "  - resonant frequency of 4.8572819835984875 GHz\n"
     ]
    }
   ],
   "source": [
    "def describe_qubit(qubit, properties):\n",
    "    \"\"\"Print a string describing some of reported properties of the given qubit.\"\"\"\n",
    "\n",
    "    # Conversion factors from standard SI units\n",
    "    us = 1e6\n",
    "    ns = 1e9\n",
    "    GHz = 1e-9\n",
    "\n",
    "    print(\"Qubit {0} has a \\n\"\n",
    "          \"  - T1 time of {1} microseconds\\n\"\n",
    "          \"  - T2 time of {2} microseconds\\n\"\n",
    "          \"  - U2 gate error of {3}\\n\"\n",
    "          \"  - U2 gate duration of {4} nanoseconds\\n\"\n",
    "          \"  - resonant frequency of {5} GHz\".format(\n",
    "              qubit,\n",
    "              properties.t1(qubit) * us,\n",
    "              properties.t2(qubit) * us,\n",
    "              properties.gate_error('u2', qubit),\n",
    "              properties.gate_length('u2', qubit) * ns,\n",
    "              properties.frequency(qubit) * GHz))\n",
    "\n",
    "describe_qubit(0, props)"
   ]
  },
  {
   "cell_type": "markdown",
   "metadata": {},
   "source": [
    "Properties are not guaranteed to be reported, but backends without Pulse access typically also provide this data.\n",
    "\n",
    "## Defaults\n",
    "\n",
    "Unlike the other two sections, `PulseDefaults` are only available for Pulse-enabled backends. It contains the default program settings run on the device."
   ]
  },
  {
   "cell_type": "code",
   "execution_count": 12,
   "metadata": {},
   "outputs": [],
   "source": [
    "defaults = backend.defaults()"
   ]
  },
  {
   "cell_type": "markdown",
   "metadata": {},
   "source": [
    "### Drive frequencies\n",
    "\n",
    "Defaults contains the default frequency settings for the drive and measurement signal channels:"
   ]
  },
  {
   "cell_type": "code",
   "execution_count": 13,
   "metadata": {},
   "outputs": [
    {
     "name": "stdout",
     "output_type": "stream",
     "text": [
      "DriveChannel(0) defaults to a modulation frequency of 4.857219891603379 GHz.\n",
      "MeasureChannel(0) defaults to a modulation frequency of 7.264856891000001 GHz.\n"
     ]
    }
   ],
   "source": [
    "q0_freq = defaults.qubit_freq_est[0]  # Hz\n",
    "q0_meas_freq = defaults.meas_freq_est[0]  # Hz\n",
    "\n",
    "GHz = 1e-9\n",
    "print(\"DriveChannel(0) defaults to a modulation frequency of {} GHz.\".format(q0_freq * GHz))\n",
    "print(\"MeasureChannel(0) defaults to a modulation frequency of {} GHz.\".format(q0_meas_freq * GHz))"
   ]
  },
  {
   "cell_type": "markdown",
   "metadata": {},
   "source": [
    "### Pulse Schedule definitions for QuantumCircuit instructions\n",
    "\n",
    "Finally, one of the most important aspects of the `backend` for `Schedule` building is the `InstructionScheduleMap`. This is a basic mapping from a circuit operation's name and qubit to the default pulse-level implementation of that instruction. "
   ]
  },
  {
   "cell_type": "code",
   "execution_count": 14,
   "metadata": {},
   "outputs": [
    {
     "name": "stdout",
     "output_type": "stream",
     "text": [
      "<InstructionScheduleMap(1Q instructions:\n",
      "  q0: {'id', 'u1', 'MEAS', 'x', 'u3', 'u2'}\n",
      "  q1: {'id', 'u1', 'MEAS', 'x', 'u3', 'u2'}\n",
      "  q2: {'id', 'u1', 'MEAS', 'x', 'u3', 'u2'}\n",
      "  q3: {'id', 'u1', 'MEAS', 'x', 'u3', 'u2'}\n",
      "  q4: {'id', 'u1', 'MEAS', 'x', 'u3', 'u2'}\n",
      "  q5: {'id', 'u1', 'MEAS', 'x', 'u3', 'u2'}\n",
      "  q6: {'id', 'u1', 'MEAS', 'x', 'u3', 'u2'}\n",
      "  q7: {'id', 'u1', 'MEAS', 'x', 'u3', 'u2'}\n",
      "  q8: {'id', 'u1', 'MEAS', 'x', 'u3', 'u2'}\n",
      "  q9: {'id', 'u1', 'MEAS', 'x', 'u3', 'u2'}\n",
      "  q10: {'id', 'u1', 'MEAS', 'x', 'u3', 'u2'}\n",
      "  q11: {'id', 'u1', 'MEAS', 'x', 'u3', 'u2'}\n",
      "  q12: {'id', 'u1', 'MEAS', 'x', 'u3', 'u2'}\n",
      "  q13: {'id', 'u1', 'MEAS', 'x', 'u3', 'u2'}\n",
      "  q14: {'id', 'u1', 'MEAS', 'x', 'u3', 'u2'}\n",
      "  q15: {'id', 'u1', 'MEAS', 'x', 'u3', 'u2'}\n",
      "  q16: {'id', 'u1', 'MEAS', 'x', 'u3', 'u2'}\n",
      "  q17: {'id', 'u1', 'MEAS', 'x', 'u3', 'u2'}\n",
      "  q18: {'id', 'u1', 'MEAS', 'x', 'u3', 'u2'}\n",
      "  q19: {'id', 'u1', 'MEAS', 'x', 'u3', 'u2'}\n",
      "Multi qubit instructions:\n",
      "  (0, 1): {'cx'}\n",
      "  (1, 0): {'cx'}\n",
      "  (1, 2): {'cx'}\n",
      "  (1, 6): {'cx'}\n",
      "  (2, 1): {'cx'}\n",
      "  (2, 3): {'cx'}\n",
      "  (3, 2): {'cx'}\n",
      "  (3, 4): {'cx'}\n",
      "  (3, 8): {'cx'}\n",
      "  (4, 3): {'cx'}\n",
      "  (5, 6): {'cx'}\n",
      "  (5, 10): {'cx'}\n",
      "  (6, 1): {'cx'}\n",
      "  (6, 5): {'cx'}\n",
      "  (6, 7): {'cx'}\n",
      "  (7, 6): {'cx'}\n",
      "  (7, 8): {'cx'}\n",
      "  (7, 12): {'cx'}\n",
      "  (8, 3): {'cx'}\n",
      "  (8, 7): {'cx'}\n",
      "  (8, 9): {'cx'}\n",
      "  (9, 8): {'cx'}\n",
      "  (9, 14): {'cx'}\n",
      "  (10, 5): {'cx'}\n",
      "  (10, 11): {'cx'}\n",
      "  (11, 10): {'cx'}\n",
      "  (11, 12): {'cx'}\n",
      "  (11, 16): {'cx'}\n",
      "  (12, 7): {'cx'}\n",
      "  (12, 11): {'cx'}\n",
      "  (12, 13): {'cx'}\n",
      "  (13, 12): {'cx'}\n",
      "  (13, 14): {'cx'}\n",
      "  (13, 18): {'cx'}\n",
      "  (14, 9): {'cx'}\n",
      "  (14, 13): {'cx'}\n",
      "  (15, 16): {'cx'}\n",
      "  (16, 11): {'cx'}\n",
      "  (16, 15): {'cx'}\n",
      "  (16, 17): {'cx'}\n",
      "  (17, 16): {'cx'}\n",
      "  (17, 18): {'cx'}\n",
      "  (18, 13): {'cx'}\n",
      "  (18, 17): {'cx'}\n",
      "  (18, 19): {'cx'}\n",
      "  (19, 18): {'cx'}\n",
      "  (0, 1, 2, 3, 4, 5, 6, 7, 8, 9, 10, 11, 12, 13, 14, 15, 16, 17, 18, 19): {'measure'}\n",
      ")>\n"
     ]
    }
   ],
   "source": [
    "inst_map = defaults.instruction_schedule_map\n",
    "print(inst_map)"
   ]
  },
  {
   "cell_type": "markdown",
   "metadata": {},
   "source": [
    "Rather than build a measurement schedule from scratch, let's see what was calibrated by the backend to measure the qubits on this device:"
   ]
  },
  {
   "cell_type": "code",
   "execution_count": 15,
   "metadata": {},
   "outputs": [
    {
     "data": {
      "image/png": "[encoded data removed]",
      "text/plain": [
       "<Figure size 720x864 with 1 Axes>"
      ]
     },
     "execution_count": 15,
     "metadata": {},
     "output_type": "execute_result"
    }
   ],
   "source": [
    "measure_schedule = inst_map.get('measure', [q for q in range(config.n_qubits)])\n",
    "measure_schedule.draw()"
   ]
  },
  {
   "cell_type": "markdown",
   "metadata": {},
   "source": [
    "This can easily be appended to your own Pulse `Schedule` (`sched += inst_map.get('measure', <qubits>) << sched.duration`)!\n",
    "\n",
    "Likewise, each qubit will have a `Schedule` defined for each basis gate, and they can be appended directly to any `Schedule` you build."
   ]
  },
  {
   "cell_type": "code",
   "execution_count": 16,
   "metadata": {},
   "outputs": [
    {
     "data": {
      "text/plain": [
       "True"
      ]
     },
     "execution_count": 16,
     "metadata": {},
     "output_type": "execute_result"
    }
   ],
   "source": [
    "# You can use `has` to see if an operation is defined. Ex: Does qubit 3 have an x gate defined?\n",
    "inst_map.has('x', 3)"
   ]
  },
  {
   "cell_type": "code",
   "execution_count": 17,
   "metadata": {},
   "outputs": [
    {
     "data": {
      "text/plain": [
       "Schedule((0, ShiftPhase(-3.1415, DriveChannel(0))), (0, ShiftPhase(-3.1415, ControlChannel(1))), name=\"u1\")"
      ]
     },
     "execution_count": 17,
     "metadata": {},
     "output_type": "execute_result"
    }
   ],
   "source": [
    "# Some circuit operations take parameters. U1 takes a rotation angle:\n",
    "inst_map.get('u1', 0, P0=3.1415)"
   ]
  },
  {
   "cell_type": "markdown",
   "metadata": {},
   "source": [
    "While building your schedule, you can also use `inst_map.add(name, qubits, schedule)` to store useful `Schedule`s that you've made yourself.\n",
    "\n",
    "On the [next page](pulse_scheduler.ipynb), we'll show how to schedule `QuantumCircuit`s into Pulse `Schedule`s."
   ]
  },
  {
   "cell_type": "code",
   "execution_count": 18,
   "metadata": {},
   "outputs": [
    {
     "data": {
      "text/html": [
       "<h3>Version Information</h3><table><tr><th>Qiskit Software</th><th>Version</th></tr><tr><td>Qiskit</td><td>0.16.1</td></tr><tr><td>Terra</td><td>0.13.0.dev0+7181799</td></tr><tr><td>Aer</td><td>0.4.1</td></tr><tr><td>Ignis</td><td>0.2.0</td></tr><tr><td>Aqua</td><td>0.6.4</td></tr><tr><td>IBM Q Provider</td><td>0.5.0</td></tr><tr><th>System information</th></tr><tr><td>Python</td><td>3.7.6 (default, Dec 30 2019, 19:38:28) \n",
       "[Clang 11.0.0 (clang-1100.0.33.16)]</td></tr><tr><td>OS</td><td>Darwin</td></tr><tr><td>CPUs</td><td>6</td></tr><tr><td>Memory (Gb)</td><td>32.0</td></tr><tr><td colspan='2'>Fri Apr 03 15:23:48 2020 EDT</td></tr></table>"
      ],
      "text/plain": [
       "<IPython.core.display.HTML object>"
      ]
     },
     "metadata": {},
     "output_type": "display_data"
    },
    {
     "data": {
      "text/html": [
       "<div style='width: 100%; background-color:#d5d9e0;padding-left: 10px; padding-bottom: 10px; padding-right: 10px; padding-top: 5px'><h3>This code is a part of Qiskit</h3><p>&copy; Copyright IBM 2017, 2020.</p><p>This code is licensed under the Apache License, Version 2.0. You may<br>obtain a copy of this license in the LICENSE.txt file in the root directory<br> of this source tree or at http://www.apache.org/licenses/LICENSE-2.0.<p>Any modifications or derivative works of this code must retain this<br>copyright notice, and modified files need to carry a notice indicating<br>that they have been altered from the originals.</p></div>"
      ],
      "text/plain": [
       "<IPython.core.display.HTML object>"
      ]
     },
     "metadata": {},
     "output_type": "display_data"
    }
   ],
   "source": [
    "import qiskit.tools.jupyter\n",
    "%qiskit_version_table\n",
    "%qiskit_copyright"
   ]
  }
 ],
 "metadata": {
  "kernelspec": {
   "display_name": "Python 3",
   "language": "python",
   "name": "python3"
  },
  "language_info": {
   "codemirror_mode": {
    "name": "ipython",
    "version": 3
   },
   "file_extension": ".py",
   "mimetype": "text/x-python",
   "name": "python",
   "nbconvert_exporter": "python",
   "pygments_lexer": "ipython3",
   "version": "3.7.6"
  },
  "varInspector": {
   "cols": {
    "lenName": 16,
    "lenType": 16,
    "lenVar": 40
   },
   "kernels_config": {
    "python": {
     "delete_cmd_postfix": "",
     "delete_cmd_prefix": "del ",
     "library": "var_list.py",
     "varRefreshCmd": "print(var_dic_list())"
    },
    "r": {
     "delete_cmd_postfix": ") ",
     "delete_cmd_prefix": "rm(",
     "library": "var_list.r",
     "varRefreshCmd": "cat(var_dic_list()) "
    }
   },
   "types_to_exclude": [
    "module",
    "function",
    "builtin_function_or_method",
    "instance",
    "_Feature"
   ],
   "window_display": false
  }
 },
 "nbformat": 4,
 "nbformat_minor": 2
}

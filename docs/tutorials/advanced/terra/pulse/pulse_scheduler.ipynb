{
 "cells": [
  {
   "cell_type": "markdown",
   "metadata": {},
   "source": [
    "# Using the Scheduler\n",
    "\n",
    "## Basic usage"
   ]
  },
  {
   "cell_type": "code",
   "execution_count": null,
   "metadata": {
    "ExecuteTime": {
     "end_time": "2020-03-12T00:51:14.871814Z",
     "start_time": "2020-03-12T00:51:12.491322Z"
    }
   },
   "outputs": [],
   "source": [
    "import numpy as np\n",
    "\n",
    "from qiskit import IBMQ, QuantumCircuit, transpile, schedule as build_schedule\n",
    "from qiskit import circuit\n",
    "from qiskit.pulse import Schedule, Gaussian, SamplePulse, DriveChannel, ControlChannel\n",
    "from qiskit.test.mock import FakeAlmaden"
   ]
  },
  {
   "cell_type": "code",
   "execution_count": null,
   "metadata": {},
   "outputs": [],
   "source": [
    "circ = QuantumCircuit(1, 1)\n",
    "circ = QuantumCircuit(2, 2)\n",
    "circ.h(0)\n",
    "circ.cx(0, 1)\n",
    "circ.measure([0, 1], [0, 1])\n",
    "\n",
    "circ.draw()"
   ]
  },
  {
   "cell_type": "markdown",
   "metadata": {},
   "source": [
    "TODO"
   ]
  },
  {
   "cell_type": "code",
   "execution_count": null,
   "metadata": {},
   "outputs": [],
   "source": [
    "backend = FakeAlmaden()\n",
    "\n",
    "transpiled_circ = transpile(circ, backend)\n",
    "schedule = build_schedule(transpiled_circ, backend)\n",
    "schedule.draw()"
   ]
  },
  {
   "cell_type": "markdown",
   "metadata": {},
   "source": [
    "## Scheduling with custom gate definitions"
   ]
  },
  {
   "cell_type": "code",
   "execution_count": null,
   "metadata": {},
   "outputs": [],
   "source": [
    "custom_q0_h_schedule = Schedule(Gaussian(duration=128, amp=0.045, sigma=8)(DriveChannel(0)))\n",
    "\n",
    "inst_map = backend.defaults().instruction_schedule_map\n",
    "inst_map.add('h', 0, custom_q0_h_schedule)\n",
    "\n",
    "schedule = build_schedule(circ, backend, inst_map=inst_map)"
   ]
  },
  {
   "cell_type": "markdown",
   "metadata": {},
   "source": [
    "## Building circuits with non-standard gates\n",
    "\n",
    "Design a new gate by giving it a name, specific qubits, and a pulse `Schedule` definition."
   ]
  },
  {
   "cell_type": "code",
   "execution_count": null,
   "metadata": {},
   "outputs": [],
   "source": [
    "from qiskit.pulse.schedule import ParameterizedSchedule\n",
    "\n",
    "random_pulse = lambda x: SamplePulse(np.random.random(max(x, 1)))\n",
    "\n",
    "def my_perfect_2q_gate_schedule_func(x):\n",
    "    sched = Schedule()\n",
    "    sched += random_pulse(x)(DriveChannel(0))\n",
    "    sched += random_pulse(x)(ControlChannel(0))\n",
    "    sched += random_pulse(x)(DriveChannel(1))\n",
    "    return sched\n",
    "\n",
    "my_perfect_2q_gate_schedule = ParameterizedSchedule(my_perfect_2q_gate_schedule_func, parameters=('x'))"
   ]
  },
  {
   "cell_type": "markdown",
   "metadata": {},
   "source": [
    "Add definition to instruction map"
   ]
  },
  {
   "cell_type": "code",
   "execution_count": null,
   "metadata": {},
   "outputs": [],
   "source": [
    "inst_map.add('my_perfect_2q_gate', (0, 1), my_perfect_2q_gate_schedule)"
   ]
  },
  {
   "cell_type": "markdown",
   "metadata": {},
   "source": [
    "Build schedule as usual"
   ]
  },
  {
   "cell_type": "code",
   "execution_count": null,
   "metadata": {},
   "outputs": [],
   "source": [
    "my_perfect_2q_gate = circuit.Gate('my_perfect_2q_gate', 2, [100])\n",
    "\n",
    "my_perfect_2q_circ = QuantumCircuit(2, 2)\n",
    "my_perfect_2q_circ.h(0)\n",
    "my_perfect_2q_circ.append(my_perfect_2q_gate, [0, 1])\n",
    "my_perfect_2q_circ.h(0)\n",
    "my_perfect_2q_circ.measure(0, 0)\n",
    "\n",
    "my_perfect_2q_circ.draw()"
   ]
  },
  {
   "cell_type": "markdown",
   "metadata": {},
   "source": [
    "Transpile with the new gate"
   ]
  },
  {
   "cell_type": "code",
   "execution_count": null,
   "metadata": {},
   "outputs": [],
   "source": [
    "my_perfect_2q_circ_transpiled = transpile(my_perfect_2q_circ,\n",
    "                                          coupling_map=[[0, 1]],\n",
    "                                          basis_gates=backend.configuration().basis_gates + ['my_perfect_2q_gate'])\n",
    "my_perfect_2q_circ_transpiled.draw()"
   ]
  },
  {
   "cell_type": "code",
   "execution_count": null,
   "metadata": {},
   "outputs": [],
   "source": [
    "my_perfect_2q_pulse_program = build_schedule(my_perfect_2q_circ_transpiled,\n",
    "                                             backend,\n",
    "                                             inst_map=inst_map)\n",
    "my_perfect_2q_pulse_program.draw(plot_range=(0, 2000))"
   ]
  },
  {
   "cell_type": "code",
   "execution_count": null,
   "metadata": {},
   "outputs": [],
   "source": []
  }
 ],
 "metadata": {
  "kernelspec": {
   "display_name": "Python 3",
   "language": "python",
   "name": "python3"
  },
  "language_info": {
   "codemirror_mode": {
    "name": "ipython",
    "version": 3
   },
   "file_extension": ".py",
   "mimetype": "text/x-python",
   "name": "python",
   "nbconvert_exporter": "python",
   "pygments_lexer": "ipython3",
   "version": "3.7.6"
  },
  "varInspector": {
   "cols": {
    "lenName": 16,
    "lenType": 16,
    "lenVar": 40
   },
   "kernels_config": {
    "python": {
     "delete_cmd_postfix": "",
     "delete_cmd_prefix": "del ",
     "library": "var_list.py",
     "varRefreshCmd": "print(var_dic_list())"
    },
    "r": {
     "delete_cmd_postfix": ") ",
     "delete_cmd_prefix": "rm(",
     "library": "var_list.r",
     "varRefreshCmd": "cat(var_dic_list()) "
    }
   },
   "types_to_exclude": [
    "module",
    "function",
    "builtin_function_or_method",
    "instance",
    "_Feature"
   ],
   "window_display": false
  }
 },
 "nbformat": 4,
 "nbformat_minor": 2
}

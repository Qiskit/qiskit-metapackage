{
 "cells": [
  {
   "cell_type": "markdown",
   "metadata": {},
   "source": [
    "# Entanglement Verification\n",
    "\n",
    "* **Last Updated:** April 9, 2020\n",
    "* **Requires:** qiskit-terra 0.12, qiskit-ignis 0.3, qiskit-aer 0.4\n",
    "\n",
    "\n",
    "## Introduction to the GHZ state \n",
    "\n",
    "**The Greenberger-Horne-Zeilinger (GHZ)** State is a $n$-qubit entangled state best defined by the following state vector:\n",
    "\n",
    "$$ |{\\rm GHZ} \\rangle = \\frac{|0 \\rangle ^{\\otimes n} + |1 \\rangle ^{\\otimes n}}{\\sqrt{2}} , n > 2$$\n",
    "\n",
    "Characterization of the GHZ state is very useful in assessing multi-qubit interactions, whose robustness is key to developing large scale quantum computers. \n",
    "\n",
    "## Characterizing a quantum state\n",
    "\n",
    "Any mixed quantum state can be identified by a density matrix, defined as $ \\rho = \\Sigma_{i} p_i |\\psi_{i} \\rangle \\langle \\psi_{i}| $, where $|\\psi_{i} \\rangle$ are the pure quantum states forming the mixture and $0 < p_i \\le 1$,  $\\Sigma_{i} p_i = 1$ are the classical probabilities to be in state $|\\psi_{i} \\rangle$. We denote the pure density matrix of an ideal GHZ State by $\\rho_{p} \\equiv |{\\rm GHZ} \\rangle \\langle {\\rm GHZ}|$. We want to see how close this matrix is to the density matrix of a GHZ State as produced in an experiment, $\\rho_{T}$. One method to quantify this similarity is to calculate the fidelity between the states, $F(\\rho_{p},\\rho_{T})$\n",
    "\n",
    "$$F = \\Big[ Tr \\sqrt{\\sqrt{\\rho_{p}}\\rho_{T}\\sqrt{\\rho_{p}}} \\Big] ^{2}$$\n",
    "\n",
    "The aim of this tutorial is two-fold: we will explore ways in which we can characterize the GHZ state, and ways in which we can use Ignis' error mitigation tools to increase readout fidelity, regardless of characterization method\n",
    "\n",
    "Before we go further, let us import everything we will need from basic Qiskit:"
   ]
  },
  {
   "cell_type": "code",
   "execution_count": 1,
   "metadata": {},
   "outputs": [],
   "source": [
    "from qiskit import *\n",
    "from qiskit import IBMQ\n",
    "from qiskit.providers.ibmq import least_busy\n",
    "from qiskit.tools.monitor import job_monitor\n",
    "from qiskit.circuit import Parameter\n",
    "from qiskit.providers.aer import noise\n",
    "\n",
    "\n",
    "import numpy as np\n",
    "import matplotlib.pyplot as plt\n",
    "\n",
    "%matplotlib inline"
   ]
  },
  {
   "cell_type": "markdown",
   "metadata": {},
   "source": [
    "The next two functions are from ignis. The first is for the general error mitigation technique, and the second is specifically for quantum tomography"
   ]
  },
  {
   "cell_type": "code",
   "execution_count": 8,
   "metadata": {},
   "outputs": [],
   "source": [
    "from qiskit.ignis.mitigation.measurement import (complete_meas_cal, tensored_meas_cal,\n",
    "                                                 CompleteMeasFitter, TensoredMeasFitter)\n",
    "from qiskit.ignis.verification.tomography import state_tomography_circuits, StateTomographyFitter"
   ]
  },
  {
   "cell_type": "markdown",
   "metadata": {},
   "source": [
    "The following import from the `entanglement` package contains information needed to create, parallellize and analyze GHZ State circuits"
   ]
  },
  {
   "cell_type": "code",
   "execution_count": 9,
   "metadata": {},
   "outputs": [
    {
     "ename": "ModuleNotFoundError",
     "evalue": "No module named 'qiskit.ignis.verification.entanglement.parallelize'",
     "output_type": "error",
     "traceback": [
      "\u001b[1;31m---------------------------------------------------------------------------\u001b[0m",
      "\u001b[1;31mModuleNotFoundError\u001b[0m                       Traceback (most recent call last)",
      "\u001b[1;32m<ipython-input-9-e7517f5c7be9>\u001b[0m in \u001b[0;36m<module>\u001b[1;34m\u001b[0m\n\u001b[1;32m----> 1\u001b[1;33m \u001b[1;32mfrom\u001b[0m \u001b[0mqiskit\u001b[0m\u001b[1;33m.\u001b[0m\u001b[0mignis\u001b[0m\u001b[1;33m.\u001b[0m\u001b[0mverification\u001b[0m\u001b[1;33m.\u001b[0m\u001b[0mentanglement\u001b[0m\u001b[1;33m.\u001b[0m\u001b[0mparallelize\u001b[0m \u001b[1;32mimport\u001b[0m \u001b[1;33m*\u001b[0m\u001b[1;33m\u001b[0m\u001b[1;33m\u001b[0m\u001b[0m\n\u001b[0m\u001b[0;32m      2\u001b[0m \u001b[1;32mfrom\u001b[0m \u001b[0mqiskit\u001b[0m\u001b[1;33m.\u001b[0m\u001b[0mignis\u001b[0m\u001b[1;33m.\u001b[0m\u001b[0mverification\u001b[0m\u001b[1;33m.\u001b[0m\u001b[0mentanglement\u001b[0m\u001b[1;33m.\u001b[0m\u001b[0mlinear\u001b[0m \u001b[1;32mimport\u001b[0m \u001b[1;33m*\u001b[0m\u001b[1;33m\u001b[0m\u001b[1;33m\u001b[0m\u001b[0m\n\u001b[0;32m      3\u001b[0m \u001b[1;32mfrom\u001b[0m \u001b[0mqiskit\u001b[0m\u001b[1;33m.\u001b[0m\u001b[0mignis\u001b[0m\u001b[1;33m.\u001b[0m\u001b[0mverification\u001b[0m\u001b[1;33m.\u001b[0m\u001b[0mentanglement\u001b[0m\u001b[1;33m.\u001b[0m\u001b[0manalysis\u001b[0m \u001b[1;32mimport\u001b[0m \u001b[0mPlotter\u001b[0m\u001b[1;33m\u001b[0m\u001b[1;33m\u001b[0m\u001b[0m\n",
      "\u001b[1;31mModuleNotFoundError\u001b[0m: No module named 'qiskit.ignis.verification.entanglement.parallelize'"
     ]
    }
   ],
   "source": [
    "from qiskit.ignis.verification.entanglement.parallelize import *\n",
    "from qiskit.ignis.verification.entanglement.linear import *\n",
    "from qiskit.ignis.verification.entanglement.analysis import Plotter"
   ]
  },
  {
   "cell_type": "markdown",
   "metadata": {},
   "source": [
    "## Preparing a GHZ State\n",
    "\n",
    "Let us first go over how to prepare a GHZ State:\n",
    "\n",
    "Say we have a system of $n$ qubits, all prepared in the $|0\\rangle$ state:\n",
    "\n",
    "$$|\\psi \\rangle = |00...0\\rangle$$\n",
    "\n",
    "We apply a Hadamard gate to the first qubit: $|0\\rangle \\longrightarrow \\frac{1}{\\sqrt{2}}(|0\\rangle + |1\\rangle)$. Our state now looks like:\n",
    "\n",
    "$$|\\psi \\rangle = \\frac{|00...0\\rangle + |10...0\\rangle}{\\sqrt{2}} $$\n",
    "\n",
    "Applying on this state a sequence of $n-1$ CNOT gate between the $n^{th}$ and $(n+1)^{th}$ qubits for $n = 0 \\ldots n-1$ leaves the $n+1$ qubit at $|0\\rangle$ if the $n^{th}$ is in $|0\\rangle$, and at $|1\\rangle$ if the $n^{th}$ is in $|1\\rangle$, thus creating the GHZ State:  \n",
    "\n",
    "$$|GHZ \\rangle = \\frac{|00...0\\rangle + |11...1\\rangle}{\\sqrt{2}} \\equiv \\frac{|0 \\rangle ^{\\otimes n} + |1 \\rangle ^{\\otimes n}}{\\sqrt{2}}$$\n",
    "\n",
    "The following function creates this \"linear\" circuit that can measure the GHZ state:"
   ]
  },
  {
   "cell_type": "code",
   "execution_count": 10,
   "metadata": {},
   "outputs": [
    {
     "ename": "NameError",
     "evalue": "name 'get_ghz_simple' is not defined",
     "output_type": "error",
     "traceback": [
      "\u001b[1;31m---------------------------------------------------------------------------\u001b[0m",
      "\u001b[1;31mNameError\u001b[0m                                 Traceback (most recent call last)",
      "\u001b[1;32m<ipython-input-10-b4622499819c>\u001b[0m in \u001b[0;36m<module>\u001b[1;34m\u001b[0m\n\u001b[0;32m      1\u001b[0m \u001b[0mqn\u001b[0m \u001b[1;33m=\u001b[0m \u001b[1;36m5\u001b[0m \u001b[1;31m#creating a 5 qubit GHZ state\u001b[0m\u001b[1;33m\u001b[0m\u001b[1;33m\u001b[0m\u001b[0m\n\u001b[1;32m----> 2\u001b[1;33m \u001b[0mcirc_simple\u001b[0m \u001b[1;33m=\u001b[0m \u001b[0mget_ghz_simple\u001b[0m\u001b[1;33m(\u001b[0m\u001b[0mqn\u001b[0m\u001b[1;33m,\u001b[0m\u001b[0mmeasure\u001b[0m\u001b[1;33m=\u001b[0m\u001b[1;32mTrue\u001b[0m\u001b[1;33m)\u001b[0m\u001b[1;33m\u001b[0m\u001b[1;33m\u001b[0m\u001b[0m\n\u001b[0m",
      "\u001b[1;31mNameError\u001b[0m: name 'get_ghz_simple' is not defined"
     ]
    }
   ],
   "source": [
    "qn = 5 #creating a 5 qubit GHZ state\n",
    "circ_simple = get_ghz_simple(qn,measure=True)"
   ]
  },
  {
   "cell_type": "code",
   "execution_count": 11,
   "metadata": {},
   "outputs": [
    {
     "ename": "NameError",
     "evalue": "name 'circ_simple' is not defined",
     "output_type": "error",
     "traceback": [
      "\u001b[1;31m---------------------------------------------------------------------------\u001b[0m",
      "\u001b[1;31mNameError\u001b[0m                                 Traceback (most recent call last)",
      "\u001b[1;32m<ipython-input-11-9edd7f008981>\u001b[0m in \u001b[0;36m<module>\u001b[1;34m\u001b[0m\n\u001b[1;32m----> 1\u001b[1;33m \u001b[0mcirc_simple\u001b[0m\u001b[1;33m.\u001b[0m\u001b[0mdraw\u001b[0m\u001b[1;33m(\u001b[0m\u001b[0moutput\u001b[0m\u001b[1;33m=\u001b[0m\u001b[1;34m'mpl'\u001b[0m\u001b[1;33m)\u001b[0m\u001b[1;33m\u001b[0m\u001b[1;33m\u001b[0m\u001b[0m\n\u001b[0m",
      "\u001b[1;31mNameError\u001b[0m: name 'circ_simple' is not defined"
     ]
    }
   ],
   "source": [
    "circ_simple.draw(output='mpl')"
   ]
  },
  {
   "cell_type": "markdown",
   "metadata": {},
   "source": [
    "## Characterization, Part I\n",
    "\n",
    "### Multiple Quantum Coherence (MQC)\n",
    "\n",
    "Multiple Quantum Coherence (MQC) works by taking the preliminary preparation of an $n$ qubit GHZ State, and rotating each of the qubit states around the z axis by a phase $\\phi$. After that, we apply a X gate, i.e., a $\\pi$ pulse around the x axis. Then, we apply the inverse of the operations we originally applied to get the GHZ state. In an ideal situation the final state is $|\\psi \\rangle = \\frac{|0 \\rangle ^{\\otimes n} + e^{i n \\phi}|1 \\rangle ^{\\otimes n}}{\\sqrt{2}}$. We can ideally observe the phase collected by projecting $|\\psi \\rangle$ onto the state $|0 \\rangle ^{\\otimes n} $. This technique is reminiscent of an echo sequence, and has been shown to substantially improve the fidelity during readout.\n",
    "\n",
    "The function below creates a linear MQC circuit. As with every circuit from here on, you can change the `full_measurement` argument to toggle between full measurement of all qubits or measurement of only the control qubit. Full measurement yields the most accurate results, but for more than 7 qubits, it is recommended to set it to false, and observe only the oscillations between the `'0'` and `'1'` states."
   ]
  },
  {
   "cell_type": "code",
   "execution_count": 12,
   "metadata": {},
   "outputs": [
    {
     "ename": "NameError",
     "evalue": "name 'get_ghz_mqc_para' is not defined",
     "output_type": "error",
     "traceback": [
      "\u001b[1;31m---------------------------------------------------------------------------\u001b[0m",
      "\u001b[1;31mNameError\u001b[0m                                 Traceback (most recent call last)",
      "\u001b[1;32m<ipython-input-12-db1ccadc84ae>\u001b[0m in \u001b[0;36m<module>\u001b[1;34m\u001b[0m\n\u001b[1;32m----> 1\u001b[1;33m \u001b[0mcirc_mqc\u001b[0m \u001b[1;33m=\u001b[0m \u001b[0mget_ghz_mqc_para\u001b[0m\u001b[1;33m(\u001b[0m\u001b[0mqn\u001b[0m\u001b[1;33m,\u001b[0m \u001b[0mfull_measurement\u001b[0m\u001b[1;33m=\u001b[0m\u001b[1;32mTrue\u001b[0m\u001b[1;33m)\u001b[0m\u001b[1;33m\u001b[0m\u001b[1;33m\u001b[0m\u001b[0m\n\u001b[0m",
      "\u001b[1;31mNameError\u001b[0m: name 'get_ghz_mqc_para' is not defined"
     ]
    }
   ],
   "source": [
    "circ_mqc = get_ghz_mqc_para(qn, full_measurement=True)"
   ]
  },
  {
   "cell_type": "code",
   "execution_count": 13,
   "metadata": {},
   "outputs": [
    {
     "ename": "NameError",
     "evalue": "name 'circ_mqc' is not defined",
     "output_type": "error",
     "traceback": [
      "\u001b[1;31m---------------------------------------------------------------------------\u001b[0m",
      "\u001b[1;31mNameError\u001b[0m                                 Traceback (most recent call last)",
      "\u001b[1;32m<ipython-input-13-faeff6dcefee>\u001b[0m in \u001b[0;36m<module>\u001b[1;34m\u001b[0m\n\u001b[1;32m----> 1\u001b[1;33m \u001b[0mcirc_mqc\u001b[0m\u001b[1;33m[\u001b[0m\u001b[1;36m0\u001b[0m\u001b[1;33m]\u001b[0m\u001b[1;33m.\u001b[0m\u001b[0mdraw\u001b[0m\u001b[1;33m(\u001b[0m\u001b[0moutput\u001b[0m\u001b[1;33m=\u001b[0m\u001b[1;34m'mpl'\u001b[0m\u001b[1;33m)\u001b[0m\u001b[1;33m\u001b[0m\u001b[1;33m\u001b[0m\u001b[0m\n\u001b[0m",
      "\u001b[1;31mNameError\u001b[0m: name 'circ_mqc' is not defined"
     ]
    }
   ],
   "source": [
    "circ_mqc[0].draw(output='mpl')"
   ]
  },
  {
   "cell_type": "markdown",
   "metadata": {},
   "source": [
    "After running experiments on this MQC circuit, we can pick a state to observe oscillations as we sweep $\\phi$ from $0$ to $2 \\pi$. Our signal in theory should follow $S(\\phi) = \\frac{1}{2}(1+cos(n \\phi))$. We then perform a Discrete Fourier Transform (DFT: $I_{v}=(1/N)|\\Sigma_{\\phi}e^{iv\\phi}S(\\phi)$) to extract the Fidelity of the state, defined by the bounds $2\\sqrt{I_{n}} \\leq F \\leq \\sqrt{I_{0}/2}+ \\sqrt{I_{n}}$; if desired, an actual value for the fidelity can be obtained: $F = \\frac{1}{2}(P_{00...0}+P_{11...1})+\\sqrt{I_{n}})$ (arXiv:1905.05720). "
   ]
  },
  {
   "cell_type": "markdown",
   "metadata": {},
   "source": [
    "### Parity Oscillations\n",
    "\n",
    "The next method we use to characterize the GHZ state is parity oscillations. After preparing a GHZ state, we apply a combination of rotations about the x and y axes to create various superposition states as a function of $\\phi$: $U(\\phi) = \\otimes_{j}^{N} e^{i\\frac{\\pi}{4}(cos(\\phi)\\sigma_{x}^{j}+sin(\\phi)\\sigma_{y}^{j})}$. We then measure the expectation value $\\langle \\otimes_{j}^{N} \\sigma_{z}^{j} \\rangle_{\\phi}$ as a function of $\\phi$, which in theory should lead to parity oscillations between 1 and -1.\n",
    "\n",
    "The following function generates a circuit which is the Parity Oscillation equivalent of the MQC circuit given above"
   ]
  },
  {
   "cell_type": "code",
   "execution_count": 14,
   "metadata": {},
   "outputs": [
    {
     "ename": "NameError",
     "evalue": "name 'get_ghz_po_para' is not defined",
     "output_type": "error",
     "traceback": [
      "\u001b[1;31m---------------------------------------------------------------------------\u001b[0m",
      "\u001b[1;31mNameError\u001b[0m                                 Traceback (most recent call last)",
      "\u001b[1;32m<ipython-input-14-4bd5d81dfb9b>\u001b[0m in \u001b[0;36m<module>\u001b[1;34m\u001b[0m\n\u001b[1;32m----> 1\u001b[1;33m \u001b[0mcirc_po\u001b[0m \u001b[1;33m=\u001b[0m \u001b[0mget_ghz_po_para\u001b[0m\u001b[1;33m(\u001b[0m\u001b[0mqn\u001b[0m\u001b[1;33m)\u001b[0m\u001b[1;33m\u001b[0m\u001b[1;33m\u001b[0m\u001b[0m\n\u001b[0m",
      "\u001b[1;31mNameError\u001b[0m: name 'get_ghz_po_para' is not defined"
     ]
    }
   ],
   "source": [
    "circ_po = get_ghz_po_para(qn)"
   ]
  },
  {
   "cell_type": "code",
   "execution_count": 15,
   "metadata": {},
   "outputs": [
    {
     "ename": "NameError",
     "evalue": "name 'circ_po' is not defined",
     "output_type": "error",
     "traceback": [
      "\u001b[1;31m---------------------------------------------------------------------------\u001b[0m",
      "\u001b[1;31mNameError\u001b[0m                                 Traceback (most recent call last)",
      "\u001b[1;32m<ipython-input-15-978a88231204>\u001b[0m in \u001b[0;36m<module>\u001b[1;34m\u001b[0m\n\u001b[1;32m----> 1\u001b[1;33m \u001b[0mcirc_po\u001b[0m\u001b[1;33m[\u001b[0m\u001b[1;36m0\u001b[0m\u001b[1;33m]\u001b[0m\u001b[1;33m.\u001b[0m\u001b[0mdraw\u001b[0m\u001b[1;33m(\u001b[0m\u001b[0moutput\u001b[0m\u001b[1;33m=\u001b[0m\u001b[1;34m'mpl'\u001b[0m\u001b[1;33m)\u001b[0m\u001b[1;33m\u001b[0m\u001b[1;33m\u001b[0m\u001b[0m\n\u001b[0m",
      "\u001b[1;31mNameError\u001b[0m: name 'circ_po' is not defined"
     ]
    }
   ],
   "source": [
    "circ_po[0].draw(output='mpl')"
   ]
  },
  {
   "cell_type": "markdown",
   "metadata": {},
   "source": [
    "We can obtain fidelity for parity oscillations $S_{\\phi}$ from $F = \\frac{1}{2}(P_{00...0}+P_{11...1}+C)$, where $C$, the coherence is defined as $2\\sqrt{I_{n}}$, following the same convention for the DFT as with the MQC method."
   ]
  },
  {
   "cell_type": "markdown",
   "metadata": {},
   "source": [
    "### Tomography\n",
    "\n",
    "Tomography measures the density matrix by producing many nominally identical states and measuring the state instances in different bases. The ideal result of a GHZ state is four equal density matrix elements at the 4 corners of the tensor-product basis, with all other elements vanishing. Although the fidelity can be readily calculated by this method, the method is slow (requires exponential number of measurements in n), and takes prohibitively long times if n is larger than 7 or so. Nevertheless, we will show below how to perform this method as it is relevant for small numbers of qubits."
   ]
  },
  {
   "cell_type": "markdown",
   "metadata": {},
   "source": [
    "# Parallelizing circuits\n",
    "\n",
    "The above \"linear\" circuits are good to perform simulations, but what do we do when we use real devices, where the system can have an arbitrary topology and various errors? We are specifically targeting real hardware here, not just Aer simulation. One technique to reduce real-hardware effects is to parallelize the CNOT gates and thus create a shorter-depth circuit. This can be hugely beneficial efficiency wise, and fidelity wise. The class `BConfig` from the module `parallelize` does exactly this.\n",
    "\n",
    "First we must configure the optimal backend we want to use. We will consider a simulation backend disguised as a real device in the following way. First we load our accounts:"
   ]
  },
  {
   "cell_type": "code",
   "execution_count": 16,
   "metadata": {},
   "outputs": [],
   "source": [
    "provider = IBMQ.load_account()"
   ]
  },
  {
   "cell_type": "code",
   "execution_count": 17,
   "metadata": {},
   "outputs": [
    {
     "name": "stdout",
     "output_type": "stream",
     "text": [
      "[<IBMQSimulator('ibmq_qasm_simulator') from IBMQ(hub='ibm-q', group='open', project='main')>, <IBMQBackend('ibmqx2') from IBMQ(hub='ibm-q', group='open', project='main')>, <IBMQBackend('ibmq_16_melbourne') from IBMQ(hub='ibm-q', group='open', project='main')>, <IBMQBackend('ibmq_vigo') from IBMQ(hub='ibm-q', group='open', project='main')>, <IBMQBackend('ibmq_ourense') from IBMQ(hub='ibm-q', group='open', project='main')>, <IBMQBackend('ibmq_london') from IBMQ(hub='ibm-q', group='open', project='main')>, <IBMQBackend('ibmq_burlington') from IBMQ(hub='ibm-q', group='open', project='main')>, <IBMQBackend('ibmq_essex') from IBMQ(hub='ibm-q', group='open', project='main')>, <IBMQBackend('ibmq_armonk') from IBMQ(hub='ibm-q', group='open', project='main')>]\n"
     ]
    }
   ],
   "source": [
    "print(provider.backends())"
   ]
  },
  {
   "cell_type": "markdown",
   "metadata": {},
   "source": [
    "We are going to pick the simulation backend `'ibmq_qasm_simulator'` and the real device `'ibmq_16_melbourne'`"
   ]
  },
  {
   "cell_type": "code",
   "execution_count": 18,
   "metadata": {},
   "outputs": [],
   "source": [
    "backend = provider.get_backend(name='ibmq_qasm_simulator')\n",
    "backend_hardware = provider.get_backend(name='ibmq_16_melbourne')"
   ]
  },
  {
   "cell_type": "markdown",
   "metadata": {},
   "source": [
    "Using the `noise` module, we can now define a noise model from `'ibmq_16_melbourne'` to \"assign\" to `'ibmq_qasm_simulator'`."
   ]
  },
  {
   "cell_type": "code",
   "execution_count": 19,
   "metadata": {},
   "outputs": [],
   "source": [
    "noise_model = noise.device.basic_device_noise_model(backend_hardware.properties())\n",
    "coupling_map = backend_hardware._configuration.coupling_map\n",
    "basis_gates=noise_model.basis_gates"
   ]
  },
  {
   "cell_type": "markdown",
   "metadata": {},
   "source": [
    "And there we have it. From now on, in the tutorial, when using a real device, not a simulation, just take out every mention and assignment of `noise_model` and `coupling_map`, and assign the real device to `backend`. The simulator used from now on is no substitute for running a real device."
   ]
  },
  {
   "cell_type": "markdown",
   "metadata": {},
   "source": [
    "`BConfig` lays the blueprint for creating paralellized circuits. Let us initialize an object taking in the real device we just defined, and name it `protocirc`. All of our experiments will use it:"
   ]
  },
  {
   "cell_type": "code",
   "execution_count": 20,
   "metadata": {},
   "outputs": [
    {
     "ename": "NameError",
     "evalue": "name 'BConfig' is not defined",
     "output_type": "error",
     "traceback": [
      "\u001b[1;31m---------------------------------------------------------------------------\u001b[0m",
      "\u001b[1;31mNameError\u001b[0m                                 Traceback (most recent call last)",
      "\u001b[1;32m<ipython-input-20-c7081a1f90e8>\u001b[0m in \u001b[0;36m<module>\u001b[1;34m\u001b[0m\n\u001b[1;32m----> 1\u001b[1;33m \u001b[0mprotocirc\u001b[0m \u001b[1;33m=\u001b[0m \u001b[0mBConfig\u001b[0m\u001b[1;33m(\u001b[0m\u001b[0mbackend_hardware\u001b[0m\u001b[1;33m)\u001b[0m\u001b[1;33m\u001b[0m\u001b[1;33m\u001b[0m\u001b[0m\n\u001b[0m",
      "\u001b[1;31mNameError\u001b[0m: name 'BConfig' is not defined"
     ]
    }
   ],
   "source": [
    "protocirc = BConfig(backend_hardware)"
   ]
  },
  {
   "cell_type": "markdown",
   "metadata": {},
   "source": [
    "# Error Mitigation\n",
    "\n",
    "Qiskit Ignis provides very accurate tools to take raw data and return calibrated data. This is done by getting the raw data, in the form of a vector $v_{raw}$ and getting a calibration matrix $A$. The output is then the solution to the optimization problem: $argmin_{v_{cal}} ||Av_{cal}-v_{raw}||^{2}$"
   ]
  },
  {
   "cell_type": "markdown",
   "metadata": {},
   "source": [
    "# Experiment Time\n",
    "\n",
    "## Preliminary Steps\n",
    "\n",
    "The probabilities of measuring $|0\\rangle ^{\\otimes n}$ and $|1\\rangle^{\\otimes n}$ in the GHZ state are important in calculating fidelity. For this, we need to run the following test"
   ]
  },
  {
   "cell_type": "markdown",
   "metadata": {},
   "source": [
    "We begin by defining standard execution parameters:"
   ]
  },
  {
   "cell_type": "code",
   "execution_count": 21,
   "metadata": {},
   "outputs": [],
   "source": [
    "shots = 1024 #numbers of shots in a given experiment\n",
    "max_credits = 3 #number of credits\n",
    "qn = 5 #number of qubits\n",
    "zerocode = '0'*qn #will help us easily define the state |00...00> \n",
    "onecode = '1'*qn #will help us easily define the state |11...11> \n",
    "sweep = np.arange(0.,np.pi*2,np.pi/16) #standard list of phase values we will sweep "
   ]
  },
  {
   "cell_type": "code",
   "execution_count": 22,
   "metadata": {},
   "outputs": [
    {
     "ename": "NameError",
     "evalue": "name 'protocirc' is not defined",
     "output_type": "error",
     "traceback": [
      "\u001b[1;31m---------------------------------------------------------------------------\u001b[0m",
      "\u001b[1;31mNameError\u001b[0m                                 Traceback (most recent call last)",
      "\u001b[1;32m<ipython-input-22-e40f72cec1cf>\u001b[0m in \u001b[0;36m<module>\u001b[1;34m\u001b[0m\n\u001b[1;32m----> 1\u001b[1;33m \u001b[0mcirc_simple\u001b[0m\u001b[1;33m,\u001b[0m \u001b[0mqr\u001b[0m\u001b[1;33m,\u001b[0m \u001b[0minitial_layout\u001b[0m \u001b[1;33m=\u001b[0m \u001b[0mprotocirc\u001b[0m\u001b[1;33m.\u001b[0m\u001b[0mget_ghz_simple\u001b[0m\u001b[1;33m(\u001b[0m\u001b[0mqn\u001b[0m\u001b[1;33m,\u001b[0m \u001b[1;32mTrue\u001b[0m\u001b[1;33m)\u001b[0m\u001b[1;33m\u001b[0m\u001b[1;33m\u001b[0m\u001b[0m\n\u001b[0m",
      "\u001b[1;31mNameError\u001b[0m: name 'protocirc' is not defined"
     ]
    }
   ],
   "source": [
    "circ_simple, qr, initial_layout = protocirc.get_ghz_simple(qn, True)"
   ]
  },
  {
   "cell_type": "code",
   "execution_count": 23,
   "metadata": {},
   "outputs": [
    {
     "ename": "NameError",
     "evalue": "name 'initial_layout' is not defined",
     "output_type": "error",
     "traceback": [
      "\u001b[1;31m---------------------------------------------------------------------------\u001b[0m",
      "\u001b[1;31mNameError\u001b[0m                                 Traceback (most recent call last)",
      "\u001b[1;32m<ipython-input-23-02a6648e89be>\u001b[0m in \u001b[0;36m<module>\u001b[1;34m\u001b[0m\n\u001b[1;32m----> 1\u001b[1;33m \u001b[0mprint\u001b[0m\u001b[1;33m(\u001b[0m\u001b[0minitial_layout\u001b[0m\u001b[1;33m)\u001b[0m\u001b[1;33m\u001b[0m\u001b[1;33m\u001b[0m\u001b[0m\n\u001b[0m\u001b[0;32m      2\u001b[0m \u001b[0mcirc_simple\u001b[0m\u001b[1;33m.\u001b[0m\u001b[0mdraw\u001b[0m\u001b[1;33m(\u001b[0m\u001b[1;33m)\u001b[0m\u001b[1;33m\u001b[0m\u001b[1;33m\u001b[0m\u001b[0m\n",
      "\u001b[1;31mNameError\u001b[0m: name 'initial_layout' is not defined"
     ]
    }
   ],
   "source": [
    "print(initial_layout)\n",
    "circ_simple.draw()"
   ]
  },
  {
   "cell_type": "code",
   "execution_count": 24,
   "metadata": {},
   "outputs": [
    {
     "ename": "NameError",
     "evalue": "name 'circ_simple' is not defined",
     "output_type": "error",
     "traceback": [
      "\u001b[1;31m---------------------------------------------------------------------------\u001b[0m",
      "\u001b[1;31mNameError\u001b[0m                                 Traceback (most recent call last)",
      "\u001b[1;32m<ipython-input-24-a768bb7a09e4>\u001b[0m in \u001b[0;36m<module>\u001b[1;34m\u001b[0m\n\u001b[1;32m----> 1\u001b[1;33m \u001b[0mjob_simple\u001b[0m \u001b[1;33m=\u001b[0m \u001b[0mexecute\u001b[0m\u001b[1;33m(\u001b[0m\u001b[0mcirc_simple\u001b[0m\u001b[1;33m,\u001b[0m \u001b[0mbackend\u001b[0m\u001b[1;33m,\u001b[0m \u001b[0mshots\u001b[0m\u001b[1;33m=\u001b[0m\u001b[0mshots\u001b[0m\u001b[1;33m,\u001b[0m \u001b[0mmax_credits\u001b[0m\u001b[1;33m=\u001b[0m\u001b[0mmax_credits\u001b[0m\u001b[1;33m,\u001b[0m\u001b[0mnoise_model\u001b[0m\u001b[1;33m=\u001b[0m\u001b[0mnoise_model\u001b[0m\u001b[1;33m)\u001b[0m\u001b[1;33m\u001b[0m\u001b[1;33m\u001b[0m\u001b[0m\n\u001b[0m\u001b[0;32m      2\u001b[0m \u001b[1;31m# job_simple = execute(circ_simple, backend, shots=shots, max_credits=max_credits,noise_model=noise_model, coupling_map=coupling_map, basis_gates=basis_gates)\u001b[0m\u001b[1;33m\u001b[0m\u001b[1;33m\u001b[0m\u001b[1;33m\u001b[0m\u001b[0m\n\u001b[0;32m      3\u001b[0m \u001b[1;33m\u001b[0m\u001b[0m\n\u001b[0;32m      4\u001b[0m \u001b[0mjob_monitor\u001b[0m\u001b[1;33m(\u001b[0m\u001b[0mjob_simple\u001b[0m\u001b[1;33m)\u001b[0m\u001b[1;33m\u001b[0m\u001b[1;33m\u001b[0m\u001b[0m\n\u001b[0;32m      5\u001b[0m \u001b[0mresult_simple\u001b[0m \u001b[1;33m=\u001b[0m \u001b[0mjob_simple\u001b[0m\u001b[1;33m.\u001b[0m\u001b[0mresult\u001b[0m\u001b[1;33m(\u001b[0m\u001b[1;33m)\u001b[0m\u001b[1;33m\u001b[0m\u001b[1;33m\u001b[0m\u001b[0m\n",
      "\u001b[1;31mNameError\u001b[0m: name 'circ_simple' is not defined"
     ]
    }
   ],
   "source": [
    "job_simple = execute(circ_simple, backend, shots=shots, max_credits=max_credits,noise_model=noise_model)\n",
    "# job_simple = execute(circ_simple, backend, shots=shots, max_credits=max_credits,noise_model=noise_model, coupling_map=coupling_map, basis_gates=basis_gates)\n",
    "\n",
    "job_monitor(job_simple)\n",
    "result_simple = job_simple.result()"
   ]
  },
  {
   "cell_type": "code",
   "execution_count": 25,
   "metadata": {},
   "outputs": [
    {
     "ename": "NameError",
     "evalue": "name 'result_simple' is not defined",
     "output_type": "error",
     "traceback": [
      "\u001b[1;31m---------------------------------------------------------------------------\u001b[0m",
      "\u001b[1;31mNameError\u001b[0m                                 Traceback (most recent call last)",
      "\u001b[1;32m<ipython-input-25-2f5fa504a5de>\u001b[0m in \u001b[0;36m<module>\u001b[1;34m\u001b[0m\n\u001b[1;32m----> 1\u001b[1;33m \u001b[0mP0\u001b[0m \u001b[1;33m=\u001b[0m \u001b[1;33m(\u001b[0m\u001b[1;36m1\u001b[0m\u001b[1;33m/\u001b[0m\u001b[0mshots\u001b[0m\u001b[1;33m)\u001b[0m\u001b[1;33m*\u001b[0m\u001b[0mresult_simple\u001b[0m\u001b[1;33m.\u001b[0m\u001b[0mget_counts\u001b[0m\u001b[1;33m(\u001b[0m\u001b[1;33m)\u001b[0m\u001b[1;33m[\u001b[0m\u001b[0mzerocode\u001b[0m\u001b[1;33m]\u001b[0m\u001b[1;33m\u001b[0m\u001b[1;33m\u001b[0m\u001b[0m\n\u001b[0m\u001b[0;32m      2\u001b[0m \u001b[0mP1\u001b[0m \u001b[1;33m=\u001b[0m \u001b[1;33m(\u001b[0m\u001b[1;36m1\u001b[0m\u001b[1;33m/\u001b[0m\u001b[0mshots\u001b[0m\u001b[1;33m)\u001b[0m\u001b[1;33m*\u001b[0m\u001b[0mresult_simple\u001b[0m\u001b[1;33m.\u001b[0m\u001b[0mget_counts\u001b[0m\u001b[1;33m(\u001b[0m\u001b[1;33m)\u001b[0m\u001b[1;33m[\u001b[0m\u001b[0monecode\u001b[0m\u001b[1;33m]\u001b[0m\u001b[1;33m\u001b[0m\u001b[1;33m\u001b[0m\u001b[0m\n\u001b[0;32m      3\u001b[0m \u001b[0mprint\u001b[0m\u001b[1;33m(\u001b[0m\u001b[1;34m'P(|00...0>) = '\u001b[0m\u001b[1;33m,\u001b[0m\u001b[0mP0\u001b[0m\u001b[1;33m)\u001b[0m\u001b[1;33m\u001b[0m\u001b[1;33m\u001b[0m\u001b[0m\n\u001b[0;32m      4\u001b[0m \u001b[0mprint\u001b[0m\u001b[1;33m(\u001b[0m\u001b[1;34m'P(|11...1>) = '\u001b[0m\u001b[1;33m,\u001b[0m\u001b[0mP1\u001b[0m\u001b[1;33m)\u001b[0m\u001b[1;33m\u001b[0m\u001b[1;33m\u001b[0m\u001b[0m\n",
      "\u001b[1;31mNameError\u001b[0m: name 'result_simple' is not defined"
     ]
    }
   ],
   "source": [
    "P0 = (1/shots)*result_simple.get_counts()[zerocode]\n",
    "P1 = (1/shots)*result_simple.get_counts()[onecode]\n",
    "print('P(|00...0>) = ',P0)\n",
    "print('P(|11...1>) = ',P1)"
   ]
  },
  {
   "cell_type": "markdown",
   "metadata": {},
   "source": [
    "Now with error mitigation:"
   ]
  },
  {
   "cell_type": "code",
   "execution_count": 26,
   "metadata": {},
   "outputs": [],
   "source": [
    "qr = QuantumRegister(qn)\n",
    "qubit_list = range(qn)\n",
    "meas_calibs_simple, state_labels_simple = complete_meas_cal(qubit_list=qubit_list, qr=qr, circlabel='mcal')"
   ]
  },
  {
   "cell_type": "code",
   "execution_count": 27,
   "metadata": {},
   "outputs": [
    {
     "name": "stdout",
     "output_type": "stream",
     "text": [
      "Job Status: job has successfully run\n"
     ]
    }
   ],
   "source": [
    "job_simple_em = qiskit.execute(meas_calibs_simple, backend=backend,\n",
    "                     noise_model=noise_model)\n",
    "job_monitor(job_simple_em)\n",
    "meas_result = job_simple_em.result()"
   ]
  },
  {
   "cell_type": "code",
   "execution_count": 28,
   "metadata": {},
   "outputs": [
    {
     "ename": "NameError",
     "evalue": "name 'result_simple' is not defined",
     "output_type": "error",
     "traceback": [
      "\u001b[1;31m---------------------------------------------------------------------------\u001b[0m",
      "\u001b[1;31mNameError\u001b[0m                                 Traceback (most recent call last)",
      "\u001b[1;32m<ipython-input-28-249d43dd2a8a>\u001b[0m in \u001b[0;36m<module>\u001b[1;34m\u001b[0m\n\u001b[0;32m      1\u001b[0m \u001b[0mmeas_fitter\u001b[0m \u001b[1;33m=\u001b[0m \u001b[0mCompleteMeasFitter\u001b[0m\u001b[1;33m(\u001b[0m\u001b[0mmeas_result\u001b[0m\u001b[1;33m,\u001b[0m\u001b[0mstate_labels_simple\u001b[0m\u001b[1;33m,\u001b[0m\u001b[0mcirclabel\u001b[0m\u001b[1;33m=\u001b[0m\u001b[1;34m'mcal'\u001b[0m\u001b[1;33m)\u001b[0m\u001b[1;33m\u001b[0m\u001b[1;33m\u001b[0m\u001b[0m\n\u001b[1;32m----> 2\u001b[1;33m \u001b[0mresult_simple_em\u001b[0m \u001b[1;33m=\u001b[0m \u001b[0mmeas_fitter\u001b[0m\u001b[1;33m.\u001b[0m\u001b[0mfilter\u001b[0m\u001b[1;33m.\u001b[0m\u001b[0mapply\u001b[0m\u001b[1;33m(\u001b[0m\u001b[0mresult_simple\u001b[0m\u001b[1;33m)\u001b[0m\u001b[1;33m\u001b[0m\u001b[1;33m\u001b[0m\u001b[0m\n\u001b[0m",
      "\u001b[1;31mNameError\u001b[0m: name 'result_simple' is not defined"
     ]
    }
   ],
   "source": [
    "meas_fitter = CompleteMeasFitter(meas_result,state_labels_simple,circlabel='mcal')\n",
    "result_simple_em = meas_fitter.filter.apply(result_simple)"
   ]
  },
  {
   "cell_type": "code",
   "execution_count": null,
   "metadata": {},
   "outputs": [],
   "source": [
    "result_simple_em.get_counts()[zerocode]*1/shots"
   ]
  },
  {
   "cell_type": "code",
   "execution_count": null,
   "metadata": {},
   "outputs": [],
   "source": [
    "P0_m = (1/shots)*result_simple_em.get_counts()[zerocode]\n",
    "P1_m = (1/shots)*result_simple_em.get_counts()[onecode]\n",
    "print('P(|00...0>) error mitigated = ',P0_m)\n",
    "print('P(|11...1>) error mitigated = ',P1_m)"
   ]
  },
  {
   "cell_type": "markdown",
   "metadata": {},
   "source": [
    "We will load these values in a dictionary for assessing fidelity later on:\n"
   ]
  },
  {
   "cell_type": "code",
   "execution_count": null,
   "metadata": {},
   "outputs": [],
   "source": [
    "p_dict = {'P0': P0, 'P1': P1, 'P0_m': P0_m, 'P1_m':P1_m}"
   ]
  },
  {
   "cell_type": "markdown",
   "metadata": {},
   "source": [
    "## Part 1 : MQC\n",
    "\n",
    "We now retrieve a parallellized MQC circuit for the n qubit device\n"
   ]
  },
  {
   "cell_type": "code",
   "execution_count": null,
   "metadata": {},
   "outputs": [],
   "source": [
    "shots = 1024 #numbers of shots in a given experiment\n",
    "max_credits = 3 #number of credits\n",
    "qn = 5 #number of qubits\n",
    "zerocode = '0'*qn #will help us easily define the state |00...00> \n",
    "sweep = np.arange(0.,np.pi*2,np.pi/16) #standard list of phase values we will sweep "
   ]
  },
  {
   "cell_type": "code",
   "execution_count": null,
   "metadata": {},
   "outputs": [],
   "source": [
    "%%time\n",
    "circ, theta,initial_layout = protocirc.get_ghz_mqc_para(qn)\n",
    "circ_total_mqc = [circ.bind_parameters({theta:t}) for t in sweep]"
   ]
  },
  {
   "cell_type": "markdown",
   "metadata": {},
   "source": [
    "We now execute the MQC experiment:"
   ]
  },
  {
   "cell_type": "code",
   "execution_count": null,
   "metadata": {},
   "outputs": [],
   "source": [
    "job_exp_mqc = execute(circ_total_mqc, backend, shots=shots, max_credits=max_credits,\n",
    "                      noise_model=noise_model,coupling_map=coupling_map,basis_gates=basis_gates)\n",
    "job_monitor(job_exp_mqc)\n",
    "result_exp_mqc = job_exp_mqc.result()"
   ]
  },
  {
   "cell_type": "markdown",
   "metadata": {},
   "source": [
    "Now we will plot the amount of counts measured for $|0 \\rangle ^{\\otimes n}$ as a function of phase. It is important to note that when using a parametrized circuit like the one here, the method `get_counts()` accepts an **index** and not a **circuit**. In any other type of experiment, `get_counts()` accepts a **circuit**."
   ]
  },
  {
   "cell_type": "code",
   "execution_count": null,
   "metadata": {},
   "outputs": [],
   "source": [
    "zeros = [(1/shots)*result_exp_mqc.get_counts(a)[zerocode] if \n",
    "          zerocode in result_exp_mqc.get_counts(a) else 0 for a in range(len(sweep)) ] #notice the important difference with proto2; takes only the index, not the actual circuit\n",
    "Plotter('mqc').sin_plotter(sweep,zeros)"
   ]
  },
  {
   "cell_type": "markdown",
   "metadata": {},
   "source": [
    "Now we get started on error mitigation. We create an identical quantum register and use complete_meas_cal from Ignis, to create circuits for calibrated measurements to be excecuted, and a calibration matrix."
   ]
  },
  {
   "cell_type": "code",
   "execution_count": null,
   "metadata": {},
   "outputs": [],
   "source": [
    "qr = qiskit.QuantumRegister(qn)\n",
    "qubit_list = range(qn)\n",
    "meas_calibs_mqc, state_labels_mqc = complete_meas_cal(qubit_list=qubit_list, qr=qr, circlabel='mcal') #from Ignis"
   ]
  },
  {
   "cell_type": "code",
   "execution_count": null,
   "metadata": {},
   "outputs": [],
   "source": [
    "job_cal_mqc = qiskit.execute(meas_calibs_mqc, backend=backend,\n",
    "                     noise_model=noise_model,coupling_map=coupling_map,basis_gates=basis_gates)\n",
    "job_monitor(job_cal_mqc)\n",
    "meas_result_mqc = job_cal_mqc.result()"
   ]
  },
  {
   "cell_type": "code",
   "execution_count": null,
   "metadata": {},
   "outputs": [],
   "source": [
    "meas_fitter_mqc = CompleteMeasFitter(meas_result_mqc,state_labels_mqc,circlabel='mcal')\n",
    "# print(meas_fitter.cal_matrix) #uncomment this to see how close the calibration matrix is to the calibration matrix"
   ]
  },
  {
   "cell_type": "markdown",
   "metadata": {},
   "source": [
    "Finally, we have our error mitigated results:"
   ]
  },
  {
   "cell_type": "code",
   "execution_count": null,
   "metadata": {},
   "outputs": [],
   "source": [
    "result_exp_em = meas_fitter_mqc.filter.apply(result_exp_mqc)"
   ]
  },
  {
   "cell_type": "markdown",
   "metadata": {},
   "source": [
    "We can see how the error mitigated results yield a far greater fidelity than the raw data"
   ]
  },
  {
   "cell_type": "code",
   "execution_count": null,
   "metadata": {},
   "outputs": [],
   "source": [
    "zeros_m = [(1/shots)*result_exp_em.get_counts(a)[zerocode] if \n",
    "          zerocode in result_exp_em.get_counts(a) else 0 for a in range(len(sweep)) ]\n",
    "\n",
    "Plotter('mqc').sin_plotter(sweep,zeros,zeros_m)"
   ]
  },
  {
   "cell_type": "code",
   "execution_count": null,
   "metadata": {},
   "outputs": [],
   "source": [
    "Plotter('mqc').get_fourier_info(qn,sweep,zeros,zeros_m,p_dict)"
   ]
  },
  {
   "cell_type": "markdown",
   "metadata": {},
   "source": [
    "We now plot the DFT and compare the heights of the peaks to give bounds for the fidelity"
   ]
  },
  {
   "cell_type": "markdown",
   "metadata": {},
   "source": [
    "Statistical bootstrapping has found that the error on these measurements is at most 1.5% (arXiv 1905.05720), so these result fall within error bounds, despite the fidelity being slightly higher than the upper bound, and show how error mitigation dramatically increases fidelity"
   ]
  },
  {
   "cell_type": "markdown",
   "metadata": {},
   "source": [
    "## Part 2: Parity Oscillation\n",
    "\n",
    "We now retrieve a parallellized Parity Oscillation circuit for the n qubit device, and run experiments in the same fashion as we did in MQC.\n"
   ]
  },
  {
   "cell_type": "code",
   "execution_count": null,
   "metadata": {},
   "outputs": [],
   "source": [
    "shots = 1024\n",
    "max_credits = 3\n",
    "qn = 5\n",
    "zerocode = '0'*qn\n",
    "sweep = np.arange(0,np.pi*2,np.pi/16)"
   ]
  },
  {
   "cell_type": "code",
   "execution_count": null,
   "metadata": {},
   "outputs": [],
   "source": [
    "%%time\n",
    "circ, [theta,thetaneg] , initial_layout = protocirc.get_ghz_po_para(qn)\n",
    "\n",
    "circ_total = [circ.bind_parameters({theta:t, thetaneg:-t}) for t in sweep]"
   ]
  },
  {
   "cell_type": "code",
   "execution_count": null,
   "metadata": {},
   "outputs": [],
   "source": [
    "job_exp = execute(circ_total, backend, shots=shots, max_credits=max_credits,\n",
    "                  noise_model=noise_model, coupling_map=coupling_map, basis_gates=basis_gates)\n",
    "job_monitor(job_exp)\n",
    "result_exp = job_exp.result()"
   ]
  },
  {
   "cell_type": "markdown",
   "metadata": {},
   "source": [
    "Now we construct the $\\otimes _{j}^{N} \\sigma_z^{j}$ matrix for instruction, although this is already taken into account in the following method, `entanglement.analysis.composite_pauli_z_expvalue()`:"
   ]
  },
  {
   "cell_type": "code",
   "execution_count": null,
   "metadata": {},
   "outputs": [],
   "source": [
    "composite_sigma_z = sigma_z = np.array([[1, 0],[0, -1]])\n",
    "for a in range(1,qn):\n",
    "    composite_sigma_z = np.kron(composite_sigma_z,sigma_z)"
   ]
  },
  {
   "cell_type": "markdown",
   "metadata": {},
   "source": [
    "Now we want to make sure that our list of counts is correctly ordered so that it coincides with the states of the $\\otimes _{j}^{N} \\sigma_z^{j}$, so that calculating  $\\langle \\otimes _{j}^{N} \\sigma_z^{j} \\rangle$ will be as simple as taking the dot product of this ordered list with the diagonal of $\\otimes _{j}^{N} \\sigma_z^{j}$. The `composite_pauli_z_expvalue` function does just that; it takes a circuit and appropriately orders the state vector counts. We can plot this dot product as a function of $\\phi$ to observe parity oscillations."
   ]
  },
  {
   "cell_type": "code",
   "execution_count": 29,
   "metadata": {},
   "outputs": [
    {
     "ename": "ModuleNotFoundError",
     "evalue": "No module named 'entanglement'",
     "output_type": "error",
     "traceback": [
      "\u001b[1;31m---------------------------------------------------------------------------\u001b[0m",
      "\u001b[1;31mModuleNotFoundError\u001b[0m                       Traceback (most recent call last)",
      "\u001b[1;32m<ipython-input-29-6a2dea261773>\u001b[0m in \u001b[0;36m<module>\u001b[1;34m\u001b[0m\n\u001b[1;32m----> 1\u001b[1;33m \u001b[1;32mfrom\u001b[0m \u001b[0mentanglement\u001b[0m\u001b[1;33m.\u001b[0m\u001b[0manalysis\u001b[0m \u001b[1;32mimport\u001b[0m \u001b[0mcomposite_pauli_z_expvalue\u001b[0m\u001b[1;33m\u001b[0m\u001b[1;33m\u001b[0m\u001b[0m\n\u001b[0m",
      "\u001b[1;31mModuleNotFoundError\u001b[0m: No module named 'entanglement'"
     ]
    }
   ],
   "source": [
    "from entanglement.analysis import composite_pauli_z_expvalue"
   ]
  },
  {
   "cell_type": "code",
   "execution_count": 30,
   "metadata": {},
   "outputs": [
    {
     "ename": "NameError",
     "evalue": "name 'composite_pauli_z_expvalue' is not defined",
     "output_type": "error",
     "traceback": [
      "\u001b[1;31m---------------------------------------------------------------------------\u001b[0m",
      "\u001b[1;31mNameError\u001b[0m                                 Traceback (most recent call last)",
      "\u001b[1;32m<ipython-input-30-233a68fe3c3d>\u001b[0m in \u001b[0;36m<module>\u001b[1;34m\u001b[0m\n\u001b[1;32m----> 1\u001b[1;33m \u001b[0my\u001b[0m \u001b[1;33m=\u001b[0m \u001b[1;33m[\u001b[0m \u001b[1;33m(\u001b[0m\u001b[1;36m1\u001b[0m\u001b[1;33m/\u001b[0m\u001b[0mshots\u001b[0m\u001b[1;33m)\u001b[0m\u001b[1;33m*\u001b[0m\u001b[0mcomposite_pauli_z_expvalue\u001b[0m\u001b[1;33m(\u001b[0m\u001b[0mresult_exp\u001b[0m\u001b[1;33m.\u001b[0m\u001b[0mget_counts\u001b[0m\u001b[1;33m(\u001b[0m\u001b[0mi\u001b[0m\u001b[1;33m)\u001b[0m\u001b[1;33m,\u001b[0m\u001b[0mqn\u001b[0m\u001b[1;33m)\u001b[0m \u001b[1;32mfor\u001b[0m \u001b[0mi\u001b[0m \u001b[1;32min\u001b[0m \u001b[0mrange\u001b[0m\u001b[1;33m(\u001b[0m\u001b[0mlen\u001b[0m\u001b[1;33m(\u001b[0m\u001b[0msweep\u001b[0m\u001b[1;33m)\u001b[0m\u001b[1;33m)\u001b[0m\u001b[1;33m]\u001b[0m\u001b[1;33m\u001b[0m\u001b[1;33m\u001b[0m\u001b[0m\n\u001b[0m",
      "\u001b[1;32m<ipython-input-30-233a68fe3c3d>\u001b[0m in \u001b[0;36m<listcomp>\u001b[1;34m(.0)\u001b[0m\n\u001b[1;32m----> 1\u001b[1;33m \u001b[0my\u001b[0m \u001b[1;33m=\u001b[0m \u001b[1;33m[\u001b[0m \u001b[1;33m(\u001b[0m\u001b[1;36m1\u001b[0m\u001b[1;33m/\u001b[0m\u001b[0mshots\u001b[0m\u001b[1;33m)\u001b[0m\u001b[1;33m*\u001b[0m\u001b[0mcomposite_pauli_z_expvalue\u001b[0m\u001b[1;33m(\u001b[0m\u001b[0mresult_exp\u001b[0m\u001b[1;33m.\u001b[0m\u001b[0mget_counts\u001b[0m\u001b[1;33m(\u001b[0m\u001b[0mi\u001b[0m\u001b[1;33m)\u001b[0m\u001b[1;33m,\u001b[0m\u001b[0mqn\u001b[0m\u001b[1;33m)\u001b[0m \u001b[1;32mfor\u001b[0m \u001b[0mi\u001b[0m \u001b[1;32min\u001b[0m \u001b[0mrange\u001b[0m\u001b[1;33m(\u001b[0m\u001b[0mlen\u001b[0m\u001b[1;33m(\u001b[0m\u001b[0msweep\u001b[0m\u001b[1;33m)\u001b[0m\u001b[1;33m)\u001b[0m\u001b[1;33m]\u001b[0m\u001b[1;33m\u001b[0m\u001b[1;33m\u001b[0m\u001b[0m\n\u001b[0m",
      "\u001b[1;31mNameError\u001b[0m: name 'composite_pauli_z_expvalue' is not defined"
     ]
    }
   ],
   "source": [
    "y = [ (1/shots)*composite_pauli_z_expvalue(result_exp.get_counts(i),qn) for i in range(len(sweep))]"
   ]
  },
  {
   "cell_type": "code",
   "execution_count": 31,
   "metadata": {},
   "outputs": [
    {
     "ename": "NameError",
     "evalue": "name 'y' is not defined",
     "output_type": "error",
     "traceback": [
      "\u001b[1;31m---------------------------------------------------------------------------\u001b[0m",
      "\u001b[1;31mNameError\u001b[0m                                 Traceback (most recent call last)",
      "\u001b[1;32m<ipython-input-31-b5e1e937a41b>\u001b[0m in \u001b[0;36m<module>\u001b[1;34m\u001b[0m\n\u001b[1;32m----> 1\u001b[1;33m \u001b[0mplt\u001b[0m\u001b[1;33m.\u001b[0m\u001b[0mplot\u001b[0m\u001b[1;33m(\u001b[0m\u001b[0msweep\u001b[0m\u001b[1;33m,\u001b[0m\u001b[0my\u001b[0m\u001b[1;33m)\u001b[0m\u001b[1;33m\u001b[0m\u001b[1;33m\u001b[0m\u001b[0m\n\u001b[0m\u001b[0;32m      2\u001b[0m \u001b[0mPlotter\u001b[0m\u001b[1;33m(\u001b[0m\u001b[1;34m'po'\u001b[0m\u001b[1;33m)\u001b[0m\u001b[1;33m.\u001b[0m\u001b[0msin_plotter\u001b[0m\u001b[1;33m(\u001b[0m\u001b[0msweep\u001b[0m\u001b[1;33m,\u001b[0m\u001b[0my\u001b[0m\u001b[1;33m)\u001b[0m\u001b[1;33m\u001b[0m\u001b[1;33m\u001b[0m\u001b[0m\n",
      "\u001b[1;31mNameError\u001b[0m: name 'y' is not defined"
     ]
    }
   ],
   "source": [
    "plt.plot(sweep,y)\n",
    "Plotter('po').sin_plotter(sweep,y)"
   ]
  },
  {
   "cell_type": "markdown",
   "metadata": {},
   "source": [
    "Now for standard error mitigation:"
   ]
  },
  {
   "cell_type": "code",
   "execution_count": 32,
   "metadata": {},
   "outputs": [],
   "source": [
    "qr = qiskit.QuantumRegister(qn)\n",
    "qubit_list = range(qn)\n",
    "meas_calibs, state_labels = complete_meas_cal(qubit_list=qubit_list, qr=qr, circlabel='mcal')"
   ]
  },
  {
   "cell_type": "code",
   "execution_count": 33,
   "metadata": {},
   "outputs": [
    {
     "name": "stdout",
     "output_type": "stream",
     "text": [
      "Job Status: job has successfully run\n"
     ]
    }
   ],
   "source": [
    "job_cal = qiskit.execute(meas_calibs, backend=backend,\n",
    "                  noise_model=noise_model, coupling_map=coupling_map, basis_gates=basis_gates)\n",
    "job_monitor(job_cal)\n",
    "meas_result = job_cal.result()"
   ]
  },
  {
   "cell_type": "code",
   "execution_count": 34,
   "metadata": {},
   "outputs": [
    {
     "ename": "NameError",
     "evalue": "name 'result_exp' is not defined",
     "output_type": "error",
     "traceback": [
      "\u001b[1;31m---------------------------------------------------------------------------\u001b[0m",
      "\u001b[1;31mNameError\u001b[0m                                 Traceback (most recent call last)",
      "\u001b[1;32m<ipython-input-34-f0ee7012915e>\u001b[0m in \u001b[0;36m<module>\u001b[1;34m\u001b[0m\n\u001b[0;32m      1\u001b[0m \u001b[0mmeas_fitter\u001b[0m \u001b[1;33m=\u001b[0m \u001b[0mCompleteMeasFitter\u001b[0m\u001b[1;33m(\u001b[0m\u001b[0mmeas_result\u001b[0m\u001b[1;33m,\u001b[0m\u001b[0mstate_labels\u001b[0m\u001b[1;33m,\u001b[0m\u001b[0mcirclabel\u001b[0m\u001b[1;33m=\u001b[0m\u001b[1;34m'mcal'\u001b[0m\u001b[1;33m)\u001b[0m\u001b[1;33m\u001b[0m\u001b[1;33m\u001b[0m\u001b[0m\n\u001b[1;32m----> 2\u001b[1;33m \u001b[0mresult_exp_em\u001b[0m \u001b[1;33m=\u001b[0m \u001b[0mmeas_fitter\u001b[0m\u001b[1;33m.\u001b[0m\u001b[0mfilter\u001b[0m\u001b[1;33m.\u001b[0m\u001b[0mapply\u001b[0m\u001b[1;33m(\u001b[0m\u001b[0mresult_exp\u001b[0m\u001b[1;33m)\u001b[0m\u001b[1;33m\u001b[0m\u001b[1;33m\u001b[0m\u001b[0m\n\u001b[0m",
      "\u001b[1;31mNameError\u001b[0m: name 'result_exp' is not defined"
     ]
    }
   ],
   "source": [
    "meas_fitter = CompleteMeasFitter(meas_result,state_labels,circlabel='mcal')\n",
    "result_exp_em = meas_fitter.filter.apply(result_exp)\n"
   ]
  },
  {
   "cell_type": "code",
   "execution_count": null,
   "metadata": {},
   "outputs": [],
   "source": [
    "y_m = [ (1/shots)*composite_pauli_z_expvalue(result_exp_em.get_counts(i),qn) for i in range(len(sweep))]"
   ]
  },
  {
   "cell_type": "code",
   "execution_count": null,
   "metadata": {},
   "outputs": [],
   "source": [
    "Plotter('po').sin_plotter(sweep,y,y_m)"
   ]
  },
  {
   "cell_type": "markdown",
   "metadata": {},
   "source": [
    "We can see how error mitigation dramatically improves our measurement (much more so in PO than in MQC). Let us quantify this using the same DFT method we used in MQC, and calulating the actual fidelities:"
   ]
  },
  {
   "cell_type": "code",
   "execution_count": null,
   "metadata": {},
   "outputs": [],
   "source": [
    "Plotter('po').get_fourier_info(qn,sweep,y,y_m,p_dict)"
   ]
  },
  {
   "cell_type": "markdown",
   "metadata": {},
   "source": [
    "As we see, the raw fidelity is much lower than what is acheived with MQC, but the error mitigated result is about the same."
   ]
  },
  {
   "cell_type": "markdown",
   "metadata": {},
   "source": [
    "## Part 3: Tomography\n",
    "\n",
    "The first step in this experiment to just pass a simple GHZ state with *no* measurements. Also, the circuit cannot be transpiled; the `transpiled` argument in the `getGHZChecker()` method can be turned on and off as is shown"
   ]
  },
  {
   "cell_type": "code",
   "execution_count": null,
   "metadata": {},
   "outputs": [],
   "source": [
    "shots = 1024\n",
    "max_credits = 3\n",
    "qn = 5\n",
    "zerocode = '0'*qn\n",
    "q = QuantumRegister(qn, 'q')"
   ]
  },
  {
   "cell_type": "code",
   "execution_count": null,
   "metadata": {},
   "outputs": [],
   "source": [
    "circ_total, initial_layout = protocirc.get_ghz_layout(qn,transpiled=False)"
   ]
  },
  {
   "cell_type": "markdown",
   "metadata": {},
   "source": [
    "We now pass a simulated backend from `Aer` to get theoretical statevector counts "
   ]
  },
  {
   "cell_type": "code",
   "execution_count": null,
   "metadata": {},
   "outputs": [],
   "source": [
    "job_exp = execute(circ_total, Aer.get_backend('statevector_simulator'), shots=shots, max_credits=max_credits)\n",
    "job_monitor(job_exp)\n",
    "result_exp = job_exp.result()\n",
    "psi_exp = result_exp.get_statevector(circ_total)"
   ]
  },
  {
   "cell_type": "markdown",
   "metadata": {},
   "source": [
    "This following code runs tomography experiments on the circuit we defined first, which is then compared to the theortical statevector to generate a density matrix"
   ]
  },
  {
   "cell_type": "code",
   "execution_count": null,
   "metadata": {},
   "outputs": [],
   "source": [
    "qst = state_tomography_circuits(circ_total,q)\n",
    "job = qiskit.execute(qst, backend, shots=shots, initial_layout=initial_layout,noise_model=noise_model, coupling_map=coupling_map, basis_gates=basis_gates)\n",
    "job_monitor(job)"
   ]
  },
  {
   "cell_type": "code",
   "execution_count": null,
   "metadata": {},
   "outputs": [],
   "source": [
    "tomo = StateTomographyFitter(job.result(), qst)"
   ]
  },
  {
   "cell_type": "markdown",
   "metadata": {},
   "source": [
    "From here we can get the fidelity, although this method is not as fool proof as the one we will get to eventually:"
   ]
  },
  {
   "cell_type": "code",
   "execution_count": null,
   "metadata": {},
   "outputs": [],
   "source": [
    "F = quantum_info.state_fidelity(psi_exp,tomo.fit())"
   ]
  },
  {
   "cell_type": "markdown",
   "metadata": {},
   "source": [
    "...And now for error mitigation..."
   ]
  },
  {
   "cell_type": "code",
   "execution_count": null,
   "metadata": {},
   "outputs": [],
   "source": [
    "qr = qiskit.QuantumRegister(qn)\n",
    "qubit_list = range(qn)\n",
    "meas_calibs, state_labels = complete_meas_cal(qubit_list=qubit_list, qr=qr, circlabel='mcal')"
   ]
  },
  {
   "cell_type": "code",
   "execution_count": null,
   "metadata": {},
   "outputs": [],
   "source": [
    "job_c = qiskit.execute(meas_calibs, backend=backend,\n",
    "                  noise_model=noise_model, coupling_map=coupling_map, basis_gates=basis_gates)\n",
    "job_monitor(job_c)\n",
    "meas_result = job_c.result()\n"
   ]
  },
  {
   "cell_type": "code",
   "execution_count": null,
   "metadata": {},
   "outputs": [],
   "source": [
    "meas_fitter = CompleteMeasFitter(meas_result,state_labels,circlabel='mcal')\n",
    "result_em = meas_fitter.filter.apply(job.result())"
   ]
  },
  {
   "cell_type": "code",
   "execution_count": null,
   "metadata": {},
   "outputs": [],
   "source": [
    "result_em = meas_fitter.filter.apply(job.result())\n",
    "tomo_em = StateTomographyFitter(result_em, qst)"
   ]
  },
  {
   "cell_type": "markdown",
   "metadata": {},
   "source": [
    "Now, using `qiskit.visualization`, we can plot the raw density matrix, real, and imiginary parts being on separate plots,..."
   ]
  },
  {
   "cell_type": "code",
   "execution_count": null,
   "metadata": {},
   "outputs": [],
   "source": [
    "qiskit.visualization.plot_state_city(tomo.fit(),\"city\")"
   ]
  },
  {
   "cell_type": "markdown",
   "metadata": {},
   "source": [
    "And also the error mitigated density matrix,..."
   ]
  },
  {
   "cell_type": "code",
   "execution_count": null,
   "metadata": {},
   "outputs": [],
   "source": [
    "qiskit.visualization.plot_state_city(tomo_em.fit(),\"city\")"
   ]
  },
  {
   "cell_type": "markdown",
   "metadata": {},
   "source": [
    "The actual density matrices can be obtained using the `fit()` method. Once we have the density matrix, we can compute the fidelity, which is nothing but half the sum of the four corners of the density matrix; the following method helps us: "
   ]
  },
  {
   "cell_type": "code",
   "execution_count": null,
   "metadata": {},
   "outputs": [],
   "source": [
    "from entanglement.analysis import rho_to_fidelity"
   ]
  },
  {
   "cell_type": "code",
   "execution_count": null,
   "metadata": {},
   "outputs": [],
   "source": [
    "rho, rho_em = tomo.fit() , tomo_em.fit()"
   ]
  },
  {
   "cell_type": "code",
   "execution_count": 35,
   "metadata": {},
   "outputs": [
    {
     "ename": "NameError",
     "evalue": "name 'rho_to_fidelity' is not defined",
     "output_type": "error",
     "traceback": [
      "\u001b[1;31m---------------------------------------------------------------------------\u001b[0m",
      "\u001b[1;31mNameError\u001b[0m                                 Traceback (most recent call last)",
      "\u001b[1;32m<ipython-input-35-da5ff756f585>\u001b[0m in \u001b[0;36m<module>\u001b[1;34m\u001b[0m\n\u001b[1;32m----> 1\u001b[1;33m \u001b[0mF\u001b[0m \u001b[1;33m=\u001b[0m \u001b[0mrho_to_fidelity\u001b[0m\u001b[1;33m(\u001b[0m\u001b[0mrho\u001b[0m\u001b[1;33m)\u001b[0m\u001b[1;33m\u001b[0m\u001b[1;33m\u001b[0m\u001b[0m\n\u001b[0m\u001b[0;32m      2\u001b[0m \u001b[0mF_em\u001b[0m \u001b[1;33m=\u001b[0m \u001b[0mrho_to_fidelity\u001b[0m\u001b[1;33m(\u001b[0m\u001b[0mrho_em\u001b[0m\u001b[1;33m)\u001b[0m\u001b[1;33m\u001b[0m\u001b[1;33m\u001b[0m\u001b[0m\n",
      "\u001b[1;31mNameError\u001b[0m: name 'rho_to_fidelity' is not defined"
     ]
    }
   ],
   "source": [
    "F = rho_to_fidelity(rho)\n",
    "F_em = rho_to_fidelity(rho_em)"
   ]
  },
  {
   "cell_type": "code",
   "execution_count": 36,
   "metadata": {},
   "outputs": [
    {
     "ename": "NameError",
     "evalue": "name 'F' is not defined",
     "output_type": "error",
     "traceback": [
      "\u001b[1;31m---------------------------------------------------------------------------\u001b[0m",
      "\u001b[1;31mNameError\u001b[0m                                 Traceback (most recent call last)",
      "\u001b[1;32m<ipython-input-36-739d88ae6b37>\u001b[0m in \u001b[0;36m<module>\u001b[1;34m\u001b[0m\n\u001b[1;32m----> 1\u001b[1;33m \u001b[0mprint\u001b[0m\u001b[1;33m(\u001b[0m\u001b[1;34m\"Raw fidelity: \"\u001b[0m\u001b[1;33m,\u001b[0m\u001b[0mF\u001b[0m\u001b[1;33m)\u001b[0m\u001b[1;33m\u001b[0m\u001b[1;33m\u001b[0m\u001b[0m\n\u001b[0m\u001b[0;32m      2\u001b[0m \u001b[0mprint\u001b[0m\u001b[1;33m(\u001b[0m\u001b[1;34m\"Error mitigated fidelity: \"\u001b[0m\u001b[1;33m,\u001b[0m\u001b[0mF_em\u001b[0m\u001b[1;33m)\u001b[0m\u001b[1;33m\u001b[0m\u001b[1;33m\u001b[0m\u001b[0m\n",
      "\u001b[1;31mNameError\u001b[0m: name 'F' is not defined"
     ]
    }
   ],
   "source": [
    "print(\"Raw fidelity: \",F)\n",
    "print(\"Error mitigated fidelity: \",F_em)"
   ]
  },
  {
   "cell_type": "markdown",
   "metadata": {},
   "source": [
    "As we see, the raw fidelity is much lower than what is acheived with either MQC or Parity Oscillations, but the error mitigated result is about the same.\n",
    "\n",
    "**A note on tomography**\n",
    "\n",
    "Do not perform quantum tomography with >5 qubits"
   ]
  },
  {
   "cell_type": "markdown",
   "metadata": {},
   "source": [
    "# Conclusion\n",
    "\n",
    "In conclusion, we see that without error mitigation, MQC is the superior method for characterizing the GHZ state. However, with error mitigation, all methods can, at least for a small number of qubits, acheive a much greater fidelity, and all near the same value. To get more accurate results, aside from using a real device, it is worth increasing the number of shots four to eight-fold. It may be worth comparing how the parallellized circutis used in this notebook perform fidelity-wise versus linearized circuits."
   ]
  },
  {
   "cell_type": "code",
   "execution_count": 37,
   "metadata": {},
   "outputs": [
    {
     "ename": "ModuleNotFoundError",
     "evalue": "No module named 'qiskit.providers.ibmq.job.exceptions'",
     "output_type": "error",
     "traceback": [
      "\u001b[1;31m---------------------------------------------------------------------------\u001b[0m",
      "\u001b[1;31mModuleNotFoundError\u001b[0m                       Traceback (most recent call last)",
      "\u001b[1;32m<ipython-input-37-9849f423b75d>\u001b[0m in \u001b[0;36m<module>\u001b[1;34m\u001b[0m\n\u001b[1;32m----> 1\u001b[1;33m \u001b[1;32mimport\u001b[0m \u001b[0mqiskit\u001b[0m\u001b[1;33m.\u001b[0m\u001b[0mtools\u001b[0m\u001b[1;33m.\u001b[0m\u001b[0mjupyter\u001b[0m\u001b[1;33m\u001b[0m\u001b[1;33m\u001b[0m\u001b[0m\n\u001b[0m\u001b[0;32m      2\u001b[0m \u001b[0mget_ipython\u001b[0m\u001b[1;33m(\u001b[0m\u001b[1;33m)\u001b[0m\u001b[1;33m.\u001b[0m\u001b[0mrun_line_magic\u001b[0m\u001b[1;33m(\u001b[0m\u001b[1;34m'qiskit_version_table'\u001b[0m\u001b[1;33m,\u001b[0m \u001b[1;34m''\u001b[0m\u001b[1;33m)\u001b[0m\u001b[1;33m\u001b[0m\u001b[1;33m\u001b[0m\u001b[0m\n\u001b[0;32m      3\u001b[0m \u001b[0mget_ipython\u001b[0m\u001b[1;33m(\u001b[0m\u001b[1;33m)\u001b[0m\u001b[1;33m.\u001b[0m\u001b[0mrun_line_magic\u001b[0m\u001b[1;33m(\u001b[0m\u001b[1;34m'qiskit_copyright'\u001b[0m\u001b[1;33m,\u001b[0m \u001b[1;34m''\u001b[0m\u001b[1;33m)\u001b[0m\u001b[1;33m\u001b[0m\u001b[1;33m\u001b[0m\u001b[0m\n",
      "\u001b[1;32m~\\Documents\\GitHub\\qiskit-terra\\qiskit\\tools\\jupyter\\__init__.py\u001b[0m in \u001b[0;36m<module>\u001b[1;34m\u001b[0m\n\u001b[0;32m    101\u001b[0m \u001b[1;32mfrom\u001b[0m \u001b[1;33m.\u001b[0m\u001b[0mversion_table\u001b[0m \u001b[1;32mimport\u001b[0m \u001b[0mVersionTable\u001b[0m\u001b[1;33m\u001b[0m\u001b[1;33m\u001b[0m\u001b[0m\n\u001b[0;32m    102\u001b[0m \u001b[1;32mfrom\u001b[0m \u001b[1;33m.\u001b[0m\u001b[0mcopyright\u001b[0m \u001b[1;32mimport\u001b[0m \u001b[0mCopyright\u001b[0m\u001b[1;33m\u001b[0m\u001b[1;33m\u001b[0m\u001b[0m\n\u001b[1;32m--> 103\u001b[1;33m \u001b[1;32mfrom\u001b[0m \u001b[1;33m.\u001b[0m\u001b[0mjob_watcher\u001b[0m \u001b[1;32mimport\u001b[0m \u001b[0mJobWatcher\u001b[0m\u001b[1;33m,\u001b[0m \u001b[0mJobWatcherMagic\u001b[0m\u001b[1;33m\u001b[0m\u001b[1;33m\u001b[0m\u001b[0m\n\u001b[0m\u001b[0;32m    104\u001b[0m \u001b[1;33m\u001b[0m\u001b[0m\n\u001b[0;32m    105\u001b[0m \u001b[1;32mif\u001b[0m \u001b[0mHAS_MATPLOTLIB\u001b[0m\u001b[1;33m:\u001b[0m\u001b[1;33m\u001b[0m\u001b[1;33m\u001b[0m\u001b[0m\n",
      "\u001b[1;32m~\\Documents\\GitHub\\qiskit-terra\\qiskit\\tools\\jupyter\\job_watcher.py\u001b[0m in \u001b[0;36m<module>\u001b[1;34m\u001b[0m\n\u001b[0;32m     19\u001b[0m                                 Magics, magics_class)\n\u001b[0;32m     20\u001b[0m \u001b[1;32mfrom\u001b[0m \u001b[0mqiskit\u001b[0m\u001b[1;33m.\u001b[0m\u001b[0mtools\u001b[0m\u001b[1;33m.\u001b[0m\u001b[0mevents\u001b[0m\u001b[1;33m.\u001b[0m\u001b[0mpubsub\u001b[0m \u001b[1;32mimport\u001b[0m \u001b[0mSubscriber\u001b[0m\u001b[1;33m\u001b[0m\u001b[1;33m\u001b[0m\u001b[0m\n\u001b[1;32m---> 21\u001b[1;33m \u001b[1;32mfrom\u001b[0m \u001b[0mqiskit\u001b[0m\u001b[1;33m.\u001b[0m\u001b[0mproviders\u001b[0m\u001b[1;33m.\u001b[0m\u001b[0mibmq\u001b[0m\u001b[1;33m.\u001b[0m\u001b[0mjob\u001b[0m\u001b[1;33m.\u001b[0m\u001b[0mexceptions\u001b[0m \u001b[1;32mimport\u001b[0m \u001b[0mIBMQJobApiError\u001b[0m\u001b[1;33m\u001b[0m\u001b[1;33m\u001b[0m\u001b[0m\n\u001b[0m\u001b[0;32m     22\u001b[0m from .job_widgets import (build_job_viewer, make_clear_button,\n\u001b[0;32m     23\u001b[0m                           make_labels, create_job_widget)\n",
      "\u001b[1;31mModuleNotFoundError\u001b[0m: No module named 'qiskit.providers.ibmq.job.exceptions'"
     ]
    }
   ],
   "source": [
    "import qiskit.tools.jupyter\n",
    "%qiskit_version_table\n",
    "%qiskit_copyright"
   ]
  },
  {
   "cell_type": "code",
   "execution_count": null,
   "metadata": {},
   "outputs": [],
   "source": []
  }
 ],
 "metadata": {
  "kernelspec": {
   "display_name": "Python 3",
   "language": "python",
   "name": "python3"
  },
  "language_info": {
   "codemirror_mode": {
    "name": "ipython",
    "version": 3
   },
   "file_extension": ".py",
   "mimetype": "text/x-python",
   "name": "python",
   "nbconvert_exporter": "python",
   "pygments_lexer": "ipython3",
   "version": "3.7.7"
  }
 },
 "nbformat": 4,
 "nbformat_minor": 2
}

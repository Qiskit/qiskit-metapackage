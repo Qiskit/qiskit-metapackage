{
  "cells": [
    {
      "cell_type": "markdown",
      "source": [
        "# Interleaved Randomized Benchmarking\n",
        "\n",
        "* **Last Updated:** August 19, 2019\n",
        "* **Requires:** qiskit-terra 0.8, qiskit-ignis 0.1.2, qiskit-aer 0.2\n",
        "\n",
        "\n",
        "## Introduction\n",
        "\n",
        "**Interleaved Randomized Benchmarking** is a variant of the Randomized Benchmarking (RB) method that is used for benchmarking individual Clifford gates via randomization. The protocol consists of interleaving random gates between the given Clifford gate of interest. The protocol estimates the gate error of the given Clifford. \n",
        "The method is based on the paper *\"Efficient measurement of quantum gate error by interleaved randomized benchmarking\"*(https://arxiv.org/abs/1203.4550).\n",
        "\n",
        "This notebook gives an example for how to use the ``ignis.verification.randomized_benchmarking`` module in order to perform interleaved RB."
      ],
      "metadata": {}
    },
    {
      "cell_type": "code",
      "source": [
        "#Import general libraries (needed for functions)\n",
        "import numpy as np\n",
        "import matplotlib.pyplot as plt\n",
        "from IPython import display\n",
        "\n",
        "#Import the RB Functions\n",
        "import qiskit.ignis.verification.randomized_benchmarking as rb\n",
        "\n",
        "#Import Qiskit classes classes\n",
        "import qiskit\n",
        "from qiskit.providers.aer.noise import NoiseModel\n",
        "from qiskit.providers.aer.noise.errors.standard_errors import depolarizing_error, thermal_relaxation_error"
      ],
      "outputs": [],
      "execution_count": 1,
      "metadata": {
        "ExecuteTime": {
          "end_time": "2019-12-10T21:49:57.016012Z",
          "start_time": "2019-12-10T21:49:55.010322Z"
        },
        "scrolled": true
      }
    },
    {
      "cell_type": "markdown",
      "source": [
        "## Select the Parameters of the Interleaved RB Run\n",
        "\n",
        "First, wee need to choose the regular RB parameters:\n",
        "\n",
        "- **nseeds:** The number of seeds. For each seed you will get a separate list of output circuits in rb_circs.\n",
        "- **length_vector:** The length vector of Clifford lengths. Must be in ascending order. RB sequences of increasing length grow on top of the previous sequences.\n",
        "- **rb_pattern:** A list of the form [[i,j],[k],...] which will make simultaneous RB sequences where Qi,Qj are a 2-qubit RB sequence and Qk is a 1-qubit sequence, etc. The number of qubits is the sum of the entries. For 'regular' RB the qubit_pattern is just [[0]],[[0,1]].\n",
        "- **length_multiplier:** If this is an array it scales each rb_sequence by the multiplier.\n",
        "- **seed_offset:** What to start the seeds at (e.g. if we want to add more seeds later).\n",
        "- **align_cliffs:**  If true adds a barrier across all qubits in rb_pattern after each set of Cliffords.\n",
        "\n",
        "As well as another parameter for interleaved RB:\n",
        "- **interleaved_gates:** A list of gates of Clifford elements that will be interleaved. The length of the list would equal the length of the rb_pattern.\n",
        "\n",
        "In this example we have 3 qubits Q0,Q1,Q2. \n",
        "We are running 2Q RB (on qubits Q0,Q2) and 1Q RB (on qubit Q1) simultaneously, \n",
        "where there are twice as many 1Q Clifford gates."
      ],
      "metadata": {}
    },
    {
      "cell_type": "code",
      "source": [
        "#Number of qubits\n",
        "nQ = 3\n",
        "#There are 3 qubits: Q0,Q1,Q2.\n",
        "#Number of seeds (random sequences)\n",
        "nseeds = 5\n",
        "#Number of Cliffords in the sequence (start, stop, steps)\n",
        "nCliffs = np.arange(1,200,20)\n",
        "#2Q RB on Q0,Q2 and 1Q RB on Q1\n",
        "rb_pattern = [[0,2],[1]]\n",
        "#Do three times as many 1Q Cliffords\n",
        "length_multiplier = [1,3]\n",
        "#Interleaved Clifford gates (2-qubits and 1-qubit)\n",
        "interleaved_gates = [['h 0', 'cx 0 1'],['x 0']]"
      ],
      "outputs": [],
      "execution_count": 2,
      "metadata": {
        "ExecuteTime": {
          "end_time": "2019-12-10T21:49:57.023478Z",
          "start_time": "2019-12-10T21:49:57.018667Z"
        }
      }
    },
    {
      "cell_type": "markdown",
      "source": [
        "## Generate Interleaved RB sequences\n",
        "\n",
        "We generate RB sequences. We start with a small example (so it doesn't take too long to run).\n",
        "\n",
        "In order to generate the RB sequences **rb_circs**, which is a list of lists of quantum circuits, \n",
        "we run the function `rb.randomized_benchmarking_seq`.\n",
        "\n",
        "This function returns:\n",
        "\n",
        "- **rb_original_circs:** A list of lists of circuits for the original RB sequences (separate list for each seed).\n",
        "- **xdata:** The Clifford lengths (with multiplier if applicable).\n",
        "\n",
        "As well as:\n",
        "- **rb_interleaved_circs**: A list of lists of circuits for the interleaved RB sequences (separate list for each seed)."
      ],
      "metadata": {}
    },
    {
      "cell_type": "code",
      "source": [
        "rb_opts = {}\n",
        "rb_opts['length_vector'] = nCliffs\n",
        "rb_opts['nseeds'] = nseeds\n",
        "rb_opts['rb_pattern'] = rb_pattern\n",
        "rb_opts['length_multiplier'] = length_multiplier\n",
        "#rb_opts['align_cliffs'] = True\n",
        "rb_opts['interleaved_gates'] = interleaved_gates\n",
        "rb_original_circs, xdata, rb_interleaved_circs = rb.randomized_benchmarking_seq(**rb_opts)"
      ],
      "outputs": [],
      "execution_count": 3,
      "metadata": {
        "ExecuteTime": {
          "end_time": "2019-12-10T21:50:07.505751Z",
          "start_time": "2019-12-10T21:49:57.026615Z"
        }
      }
    },
    {
      "cell_type": "markdown",
      "source": [
        "As an example, we print the circuit corresponding to the first original and interleaved RB sequences:"
      ],
      "metadata": {}
    },
    {
      "cell_type": "code",
      "source": [
        "#Original RB circuits\n",
        "print (rb_original_circs[0][0])"
      ],
      "outputs": [
        {
          "output_type": "stream",
          "name": "stdout",
          "text": [
            "         ┌───┐┌─────┐ ┌───┐           ┌───┐┌───┐           ░  ┌───┐           »\n",
            "qr_0: |0>┤ H ├┤ Sdg ├─┤ H ├───■───────┤ X ├┤ Z ├───────────░──┤ Z ├───────────»\n",
            "         ├───┤└──░──┘┌┴───┴┐  │  ┌───┐└─┬─┘├───┤  ░  ┌───┐ ░ ┌┴───┴┐┌───┐┌───┐»\n",
            "qr_1: |0>┤ H ├───░───┤ Sdg ├──┼──┤ H ├──┼──┤ Y ├──░──┤ H ├───┤ Sdg ├┤ H ├┤ Y ├»\n",
            "         ├───┤ ┌───┐ └┬───┬┘┌─┴─┐└───┘  │  ├───┤┌───┐└───┘ ░ ├─────┤├───┤└───┘»\n",
            "qr_2: |0>┤ H ├─┤ H ├──┤ S ├─┤ X ├───────■──┤ H ├┤ S ├──────░─┤ Sdg ├┤ H ├─────»\n",
            "         └───┘ └───┘  └───┘ └───┘          └───┘└───┘      ░ └─────┘└───┘     »\n",
            " cr_0: 0 ═════════════════════════════════════════════════════════════════════»\n",
            "                                                                              »\n",
            " cr_1: 0 ═════════════════════════════════════════════════════════════════════»\n",
            "                                                                              »\n",
            " cr_2: 0 ═════════════════════════════════════════════════════════════════════»\n",
            "                                                                              »\n",
            "«         ┌───┐     ┌───┐ ┌───┐ ┌───┐     ┌─┐   \n",
            "«qr_0: ───┤ X ├──■──┤ H ├─┤ S ├─┤ H ├─────┤M├───\n",
            "«       ░ └─┬─┘  │  └┬─┬┘ └───┘ └───┘     └╥┘   \n",
            "«qr_1: ─░───┼────┼───┤M├───────────────────╫────\n",
            "«       ░   │  ┌─┴─┐ └╥┘ ┌─────┐┌───┐┌───┐ ║ ┌─┐\n",
            "«qr_2: ─────■──┤ X ├──╫──┤ Sdg ├┤ H ├┤ H ├─╫─┤M├\n",
            "«              └───┘  ║  └─────┘└───┘└───┘ ║ └╥┘\n",
            "«cr_0: ═══════════════╬════════════════════╩══╬═\n",
            "«                     ║                       ║ \n",
            "«cr_1: ═══════════════╬═══════════════════════╩═\n",
            "«                     ║                         \n",
            "«cr_2: ═══════════════╩═════════════════════════\n",
            "«                                               \n"
          ]
        }
      ],
      "execution_count": 4,
      "metadata": {
        "ExecuteTime": {
          "end_time": "2019-12-10T21:50:07.566650Z",
          "start_time": "2019-12-10T21:50:07.509403Z"
        }
      }
    },
    {
      "cell_type": "code",
      "source": [
        "#Interleaved RB circuits\n",
        "print (rb_interleaved_circs[0][0])"
      ],
      "outputs": [
        {
          "output_type": "stream",
          "name": "stdout",
          "text": [
            "         ┌───┐┌─────┐┌───┐        ┌───┐ ┌───┐            ░ ┌───┐             »\n",
            "qr_0: |0>┤ H ├┤ Sdg ├┤ H ├──■─────┤ X ├─┤ Z ├────────────░─┤ H ├───────■─────»\n",
            "         ├───┤└──░──┘├───┤  │   ░ └─┬─┘┌┴───┴┐┌───┐┌───┐ ░ └─░─┘┌───┐  │   ░ »\n",
            "qr_1: |0>┤ H ├───░───┤ X ├──┼───░───┼──┤ Sdg ├┤ H ├┤ Y ├─────░──┤ X ├──┼───░─»\n",
            "         ├───┤ ┌───┐ ├───┤┌─┴─┐ ░   │  └┬───┬┘├───┤└───┘ ░   ░  └───┘┌─┴─┐ ░ »\n",
            "qr_2: |0>┤ H ├─┤ H ├─┤ S ├┤ X ├─────■───┤ H ├─┤ S ├──────░───────────┤ X ├───»\n",
            "         └───┘ └───┘ └───┘└───┘         └───┘ └───┘      ░           └───┘   »\n",
            " cr_0: 0 ════════════════════════════════════════════════════════════════════»\n",
            "                                                                             »\n",
            " cr_1: 0 ════════════════════════════════════════════════════════════════════»\n",
            "                                                                             »\n",
            " cr_2: 0 ════════════════════════════════════════════════════════════════════»\n",
            "                                                                             »\n",
            "«       ░  ┌───┐  ┌───┐                ┌─────┐┌───┐┌───┐     ┌─┐   \n",
            "«qr_0: ─░──┤ H ├──┤ S ├─────────────■──┤ Sdg ├┤ H ├┤ H ├─────┤M├───\n",
            "«       ░  ├───┤ ┌┴───┴┐┌───┐┌───┐  │  └──░──┘├───┤└─░─┘┌───┐└╥┘┌─┐\n",
            "«qr_1: ────┤ H ├─┤ Sdg ├┤ H ├┤ Y ├──┼─────░───┤ X ├──░──┤ Z ├─╫─┤M├\n",
            "«       ░ ┌┴───┴┐└┬───┬┘└───┘└───┘┌─┴─┐┌─────┐├───┤ ┌─┐ └───┘ ║ └╥┘\n",
            "«qr_2: ─░─┤ Sdg ├─┤ H ├───────────┤ X ├┤ Sdg ├┤ H ├─┤M├───────╫──╫─\n",
            "«       ░ └─────┘ └───┘           └───┘└─────┘└───┘ └╥┘       ║  ║ \n",
            "«cr_0: ══════════════════════════════════════════════╬════════╩══╬═\n",
            "«                                                    ║           ║ \n",
            "«cr_1: ══════════════════════════════════════════════╩═══════════╬═\n",
            "«                                                                ║ \n",
            "«cr_2: ══════════════════════════════════════════════════════════╩═\n",
            "«                                                                  \n"
          ]
        }
      ],
      "execution_count": 5,
      "metadata": {
        "ExecuteTime": {
          "end_time": "2019-12-10T21:50:07.602148Z",
          "start_time": "2019-12-10T21:50:07.569887Z"
        }
      }
    },
    {
      "cell_type": "markdown",
      "source": [
        "## Define the noise model\n",
        "\n",
        "We define a noise model for the simulator. To simulate decay, we add depolarizing error probabilities to the CNOT and U gates."
      ],
      "metadata": {}
    },
    {
      "cell_type": "code",
      "source": [
        "noise_model = NoiseModel()\n",
        "p1Q = 0.002\n",
        "p2Q = 0.01\n",
        "noise_model.add_all_qubit_quantum_error(depolarizing_error(p1Q, 1), 'u2')\n",
        "noise_model.add_all_qubit_quantum_error(depolarizing_error(2*p1Q, 1), 'u3')\n",
        "noise_model.add_all_qubit_quantum_error(depolarizing_error(p2Q, 2), 'cx')"
      ],
      "outputs": [],
      "execution_count": 6,
      "metadata": {
        "ExecuteTime": {
          "end_time": "2019-12-10T21:50:07.618100Z",
          "start_time": "2019-12-10T21:50:07.612033Z"
        }
      }
    },
    {
      "cell_type": "markdown",
      "source": [
        "We can execute the original and interleaved RB sequences either using a Qiskit Aer Simulator (with some noise model) or using an IBMQ provider, and obtain a list of results, `result_list`."
      ],
      "metadata": {}
    },
    {
      "cell_type": "code",
      "source": [
        "#Original RB circuits\n",
        "backend = qiskit.Aer.get_backend('qasm_simulator')\n",
        "basis_gates = ['u1','u2','u3','cx'] # use U,CX for now\n",
        "shots = 200\n",
        "original_result_list = []\n",
        "original_qobj_list = []\n",
        "import time\n",
        "for rb_seed,rb_circ_seed in enumerate(rb_original_circs):\n",
        "    print('Compiling seed %d'%rb_seed)\n",
        "    new_rb_circ_seed = qiskit.compiler.transpile(rb_circ_seed, basis_gates=basis_gates)\n",
        "    qobj = qiskit.compiler.assemble(new_rb_circ_seed, shots=shots)\n",
        "    print('Simulating seed %d'%rb_seed)\n",
        "    job = backend.run(qobj, noise_model=noise_model, backend_options={'max_parallel_experiments': 0})\n",
        "    original_result_list.append(job.result())\n",
        "    original_qobj_list.append(qobj)    \n",
        "print(\"Finished Simulating Original Circuits\")"
      ],
      "outputs": [
        {
          "output_type": "stream",
          "name": "stdout",
          "text": [
            "Compiling seed 0\n",
            "Simulating seed 0\n",
            "Compiling seed 1\n",
            "Simulating seed 1\n",
            "Compiling seed 2\n",
            "Simulating seed 2\n",
            "Compiling seed 3\n",
            "Simulating seed 3\n",
            "Compiling seed 4\n",
            "Simulating seed 4\n",
            "Finished Simulating Original Circuits\n"
          ]
        }
      ],
      "execution_count": 7,
      "metadata": {
        "ExecuteTime": {
          "end_time": "2019-12-10T21:50:54.204717Z",
          "start_time": "2019-12-10T21:50:07.623426Z"
        }
      }
    },
    {
      "cell_type": "code",
      "source": [
        "#Interleaved RB circuits\n",
        "backend = qiskit.Aer.get_backend('qasm_simulator')\n",
        "basis_gates = ['u1','u2','u3','cx'] # use U,CX for now\n",
        "shots = 200\n",
        "interleaved_result_list = []\n",
        "interleaved_qobj_list = []\n",
        "import time\n",
        "for rb_seed,rb_circ_seed in enumerate(rb_interleaved_circs):\n",
        "    print('Compiling seed %d'%rb_seed)\n",
        "    new_rb_circ_seed = qiskit.compiler.transpile(rb_circ_seed, basis_gates=basis_gates)\n",
        "    qobj = qiskit.compiler.assemble(new_rb_circ_seed, shots=shots)\n",
        "    print('Simulating seed %d'%rb_seed)\n",
        "    job = backend.run(qobj, noise_model=noise_model, backend_options={'max_parallel_experiments': 0})\n",
        "    interleaved_result_list.append(job.result())\n",
        "    interleaved_qobj_list.append(qobj)    \n",
        "print(\"Finished Simulating Interleaved Circuits\")"
      ],
      "outputs": [
        {
          "output_type": "stream",
          "name": "stdout",
          "text": [
            "Compiling seed 0\n",
            "Simulating seed 0\n",
            "Compiling seed 1\n",
            "Simulating seed 1\n",
            "Compiling seed 2\n",
            "Simulating seed 2\n",
            "Compiling seed 3\n",
            "Simulating seed 3\n",
            "Compiling seed 4\n",
            "Simulating seed 4\n",
            "Finished Simulating Interleaved Circuits\n"
          ]
        }
      ],
      "execution_count": 8,
      "metadata": {
        "ExecuteTime": {
          "end_time": "2019-12-10T21:52:01.879646Z",
          "start_time": "2019-12-10T21:50:54.210288Z"
        }
      }
    },
    {
      "cell_type": "markdown",
      "source": [
        "## Fit the results\n",
        "\n",
        "We fit the results of the original RB circuits and the interleaved RB circuits into an exponentially decaying function and obtain the *Errors per Clifford* $\\alpha$ and $\\alpha_C$ of the original and interleaved sequences, respectively."
      ],
      "metadata": {}
    },
    {
      "cell_type": "code",
      "source": [
        "#Create the original and interleaved RB fitter\n",
        "original_rb_fit = rb.RBFitter(original_result_list, xdata, rb_opts['rb_pattern'])\n",
        "interleaved_rb_fit = rb.RBFitter(interleaved_result_list, xdata, rb_opts['rb_pattern'])"
      ],
      "outputs": [],
      "execution_count": 9,
      "metadata": {
        "ExecuteTime": {
          "end_time": "2019-12-10T21:52:01.933539Z",
          "start_time": "2019-12-10T21:52:01.884413Z"
        },
        "scrolled": true
      }
    },
    {
      "cell_type": "markdown",
      "source": [
        "### Calculate the interleaved gate error fidelity\n",
        "\n",
        "From the values of $\\alpha$ and $\\alpha_C$ we obtain the gate error of the interleaved Clifford $c$, and $r_C=1-$(average gate fidelity of the interleaved Clifford $C$), is estimated by:\n",
        "$$ EPC^{est} = r_C^{est} = \\frac{(2^n-1)(1-\\alpha_C/\\alpha)}{2^n}$$\n",
        "and must lie in the range given by certain systematic error bounds: \n",
        "$$[r_C^{est}-E,r_C^{est}+E]$$ \n",
        "for each of the patterns."
      ],
      "metadata": {}
    },
    {
      "cell_type": "code",
      "source": [
        "#Calculate the joint fitter\n",
        "joint_rb_fit = rb.InterleavedRBFitter(original_result_list, interleaved_result_list, xdata, rb_opts['rb_pattern'])"
      ],
      "outputs": [],
      "execution_count": 10,
      "metadata": {
        "ExecuteTime": {
          "end_time": "2019-12-10T21:52:02.060263Z",
          "start_time": "2019-12-10T21:52:01.935781Z"
        }
      }
    },
    {
      "cell_type": "code",
      "source": [
        "#Print the joint fitter parameters\n",
        "for patt_ind, pattern in enumerate(rb_pattern):\n",
        "    print ('pattern:', patt_ind, '-', len(pattern), 'qubit interleaved RB:', joint_rb_fit.fit_int[patt_ind])"
      ],
      "outputs": [
        {
          "output_type": "stream",
          "name": "stdout",
          "text": [
            "pattern: 0 - 2 qubit interleaved RB: {'alpha': 0.9809881107697814, 'alpha_err': 0.0006148545596269193, 'alpha_c': 0.9728823340768097, 'alpha_c_err': 0.002193599815771871, 'epc_est': 0.006197152088783547, 'epc_est_err': 0.001740674799430036, 'systematic_err': 0.02232068175654431, 'systematic_err_L': -0.01612352966776076, 'systematic_err_R': 0.028517833845327856}\n",
            "pattern: 1 - 1 qubit interleaved RB: {'alpha': 0.9971452295642347, 'alpha_err': 0.00039653097031025356, 'alpha_c': 0.9937812177378842, 'alpha_c_err': 0.00029894950819651353, 'epc_est': 0.0016868214010413718, 'epc_est_err': 0.0002484735812357611, 'systematic_err': 0.0016868214010413718, 'systematic_err_L': 0.0, 'systematic_err_R': 0.0033736428020827436}\n"
          ]
        }
      ],
      "execution_count": 11,
      "metadata": {
        "ExecuteTime": {
          "end_time": "2019-12-10T21:52:02.069412Z",
          "start_time": "2019-12-10T21:52:02.062633Z"
        }
      }
    },
    {
      "cell_type": "code",
      "source": [
        "#Plot the joint RB data\n",
        "plt.figure(figsize=(15, 6))\n",
        "\n",
        "for i in range(2):\n",
        "    ax = plt.subplot(1, 2, i+1)\n",
        "    pattern_ind = i\n",
        "\n",
        "    # Plot the essence by calling plot_rb_data\n",
        "    joint_rb_fit.plot_rb_data(pattern_ind, ax=ax, add_label=True, show_plt=False)\n",
        "\n",
        "    # Add title and label\n",
        "    ax.set_title('%d Qubit interleaved RB'%(len(rb_opts['rb_pattern'][i])), fontsize=18)\n",
        "\n",
        "plt.show()"
      ],
      "outputs": [
        {
          "output_type": "display_data",
          "data": {
            "image/png": "[encoded data removed]",
            "text/plain": [
              "<Figure size 1080x432 with 2 Axes>"
            ]
          },
          "metadata": {
            "needs_background": "light"
          }
        }
      ],
      "execution_count": 12,
      "metadata": {
        "ExecuteTime": {
          "end_time": "2019-12-10T21:52:02.501467Z",
          "start_time": "2019-12-10T21:52:02.073248Z"
        },
        "scrolled": false
      }
    },
    {
      "cell_type": "code",
      "source": [
        "import qiskit.tools.jupyter\n",
        "%qiskit_version_table\n",
        "%qiskit_copyright"
      ],
      "outputs": [
        {
          "output_type": "display_data",
          "data": {
            "text/html": [
              "<h3>Version Information</h3><table><tr><th>Qiskit Software</th><th>Version</th></tr><tr><td>Qiskit</td><td>0.14.0</td></tr><tr><td>Terra</td><td>0.11.0</td></tr><tr><td>Aer</td><td>0.3.4</td></tr><tr><td>Ignis</td><td>0.2.0</td></tr><tr><td>Aqua</td><td>0.6.1</td></tr><tr><td>IBM Q Provider</td><td>0.4.4</td></tr><tr><th>System information</th></tr><tr><td>Python</td><td>3.7.5 (default, Oct 25 2019, 10:52:18) \n",
              "[Clang 4.0.1 (tags/RELEASE_401/final)]</td></tr><tr><td>OS</td><td>Darwin</td></tr><tr><td>CPUs</td><td>4</td></tr><tr><td>Memory (Gb)</td><td>16.0</td></tr><tr><td colspan='2'>Tue Dec 10 16:52:02 2019 EST</td></tr></table>"
            ],
            "text/plain": [
              "<IPython.core.display.HTML object>"
            ]
          },
          "metadata": {}
        },
        {
          "output_type": "display_data",
          "data": {
            "text/html": [
              "<div style='width: 100%; background-color:#d5d9e0;padding-left: 10px; padding-bottom: 10px; padding-right: 10px; padding-top: 5px'><h3>This code is a part of Qiskit</h3><p>&copy; Copyright IBM 2017, 2019.</p><p>This code is licensed under the Apache License, Version 2.0. You may<br>obtain a copy of this license in the LICENSE.txt file in the root directory<br> of this source tree or at http://www.apache.org/licenses/LICENSE-2.0.<p>Any modifications or derivative works of this code must retain this<br>copyright notice, and modified files need to carry a notice indicating<br>that they have been altered from the originals.</p></div>"
            ],
            "text/plain": [
              "<IPython.core.display.HTML object>"
            ]
          },
          "metadata": {}
        }
      ],
      "execution_count": 13,
      "metadata": {
        "ExecuteTime": {
          "end_time": "2019-12-10T21:52:02.569652Z",
          "start_time": "2019-12-10T21:52:02.503515Z"
        }
      }
    },
    {
      "cell_type": "code",
      "source": [],
      "outputs": [],
      "execution_count": null,
      "metadata": {}
    }
  ],
  "metadata": {
    "kernelspec": {
      "display_name": "Python 3",
      "language": "python",
      "name": "python3"
    },
    "language_info": {
      "codemirror_mode": {
        "name": "ipython",
        "version": 3
      },
      "file_extension": ".py",
      "mimetype": "text/x-python",
      "name": "python",
      "nbconvert_exporter": "python",
      "pygments_lexer": "ipython3",
      "version": "3.7.5"
    },
    "varInspector": {
      "cols": {
        "lenName": 16,
        "lenType": 16,
        "lenVar": 40
      },
      "kernels_config": {
        "python": {
          "delete_cmd_postfix": "",
          "delete_cmd_prefix": "del ",
          "library": "var_list.py",
          "varRefreshCmd": "print(var_dic_list())"
        },
        "r": {
          "delete_cmd_postfix": ") ",
          "delete_cmd_prefix": "rm(",
          "library": "var_list.r",
          "varRefreshCmd": "cat(var_dic_list()) "
        }
      },
      "types_to_exclude": [
        "module",
        "function",
        "builtin_function_or_method",
        "instance",
        "_Feature"
      ],
      "window_display": false
    },
    "nteract": {
      "version": "0.22.0"
    }
  },
  "nbformat": 4,
  "nbformat_minor": 2
}
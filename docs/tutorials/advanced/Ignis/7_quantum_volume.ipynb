{
  "cells": [
    {
      "cell_type": "markdown",
      "source": [
        "# Quantum Volume\n",
        "\n",
        "* **Last Updated:** August 6, 2019\n",
        "* **Requires:** qiskit-terra 0.8, qiskit-ignis 0.1.1, qiskit-aer 0.2\n",
        "\n",
        "\n",
        "## Introduction\n",
        "\n",
        "**Quantum Volume (QV)** is a method to verify device performance and a metric to quantify the computational power of a quantum device.  The method is based on the paper \"Validating quantum computers using randomized model circuits\" (https://arxiv.org/abs/1811.12926). \n",
        "\n",
        "This notebook gives an example for how to use the ``ignis.verification.quantum_volume`` module. This particular example shows how to run up to depth 6 quantum volume circuits and will run them using the noisy Aer simulator."
      ],
      "metadata": {}
    },
    {
      "cell_type": "code",
      "source": [
        "#Import general libraries (needed for functions)\n",
        "import numpy as np\n",
        "import matplotlib.pyplot as plt\n",
        "from IPython import display\n",
        "\n",
        "#Import Qiskit classes classes\n",
        "import qiskit\n",
        "from qiskit.providers.aer.noise import NoiseModel\n",
        "from qiskit.providers.aer.noise.errors.standard_errors import depolarizing_error, thermal_relaxation_error\n",
        "\n",
        "#Import the qv function.\n",
        "import qiskit.ignis.verification.quantum_volume as qv"
      ],
      "outputs": [],
      "execution_count": 1,
      "metadata": {
        "ExecuteTime": {
          "end_time": "2019-12-10T22:04:35.708493Z",
          "start_time": "2019-12-10T22:04:33.913271Z"
        }
      }
    },
    {
      "cell_type": "markdown",
      "source": [
        "## Select the Parameters of the QV Run\n",
        "\n",
        "In this example we have 6 qubits Q0,Q1,Q3,Q5,Q7,Q10. We are going to look at subsets up to the full set."
      ],
      "metadata": {}
    },
    {
      "cell_type": "code",
      "source": [
        "#Qubit list\n",
        "qubit_lists = [[0,1,3],[0,1,3,5],[0,1,3,5,7],[0,1,3,5,7,10]]\n",
        "ntrials = 50"
      ],
      "outputs": [],
      "execution_count": 2,
      "metadata": {
        "ExecuteTime": {
          "end_time": "2019-12-10T22:04:35.715110Z",
          "start_time": "2019-12-10T22:04:35.711242Z"
        }
      }
    },
    {
      "cell_type": "markdown",
      "source": [
        "## Generate QV sequences\n",
        "\n",
        "We generate the quantum volume sequences. We start with a small example (so it doesn't take too long to run).\n"
      ],
      "metadata": {}
    },
    {
      "cell_type": "code",
      "source": [
        "qv_circs, qv_circs_nomeas = qv.qv_circuits(qubit_lists, ntrials)"
      ],
      "outputs": [],
      "execution_count": 3,
      "metadata": {
        "ExecuteTime": {
          "end_time": "2019-12-10T22:04:36.552439Z",
          "start_time": "2019-12-10T22:04:35.718718Z"
        },
        "scrolled": false
      }
    },
    {
      "cell_type": "code",
      "source": [
        "#pass the first trial of the nomeas through the transpiler to illustrate the circuit\n",
        "qv_circs_nomeas[0] = qiskit.compiler.transpile(qv_circs_nomeas[0], basis_gates=['u1','u2','u3','cx'])"
      ],
      "outputs": [],
      "execution_count": 4,
      "metadata": {
        "ExecuteTime": {
          "end_time": "2019-12-10T22:04:36.714695Z",
          "start_time": "2019-12-10T22:04:36.555511Z"
        }
      }
    },
    {
      "cell_type": "markdown",
      "source": [
        "As an example, we print the circuit corresponding to the first QV sequence. Note that the ideal circuits are run on the first n qubits (where n is the number of qubits in the subset)."
      ],
      "metadata": {}
    },
    {
      "cell_type": "code",
      "source": [
        "print(qv_circs_nomeas[0][0])"
      ],
      "outputs": [
        {
          "output_type": "stream",
          "name": "stdout",
          "text": [
            "          ┌────────────────────────────┐                                    »\n",
            "qr_0: |0>─┤ U3(0.88109,-3.974,0.67573) ├────────────────────────────────────»\n",
            "         ┌┴────────────────────────────┤┌───┐  ┌───────────────────┐   ┌───┐»\n",
            "qr_1: |0>┤ U3(2.6224,-0.97915,-4.0992) ├┤ X ├──┤ U3(pi/2,0,3.6893) ├───┤ X ├»\n",
            "         └─┬──────────────────────────┬┘└─┬─┘┌─┴───────────────────┴──┐└─┬─┘»\n",
            "qr_2: |0>──┤ U3(1.3211,3.3206,1.9445) ├───■──┤ U3(0.76663,pi/2,-pi/2) ├──■──»\n",
            "           └──────────────────────────┘      └────────────────────────┘     »\n",
            " cr_0: 0 ═══════════════════════════════════════════════════════════════════»\n",
            "                                                                            »\n",
            " cr_1: 0 ═══════════════════════════════════════════════════════════════════»\n",
            "                                                                            »\n",
            " cr_2: 0 ═══════════════════════════════════════════════════════════════════»\n",
            "                                                                            »\n",
            "«                                                                   ┌───┐»\n",
            "«qr_0: ─────────────────────────────────────────────────────────────┤ X ├»\n",
            "«        ┌───────────────────┐  ┌───┐ ┌───────────────────────────┐ └─┬─┘»\n",
            "«qr_1: ──┤ U3(pi/2,-pi,pi/2) ├──┤ X ├─┤ U3(2.3258,0.16961,1.9883) ├───■──»\n",
            "«      ┌─┴───────────────────┴─┐└─┬─┘┌┴───────────────────────────┴┐     »\n",
            "«qr_2: ┤ U3(0.069147,pi,-pi/2) ├──■──┤ U3(2.6257,-0.40966,-4.1229) ├─────»\n",
            "«      └───────────────────────┘     └─────────────────────────────┘     »\n",
            "«cr_0: ══════════════════════════════════════════════════════════════════»\n",
            "«                                                                        »\n",
            "«cr_1: ══════════════════════════════════════════════════════════════════»\n",
            "«                                                                        »\n",
            "«cr_2: ══════════════════════════════════════════════════════════════════»\n",
            "«                                                                        »\n",
            "«         ┌──────────────────┐   ┌───┐┌───────────────────┐ ┌───┐»\n",
            "«qr_0: ───┤ U3(pi/2,0,3.648) ├───┤ X ├┤ U3(pi/2,-pi,pi/2) ├─┤ X ├»\n",
            "«      ┌──┴──────────────────┴──┐└─┬─┘├───────────────────┴┐└─┬─┘»\n",
            "«qr_1: ┤ U3(0.67876,pi/2,-pi/2) ├──■──┤ U3(0.39769,0,pi/2) ├──■──»\n",
            "«      └────────────────────────┘     └────────────────────┘     »\n",
            "«qr_2: ──────────────────────────────────────────────────────────»\n",
            "«                                                                »\n",
            "«cr_0: ══════════════════════════════════════════════════════════»\n",
            "«                                                                »\n",
            "«cr_1: ══════════════════════════════════════════════════════════»\n",
            "«                                                                »\n",
            "«cr_2: ══════════════════════════════════════════════════════════»\n",
            "«                                                                »\n",
            "«      ┌───────────────────────────┐ ┌───┐  ┌───────────────────┐  ┌───┐»\n",
            "«qr_0: ┤ U3(1.6714,0.26184,5.8406) ├─┤ X ├──┤ U3(pi/2,0,3.3447) ├──┤ X ├»\n",
            "«      ├───────────────────────────┴┐└─┬─┘  └───────────────────┘  └─┬─┘»\n",
            "«qr_1: ┤ U3(2.0587,-0.39667,5.1684) ├──┼─────────────────────────────┼──»\n",
            "«      └────────────────────────────┘  │  ┌───────────────────────┐  │  »\n",
            "«qr_2: ────────────────────────────────■──┤ U3(0.8297,pi/2,-pi/2) ├──■──»\n",
            "«                                         └───────────────────────┘     »\n",
            "«cr_0: ═════════════════════════════════════════════════════════════════»\n",
            "«                                                                       »\n",
            "«cr_1: ═════════════════════════════════════════════════════════════════»\n",
            "«                                                                       »\n",
            "«cr_2: ═════════════════════════════════════════════════════════════════»\n",
            "«                                                                       »\n",
            "«       ┌───────────────────┐ ┌───┐┌──────────────────────────┐\n",
            "«qr_0: ─┤ U3(pi/2,-pi,pi/2) ├─┤ X ├┤ U3(2.673,3.0342,0.69813) ├\n",
            "«       └───────────────────┘ └─┬─┘└──────────────────────────┘\n",
            "«qr_1: ─────────────────────────┼──────────────────────────────\n",
            "«      ┌─────────────────────┐  │  ┌──────────────────────────┐\n",
            "«qr_2: ┤ U3(0.032719,0,pi/2) ├──■──┤ U3(1.14,-1.5329,-1.9038) ├\n",
            "«      └─────────────────────┘     └──────────────────────────┘\n",
            "«cr_0: ════════════════════════════════════════════════════════\n",
            "«                                                              \n",
            "«cr_1: ════════════════════════════════════════════════════════\n",
            "«                                                              \n",
            "«cr_2: ════════════════════════════════════════════════════════\n",
            "«                                                              \n"
          ]
        }
      ],
      "execution_count": 5,
      "metadata": {
        "ExecuteTime": {
          "end_time": "2019-12-10T22:04:36.733124Z",
          "start_time": "2019-12-10T22:04:36.717303Z"
        }
      }
    },
    {
      "cell_type": "markdown",
      "source": [
        "## Simulate the ideal circuits"
      ],
      "metadata": {}
    },
    {
      "cell_type": "markdown",
      "source": [
        "The quantum volume method requires that we know the ideal output for each circuit, so use the statevector simulator in Aer to get the ideal result."
      ],
      "metadata": {}
    },
    {
      "cell_type": "code",
      "source": [
        "#The Unitary is an identity (with a global phase)\n",
        "backend = qiskit.Aer.get_backend('statevector_simulator')\n",
        "ideal_results = []\n",
        "for trial in range(ntrials):\n",
        "    print('Simulating trial %d'%trial)\n",
        "    ideal_results.append(qiskit.execute(qv_circs_nomeas[trial], backend=backend, optimization_level=0).result())\n"
      ],
      "outputs": [
        {
          "output_type": "stream",
          "name": "stdout",
          "text": [
            "Simulating trial 0\n",
            "Simulating trial 1\n",
            "Simulating trial 2\n",
            "Simulating trial 3\n",
            "Simulating trial 4\n",
            "Simulating trial 5\n",
            "Simulating trial 6\n",
            "Simulating trial 7\n",
            "Simulating trial 8\n",
            "Simulating trial 9\n",
            "Simulating trial 10\n",
            "Simulating trial 11\n",
            "Simulating trial 12\n",
            "Simulating trial 13\n",
            "Simulating trial 14\n",
            "Simulating trial 15\n",
            "Simulating trial 16\n",
            "Simulating trial 17\n",
            "Simulating trial 18\n",
            "Simulating trial 19\n",
            "Simulating trial 20\n",
            "Simulating trial 21\n",
            "Simulating trial 22\n",
            "Simulating trial 23\n",
            "Simulating trial 24\n",
            "Simulating trial 25\n",
            "Simulating trial 26\n",
            "Simulating trial 27\n",
            "Simulating trial 28\n",
            "Simulating trial 29\n",
            "Simulating trial 30\n",
            "Simulating trial 31\n",
            "Simulating trial 32\n",
            "Simulating trial 33\n",
            "Simulating trial 34\n",
            "Simulating trial 35\n",
            "Simulating trial 36\n",
            "Simulating trial 37\n",
            "Simulating trial 38\n",
            "Simulating trial 39\n",
            "Simulating trial 40\n",
            "Simulating trial 41\n",
            "Simulating trial 42\n",
            "Simulating trial 43\n",
            "Simulating trial 44\n",
            "Simulating trial 45\n",
            "Simulating trial 46\n",
            "Simulating trial 47\n",
            "Simulating trial 48\n",
            "Simulating trial 49\n"
          ]
        }
      ],
      "execution_count": 6,
      "metadata": {
        "ExecuteTime": {
          "end_time": "2019-12-10T22:04:40.628601Z",
          "start_time": "2019-12-10T22:04:36.735603Z"
        }
      }
    },
    {
      "cell_type": "markdown",
      "source": [
        "Next, load the ideal results into a quantum volume fitter:"
      ],
      "metadata": {}
    },
    {
      "cell_type": "code",
      "source": [
        "qv_fitter = qv.QVFitter(qubit_lists=qubit_lists)\n",
        "qv_fitter.add_statevectors(ideal_results)"
      ],
      "outputs": [],
      "execution_count": 7,
      "metadata": {
        "ExecuteTime": {
          "end_time": "2019-12-10T22:04:40.677849Z",
          "start_time": "2019-12-10T22:04:40.630828Z"
        }
      }
    },
    {
      "cell_type": "markdown",
      "source": [
        "## Define the noise model"
      ],
      "metadata": {}
    },
    {
      "cell_type": "markdown",
      "source": [
        "We define a noise model for the simulator. To simulate decay, we add depolarizing error probabilities to the CNOT and U gates."
      ],
      "metadata": {}
    },
    {
      "cell_type": "code",
      "source": [
        "noise_model = NoiseModel()\n",
        "p1Q = 0.002\n",
        "p2Q = 0.02\n",
        "noise_model.add_all_qubit_quantum_error(depolarizing_error(p1Q, 1), 'u2')\n",
        "noise_model.add_all_qubit_quantum_error(depolarizing_error(2*p1Q, 1), 'u3')\n",
        "noise_model.add_all_qubit_quantum_error(depolarizing_error(p2Q, 2), 'cx')\n",
        "#noise_model = None"
      ],
      "outputs": [],
      "execution_count": 8,
      "metadata": {
        "ExecuteTime": {
          "end_time": "2019-12-10T22:04:40.685615Z",
          "start_time": "2019-12-10T22:04:40.681481Z"
        }
      }
    },
    {
      "cell_type": "markdown",
      "source": [
        "## Execute on Aer simulator\n",
        "\n",
        "We can execute the QV sequences either using a Qiskit Aer Simulator (with some noise model) or using an IBMQ provider, \n",
        "and obtain a list of results, `result_list`."
      ],
      "metadata": {}
    },
    {
      "cell_type": "code",
      "source": [
        "backend = qiskit.Aer.get_backend('qasm_simulator')\n",
        "basis_gates = ['u1','u2','u3','cx'] # use U,CX for now\n",
        "shots = 1024\n",
        "exp_results = []\n",
        "for trial in range(ntrials):\n",
        "    print('Running trial %d'%trial)\n",
        "    exp_results.append(qiskit.execute(qv_circs[trial], basis_gates=basis_gates, backend=backend, noise_model=noise_model, backend_options={'max_parallel_experiments': 0}).result())"
      ],
      "outputs": [
        {
          "output_type": "stream",
          "name": "stdout",
          "text": [
            "Running trial 0\n",
            "Running trial 1\n",
            "Running trial 2\n",
            "Running trial 3\n",
            "Running trial 4\n",
            "Running trial 5\n",
            "Running trial 6\n",
            "Running trial 7\n",
            "Running trial 8\n",
            "Running trial 9\n",
            "Running trial 10\n",
            "Running trial 11\n",
            "Running trial 12\n",
            "Running trial 13\n",
            "Running trial 14\n",
            "Running trial 15\n",
            "Running trial 16\n",
            "Running trial 17\n",
            "Running trial 18\n",
            "Running trial 19\n",
            "Running trial 20\n",
            "Running trial 21\n",
            "Running trial 22\n",
            "Running trial 23\n",
            "Running trial 24\n",
            "Running trial 25\n",
            "Running trial 26\n",
            "Running trial 27\n",
            "Running trial 28\n",
            "Running trial 29\n",
            "Running trial 30\n",
            "Running trial 31\n",
            "Running trial 32\n",
            "Running trial 33\n",
            "Running trial 34\n",
            "Running trial 35\n",
            "Running trial 36\n",
            "Running trial 37\n",
            "Running trial 38\n",
            "Running trial 39\n",
            "Running trial 40\n",
            "Running trial 41\n",
            "Running trial 42\n",
            "Running trial 43\n",
            "Running trial 44\n",
            "Running trial 45\n",
            "Running trial 46\n",
            "Running trial 47\n",
            "Running trial 48\n",
            "Running trial 49\n"
          ]
        }
      ],
      "execution_count": 9,
      "metadata": {
        "ExecuteTime": {
          "end_time": "2019-12-10T22:04:56.486881Z",
          "start_time": "2019-12-10T22:04:40.688577Z"
        }
      }
    },
    {
      "cell_type": "markdown",
      "source": [
        "Load the experimental data into the fitter. The data will keep accumulating if this is re-run (unless the fitter is re-instantiated)."
      ],
      "metadata": {}
    },
    {
      "cell_type": "code",
      "source": [
        "qv_fitter.add_data(exp_results)"
      ],
      "outputs": [],
      "execution_count": 10,
      "metadata": {
        "ExecuteTime": {
          "end_time": "2019-12-10T22:04:56.569352Z",
          "start_time": "2019-12-10T22:04:56.489254Z"
        }
      }
    },
    {
      "cell_type": "code",
      "source": [
        "plt.figure(figsize=(10, 6))\n",
        "ax = plt.gca()\n",
        "\n",
        "# Plot the essence by calling plot_rb_data\n",
        "qv_fitter.plot_qv_data(ax=ax, show_plt=False)\n",
        "\n",
        "# Add title and label\n",
        "ax.set_title('Quantum Volume for up to %d Qubits \\n and %d Trials'%(len(qubit_lists[-1]), ntrials), fontsize=18)\n",
        "\n",
        "plt.show()"
      ],
      "outputs": [
        {
          "output_type": "display_data",
          "data": {
            "image/png": "[encoded data removed]",
            "text/plain": [
              "<Figure size 720x432 with 1 Axes>"
            ]
          },
          "metadata": {
            "needs_background": "light"
          }
        }
      ],
      "execution_count": 11,
      "metadata": {
        "ExecuteTime": {
          "end_time": "2019-12-10T22:04:56.774174Z",
          "start_time": "2019-12-10T22:04:56.571634Z"
        }
      }
    },
    {
      "cell_type": "markdown",
      "source": [
        "## Quantum Volume\n",
        "List statistics for each depth. For each depth list if the depth was successful or not and with what confidence interval. For a depth to be successful the confidence interval must be > 97.5%."
      ],
      "metadata": {}
    },
    {
      "cell_type": "code",
      "source": [
        "qv_success_list = qv_fitter.qv_success()\n",
        "qv_list = qv_fitter.ydata\n",
        "for qidx, qubit_list in enumerate(qubit_lists):\n",
        "    if qv_list[0][qidx]>2/3:\n",
        "        if qv_success_list[qidx][0]:\n",
        "            print(\"Width/depth %d greater than 2/3 (%f) with confidence %f (successful). Quantum volume %d\"%\n",
        "                  (len(qubit_list),qv_list[0][qidx],qv_success_list[qidx][1],qv_fitter.quantum_volume()[qidx]))\n",
        "        else:\n",
        "            print(\"Width/depth %d greater than 2/3 (%f) with confidence %f (unsuccessful).\"%\n",
        "                  (len(qubit_list),qv_list[0][qidx],qv_success_list[qidx][1]))\n",
        "    else:\n",
        "        print(\"Width/depth %d less than 2/3 (unsuccessful).\"%len(qubit_list))"
      ],
      "outputs": [
        {
          "output_type": "stream",
          "name": "stdout",
          "text": [
            "Width/depth 3 greater than 2/3 (0.791562) with confidence 0.985155 (successful). Quantum volume 8\n",
            "Width/depth 4 greater than 2/3 (0.707090) with confidence 0.735022 (unsuccessful).\n",
            "Width/depth 5 greater than 2/3 (0.710508) with confidence 0.752867 (unsuccessful).\n",
            "Width/depth 6 less than 2/3 (unsuccessful).\n"
          ]
        }
      ],
      "execution_count": 12,
      "metadata": {
        "ExecuteTime": {
          "end_time": "2019-12-10T22:04:56.782750Z",
          "start_time": "2019-12-10T22:04:56.775951Z"
        }
      }
    },
    {
      "cell_type": "code",
      "source": [
        "import qiskit.tools.jupyter\n",
        "%qiskit_version_table\n",
        "%qiskit_copyright"
      ],
      "outputs": [
        {
          "output_type": "display_data",
          "data": {
            "text/html": [
              "<h3>Version Information</h3><table><tr><th>Qiskit Software</th><th>Version</th></tr><tr><td>Qiskit</td><td>0.14.0</td></tr><tr><td>Terra</td><td>0.11.0</td></tr><tr><td>Aer</td><td>0.3.4</td></tr><tr><td>Ignis</td><td>0.2.0</td></tr><tr><td>Aqua</td><td>0.6.1</td></tr><tr><td>IBM Q Provider</td><td>0.4.4</td></tr><tr><th>System information</th></tr><tr><td>Python</td><td>3.7.5 (default, Oct 25 2019, 10:52:18) \n",
              "[Clang 4.0.1 (tags/RELEASE_401/final)]</td></tr><tr><td>OS</td><td>Darwin</td></tr><tr><td>CPUs</td><td>4</td></tr><tr><td>Memory (Gb)</td><td>16.0</td></tr><tr><td colspan='2'>Tue Dec 10 17:04:56 2019 EST</td></tr></table>"
            ],
            "text/plain": [
              "<IPython.core.display.HTML object>"
            ]
          },
          "metadata": {}
        },
        {
          "output_type": "display_data",
          "data": {
            "text/html": [
              "<div style='width: 100%; background-color:#d5d9e0;padding-left: 10px; padding-bottom: 10px; padding-right: 10px; padding-top: 5px'><h3>This code is a part of Qiskit</h3><p>&copy; Copyright IBM 2017, 2019.</p><p>This code is licensed under the Apache License, Version 2.0. You may<br>obtain a copy of this license in the LICENSE.txt file in the root directory<br> of this source tree or at http://www.apache.org/licenses/LICENSE-2.0.<p>Any modifications or derivative works of this code must retain this<br>copyright notice, and modified files need to carry a notice indicating<br>that they have been altered from the originals.</p></div>"
            ],
            "text/plain": [
              "<IPython.core.display.HTML object>"
            ]
          },
          "metadata": {}
        }
      ],
      "execution_count": 13,
      "metadata": {
        "ExecuteTime": {
          "end_time": "2019-12-10T22:04:56.855466Z",
          "start_time": "2019-12-10T22:04:56.785617Z"
        }
      }
    },
    {
      "cell_type": "code",
      "source": [],
      "outputs": [],
      "execution_count": null,
      "metadata": {}
    }
  ],
  "metadata": {
    "kernelspec": {
      "display_name": "Python 3",
      "language": "python",
      "name": "python3"
    },
    "language_info": {
      "codemirror_mode": {
        "name": "ipython",
        "version": 3
      },
      "file_extension": ".py",
      "mimetype": "text/x-python",
      "name": "python",
      "nbconvert_exporter": "python",
      "pygments_lexer": "ipython3",
      "version": "3.7.5"
    },
    "varInspector": {
      "cols": {
        "lenName": 16,
        "lenType": 16,
        "lenVar": 40
      },
      "kernels_config": {
        "python": {
          "delete_cmd_postfix": "",
          "delete_cmd_prefix": "del ",
          "library": "var_list.py",
          "varRefreshCmd": "print(var_dic_list())"
        },
        "r": {
          "delete_cmd_postfix": ") ",
          "delete_cmd_prefix": "rm(",
          "library": "var_list.r",
          "varRefreshCmd": "cat(var_dic_list()) "
        }
      },
      "types_to_exclude": [
        "module",
        "function",
        "builtin_function_or_method",
        "instance",
        "_Feature"
      ],
      "window_display": false
    },
    "nteract": {
      "version": "0.22.0"
    }
  },
  "nbformat": 4,
  "nbformat_minor": 2
}
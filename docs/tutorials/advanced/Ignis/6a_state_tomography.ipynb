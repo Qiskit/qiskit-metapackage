{
  "cells": [
    {
      "cell_type": "markdown",
      "source": [
        "# Quantum State Tomography"
      ],
      "metadata": {}
    },
    {
      "cell_type": "markdown",
      "source": [
        "This notebook contains examples for using the ``ignis.verification.tomography`` state tomography module."
      ],
      "metadata": {}
    },
    {
      "cell_type": "code",
      "source": [
        "# Needed for functions\n",
        "import numpy as np\n",
        "import time\n",
        "from copy import deepcopy\n",
        "\n",
        "# Import Qiskit classes\n",
        "import qiskit \n",
        "from qiskit import QuantumRegister, QuantumCircuit, ClassicalRegister, Aer\n",
        "from qiskit.quantum_info import state_fidelity\n",
        "from qiskit.providers.aer import noise\n",
        "\n",
        "# Tomography functions\n",
        "from qiskit.ignis.verification.tomography import state_tomography_circuits, StateTomographyFitter\n",
        "import qiskit.ignis.mitigation.measurement as mc"
      ],
      "outputs": [],
      "execution_count": 1,
      "metadata": {
        "ExecuteTime": {
          "end_time": "2019-12-10T22:02:05.692984Z",
          "start_time": "2019-12-10T22:02:02.719087Z"
        }
      }
    },
    {
      "cell_type": "markdown",
      "source": [
        "## 2-Qubit state tomography Example"
      ],
      "metadata": {}
    },
    {
      "cell_type": "markdown",
      "source": [
        "In the below example we want to perform state tomography on a 2Q Bell state between qubits 3 and 5. To make the reference circuit we generate the expected statevector using ``statevector_simulator`` between qubits 0 and 1. "
      ],
      "metadata": {}
    },
    {
      "cell_type": "code",
      "source": [
        "# Create the expected density matrix\n",
        "q2 = QuantumRegister(2)\n",
        "bell = QuantumCircuit(q2)\n",
        "bell.h(q2[0])\n",
        "bell.cx(q2[0], q2[1])\n",
        "print(bell)\n",
        "\n",
        "job = qiskit.execute(bell, Aer.get_backend('statevector_simulator'))\n",
        "psi_bell = job.result().get_statevector(bell)\n",
        "print(psi_bell)"
      ],
      "outputs": [
        {
          "output_type": "stream",
          "name": "stdout",
          "text": [
            "         ┌───┐     \n",
            "q0_0: |0>┤ H ├──■──\n",
            "         └───┘┌─┴─┐\n",
            "q0_1: |0>─────┤ X ├\n",
            "              └───┘\n",
            "[0.70710678+0.j 0.        +0.j 0.        +0.j 0.70710678+0.j]\n"
          ]
        }
      ],
      "execution_count": 2,
      "metadata": {
        "ExecuteTime": {
          "end_time": "2019-12-10T22:02:05.715895Z",
          "start_time": "2019-12-10T22:02:05.695482Z"
        }
      }
    },
    {
      "cell_type": "code",
      "source": [
        "# Create the actual circuit \n",
        "q2 = QuantumRegister(6)\n",
        "bell = QuantumCircuit(q2)\n",
        "bell.h(q2[3])\n",
        "bell.cx(q2[3], q2[5])\n",
        "print(bell)"
      ],
      "outputs": [
        {
          "output_type": "stream",
          "name": "stdout",
          "text": [
            "                   \n",
            "q1_0: |0>──────────\n",
            "                   \n",
            "q1_1: |0>──────────\n",
            "                   \n",
            "q1_2: |0>──────────\n",
            "         ┌───┐     \n",
            "q1_3: |0>┤ H ├──■──\n",
            "         └───┘  │  \n",
            "q1_4: |0>───────┼──\n",
            "              ┌─┴─┐\n",
            "q1_5: |0>─────┤ X ├\n",
            "              └───┘\n"
          ]
        }
      ],
      "execution_count": 3,
      "metadata": {
        "ExecuteTime": {
          "end_time": "2019-12-10T22:02:05.726381Z",
          "start_time": "2019-12-10T22:02:05.719133Z"
        }
      }
    },
    {
      "cell_type": "markdown",
      "source": [
        "Here we are going to generate and run the state tomography circuits. By only passing in the 2 registers we want to measure the state tomography will only run on that reduced $2^2$ Hilbert space. However, if we pass the whole register in the state tomography module will try and fit the full $2^6$ space."
      ],
      "metadata": {}
    },
    {
      "cell_type": "code",
      "source": [
        "# Generate circuits and run on simulator\n",
        "t = time.time()\n",
        "# Generate the state tomography circuits. Only pass in the \n",
        "# registers we want to measure (in this case 3 and 5)\n",
        "qst_bell = state_tomography_circuits(bell, [q2[3],q2[5]])\n",
        "job = qiskit.execute(qst_bell, Aer.get_backend('qasm_simulator'), shots=5000)\n",
        "print('Time taken:', time.time() - t)\n",
        "\n",
        "tomo_bell = StateTomographyFitter(job.result(), qst_bell)"
      ],
      "outputs": [
        {
          "output_type": "stream",
          "name": "stdout",
          "text": [
            "Time taken: 0.08162879943847656\n"
          ]
        }
      ],
      "execution_count": 4,
      "metadata": {
        "ExecuteTime": {
          "end_time": "2019-12-10T22:02:05.962627Z",
          "start_time": "2019-12-10T22:02:05.729674Z"
        }
      }
    },
    {
      "cell_type": "markdown",
      "source": [
        "The fitter will output a density matrix ordered according to how we passed in the registers to ``state_tomography_circuits``. "
      ],
      "metadata": {}
    },
    {
      "cell_type": "code",
      "source": [
        "# Perform the tomography fit\n",
        "# which outputs a density matrix\n",
        "rho_bell = tomo_bell.fit()\n",
        "F_bell = state_fidelity(psi_bell, rho_bell)\n",
        "print('Fit Fidelity =', F_bell)"
      ],
      "outputs": [
        {
          "output_type": "stream",
          "name": "stdout",
          "text": [
            "Fit Fidelity = 0.9998367586964225\n"
          ]
        }
      ],
      "execution_count": 5,
      "metadata": {
        "ExecuteTime": {
          "end_time": "2019-12-10T22:02:06.222354Z",
          "start_time": "2019-12-10T22:02:05.964786Z"
        }
      }
    },
    {
      "cell_type": "markdown",
      "source": [
        "### Repeat the Example with Measurement Noise"
      ],
      "metadata": {}
    },
    {
      "cell_type": "code",
      "source": [
        "#Add measurement noise\n",
        "noise_model = noise.NoiseModel()\n",
        "for qi in range(6):\n",
        "    read_err = noise.errors.readout_error.ReadoutError([[0.75, 0.25],[0.1,0.9]])\n",
        "    noise_model.add_readout_error(read_err,[qi])\n",
        "    \n",
        "#generate the calibration circuits\n",
        "meas_calibs, state_labels = mc.complete_meas_cal(qubit_list=[3,5])\n",
        "\n",
        "backend = Aer.get_backend('qasm_simulator')\n",
        "job_cal = qiskit.execute(meas_calibs, backend=backend, shots=15000, noise_model=noise_model)\n",
        "job_tomo = qiskit.execute(qst_bell, backend=backend, shots=15000, noise_model=noise_model)\n",
        "\n",
        "meas_fitter = mc.CompleteMeasFitter(job_cal.result(),state_labels)\n",
        "\n",
        "tomo_bell = StateTomographyFitter(job_tomo.result(), qst_bell)\n",
        "\n",
        "#no correction\n",
        "rho_bell = tomo_bell.fit()\n",
        "F_bell = state_fidelity(psi_bell, rho_bell)\n",
        "print('Fit Fidelity (no correction) =', F_bell)\n",
        "\n",
        "#correct data\n",
        "correct_tomo_results = meas_fitter.filter.apply(job_tomo.result(), method='least_squares')\n",
        "tomo_bell = StateTomographyFitter(correct_tomo_results, qst_bell)\n",
        "rho_bell = tomo_bell.fit()\n",
        "F_bell = state_fidelity(psi_bell, rho_bell)\n",
        "print('Fit Fidelity (w/ correction) =', F_bell)"
      ],
      "outputs": [
        {
          "output_type": "stream",
          "name": "stdout",
          "text": [
            "Fit Fidelity (no correction) = 0.571108210311232\n",
            "Fit Fidelity (w/ correction) = 0.9905539409293663\n"
          ]
        }
      ],
      "execution_count": 6,
      "metadata": {
        "ExecuteTime": {
          "end_time": "2019-12-10T22:02:07.149325Z",
          "start_time": "2019-12-10T22:02:06.224483Z"
        }
      }
    },
    {
      "cell_type": "markdown",
      "source": [
        "## Generating and fitting random states\n",
        "\n",
        "We now test the functions on the state generated by a circuit consisting of a layer of random single qubit unitaries u3."
      ],
      "metadata": {}
    },
    {
      "cell_type": "code",
      "source": [
        "def random_u3_tomo(nq, shots):\n",
        "    \n",
        "    def rand_angles():\n",
        "        return tuple(2 * np.pi * np.random.random(3) - np.pi)\n",
        "    q = QuantumRegister(nq)\n",
        "    circ = QuantumCircuit(q)\n",
        "    for j in range(nq):\n",
        "        circ.u3(*rand_angles(), q[j])\n",
        "    job = qiskit.execute(circ, Aer.get_backend('statevector_simulator'))\n",
        "    psi_rand = job.result().get_statevector(circ)\n",
        "    \n",
        "    qst_circs = state_tomography_circuits(circ, q)\n",
        "    job = qiskit.execute(qst_circs, Aer.get_backend('qasm_simulator'),\n",
        "                         shots=shots)\n",
        "    tomo_data = StateTomographyFitter(job.result(), qst_circs)\n",
        "    rho_cvx = tomo_data.fit(method='cvx')\n",
        "    rho_lstsq = tomo_data.fit(method='lstsq')\n",
        "    \n",
        "    print('F fit (CVX) =', state_fidelity(psi_rand, rho_cvx))\n",
        "    print('F fit (LSTSQ) =', state_fidelity(psi_rand, rho_lstsq))"
      ],
      "outputs": [],
      "execution_count": 7,
      "metadata": {
        "ExecuteTime": {
          "end_time": "2019-12-10T22:02:07.158424Z",
          "start_time": "2019-12-10T22:02:07.151860Z"
        }
      }
    },
    {
      "cell_type": "code",
      "source": [
        "for j in range(5):\n",
        "    print('Random single-qubit unitaries: set {}'.format(j))\n",
        "    random_u3_tomo(3, 5000)"
      ],
      "outputs": [
        {
          "output_type": "stream",
          "name": "stdout",
          "text": [
            "Random single-qubit unitaries: set 0\n",
            "F fit (CVX) = 0.9970021426687093\n",
            "F fit (LSTSQ) = 0.9938559982001989\n",
            "Random single-qubit unitaries: set 1\n",
            "F fit (CVX) = 0.9926241507480411\n",
            "F fit (LSTSQ) = 0.9881044594933572\n",
            "Random single-qubit unitaries: set 2\n",
            "F fit (CVX) = 0.9986710986679923\n",
            "F fit (LSTSQ) = 0.99990232375963\n",
            "Random single-qubit unitaries: set 3\n",
            "F fit (CVX) = 0.9942910810880954\n",
            "F fit (LSTSQ) = 0.9911223098568922\n",
            "Random single-qubit unitaries: set 4\n",
            "F fit (CVX) = 0.9982499565955223\n",
            "F fit (LSTSQ) = 0.9966482823050419\n"
          ]
        }
      ],
      "execution_count": 8,
      "metadata": {
        "ExecuteTime": {
          "end_time": "2019-12-10T22:02:10.608393Z",
          "start_time": "2019-12-10T22:02:07.162333Z"
        }
      }
    },
    {
      "cell_type": "markdown",
      "source": [
        "## 5-Qubit Bell State"
      ],
      "metadata": {}
    },
    {
      "cell_type": "code",
      "source": [
        "# Create a state preparation circuit\n",
        "q5 = QuantumRegister(5)\n",
        "bell5 = QuantumCircuit(q5)\n",
        "bell5.h(q5[0])\n",
        "for j in range(4):\n",
        "    bell5.cx(q5[j], q5[j + 1])\n",
        "\n",
        "# Get ideal output state\n",
        "job = qiskit.execute(bell5, Aer.get_backend('statevector_simulator'))\n",
        "psi_bell5 = job.result().get_statevector(bell5)\n",
        "\n",
        "# Generate circuits and run on simulator\n",
        "t = time.time()\n",
        "qst_bell5 = state_tomography_circuits(bell5, q5)\n",
        "job = qiskit.execute(qst_bell5, Aer.get_backend('qasm_simulator'), shots=5000)\n",
        "\n",
        "# Extract tomography data so that counts are indexed by measurement configuration\n",
        "tomo_bell5 = StateTomographyFitter(job.result(), qst_bell5)\n",
        "print('Time taken:', time.time() - t)"
      ],
      "outputs": [
        {
          "output_type": "stream",
          "name": "stdout",
          "text": [
            "Time taken: 7.9116270542144775\n"
          ]
        }
      ],
      "execution_count": 9,
      "metadata": {
        "ExecuteTime": {
          "end_time": "2019-12-10T22:02:18.551117Z",
          "start_time": "2019-12-10T22:02:10.612471Z"
        }
      }
    },
    {
      "cell_type": "code",
      "source": [
        "t = time.time()\n",
        "rho_lstsq_bell5 = tomo_bell5.fit(method='lstsq')\n",
        "print('Least-Sq Reconstruction')\n",
        "print('Time taken:', time.time() - t)\n",
        "print('Fit Fidelity:', state_fidelity(psi_bell5, rho_lstsq_bell5))"
      ],
      "outputs": [
        {
          "output_type": "stream",
          "name": "stdout",
          "text": [
            "Least-Sq Reconstruction\n",
            "Time taken: 3.6655709743499756\n",
            "Fit Fidelity: 0.9942473311097934\n"
          ]
        }
      ],
      "execution_count": 10,
      "metadata": {
        "ExecuteTime": {
          "end_time": "2019-12-10T22:02:22.223534Z",
          "start_time": "2019-12-10T22:02:18.553830Z"
        }
      }
    },
    {
      "cell_type": "code",
      "source": [
        "t = time.time()\n",
        "rho_cvx_bell5 = tomo_bell5.fit(method='cvx')\n",
        "print('CVX Reconstruction')\n",
        "print('Time taken:', time.time() - t)\n",
        "print('Fidelity:', state_fidelity(psi_bell5, rho_cvx_bell5))"
      ],
      "outputs": [
        {
          "output_type": "stream",
          "name": "stdout",
          "text": [
            "CVX Reconstruction\n",
            "Time taken: 39.63530111312866\n",
            "Fidelity: 0.9999287186828141\n"
          ]
        }
      ],
      "execution_count": 11,
      "metadata": {
        "ExecuteTime": {
          "end_time": "2019-12-10T22:03:01.866504Z",
          "start_time": "2019-12-10T22:02:22.225768Z"
        }
      }
    },
    {
      "cell_type": "markdown",
      "source": [
        "## 2-Qubit Conditional State Tomography "
      ],
      "metadata": {}
    },
    {
      "cell_type": "markdown",
      "source": [
        "In this example, we have a three-qubit system where one of the qubits will be an ancilla for performing state tomography, i.e. only perform tomography when the third qubit is in the state \"1\". The circuit is setup in such a way that after conditional tomography we will get a Bell state on the first two qubits.\n",
        "\n",
        "First make a 3Q GHZ state with no classical measurements."
      ],
      "metadata": {}
    },
    {
      "cell_type": "code",
      "source": [
        "# Create the actual circuit \n",
        "q2 = QuantumRegister(3)\n",
        "ghz = QuantumCircuit(q2)\n",
        "ghz.h(q2[0])\n",
        "ghz.cx(q2[0], q2[1])\n",
        "ghz.cx(q2[1], q2[2])\n",
        "ghz.h(q2[2])\n",
        "print(ghz)"
      ],
      "outputs": [
        {
          "output_type": "stream",
          "name": "stdout",
          "text": [
            "         ┌───┐               \n",
            "q9_0: |0>┤ H ├──■────────────\n",
            "         └───┘┌─┴─┐          \n",
            "q9_1: |0>─────┤ X ├──■───────\n",
            "              └───┘┌─┴─┐┌───┐\n",
            "q9_2: |0>──────────┤ X ├┤ H ├\n",
            "                   └───┘└───┘\n"
          ]
        }
      ],
      "execution_count": 12,
      "metadata": {
        "ExecuteTime": {
          "end_time": "2019-12-10T22:03:01.884883Z",
          "start_time": "2019-12-10T22:03:01.869330Z"
        },
        "scrolled": true
      }
    },
    {
      "cell_type": "markdown",
      "source": [
        "Here we are going to generate and run the state tomography circuits. Only pass the registers we want to perform state tomography on. The code will generate a new classical register for only those measurements."
      ],
      "metadata": {}
    },
    {
      "cell_type": "code",
      "source": [
        "qst_ghz = state_tomography_circuits(ghz, [q2[0],q2[1]])\n",
        "print(qst_ghz[0])"
      ],
      "outputs": [
        {
          "output_type": "stream",
          "name": "stdout",
          "text": [
            "         ┌───┐                ░ ┌───┐┌─┐   \n",
            "q9_0: |0>┤ H ├──■─────────────░─┤ H ├┤M├───\n",
            "         └───┘┌─┴─┐           ░ ├───┤└╥┘┌─┐\n",
            "q9_1: |0>─────┤ X ├──■────────░─┤ H ├─╫─┤M├\n",
            "              └───┘┌─┴─┐┌───┐ ░ └───┘ ║ └╥┘\n",
            "q9_2: |0>──────────┤ X ├┤ H ├─░───────╫──╫─\n",
            "                   └───┘└───┘ ░       ║  ║ \n",
            " c8_0: 0 ═════════════════════════════╩══╬═\n",
            "                                         ║ \n",
            " c8_1: 0 ════════════════════════════════╩═\n",
            "                                           \n"
          ]
        }
      ],
      "execution_count": 13,
      "metadata": {
        "ExecuteTime": {
          "end_time": "2019-12-10T22:03:01.903389Z",
          "start_time": "2019-12-10T22:03:01.888165Z"
        }
      }
    },
    {
      "cell_type": "markdown",
      "source": [
        "Now make a copy of this circuit (we will need it for the fitter) and make a new circuit with an ancilla measurement attached (this is what will be run):"
      ],
      "metadata": {}
    },
    {
      "cell_type": "code",
      "source": [
        "#Make a copy without the ancilla register\n",
        "qst_ghz_no_anc = deepcopy(qst_ghz)\n",
        "ca = ClassicalRegister(1)\n",
        "for qst_ghz_circ in qst_ghz:\n",
        "    qst_ghz_circ.add_register(ca)\n",
        "    qst_ghz_circ.measure(q2[2],ca[0])"
      ],
      "outputs": [],
      "execution_count": 14,
      "metadata": {
        "ExecuteTime": {
          "end_time": "2019-12-10T22:03:01.915062Z",
          "start_time": "2019-12-10T22:03:01.906411Z"
        }
      }
    },
    {
      "cell_type": "code",
      "source": [
        "#Run in Aer\n",
        "job = qiskit.execute(qst_ghz, Aer.get_backend('qasm_simulator'), shots=10000)\n",
        "raw_results = job.result()"
      ],
      "outputs": [],
      "execution_count": 15,
      "metadata": {
        "ExecuteTime": {
          "end_time": "2019-12-10T22:03:02.335643Z",
          "start_time": "2019-12-10T22:03:01.919990Z"
        }
      }
    },
    {
      "cell_type": "markdown",
      "source": [
        "Before sending the results to the state tomography fitter we must strip the register for the Q2 measurement and only keep the results when that register is 1."
      ],
      "metadata": {}
    },
    {
      "cell_type": "code",
      "source": [
        "\n",
        "new_result = deepcopy(raw_results)\n",
        "\n",
        "for resultidx, _ in enumerate(raw_results.results):\n",
        "    old_counts = raw_results.get_counts(resultidx)\n",
        "    new_counts = {}\n",
        "    \n",
        "    #change the size of the classical register\n",
        "    new_result.results[resultidx].header.creg_sizes = [new_result.results[resultidx].header.creg_sizes[0]]\n",
        "    new_result.results[resultidx].header.clbit_labels = new_result.results[resultidx].header.clbit_labels[0:-1]\n",
        "    new_result.results[resultidx].header.memory_slots = 2\n",
        "    \n",
        "    for reg_key in old_counts:\n",
        "        reg_bits = reg_key.split(' ')\n",
        "        if reg_bits[0]=='1':\n",
        "            new_counts[reg_bits[1]]=old_counts[reg_key]\n",
        "\n",
        "    new_result.results[resultidx].data.counts = \\\n",
        "        new_result.results[resultidx]. \\\n",
        "        data.counts.from_dict(new_counts)\n"
      ],
      "outputs": [],
      "execution_count": 16,
      "metadata": {
        "ExecuteTime": {
          "end_time": "2019-12-10T22:03:02.348493Z",
          "start_time": "2019-12-10T22:03:02.337934Z"
        }
      }
    },
    {
      "cell_type": "code",
      "source": [
        "tomo_bell = StateTomographyFitter(new_result, qst_ghz_no_anc)\n",
        "# Perform the tomography fit\n",
        "# which outputs a density matrix\n",
        "rho_bell = tomo_bell.fit()"
      ],
      "outputs": [],
      "execution_count": 17,
      "metadata": {
        "ExecuteTime": {
          "end_time": "2019-12-10T22:03:02.381672Z",
          "start_time": "2019-12-10T22:03:02.350264Z"
        }
      }
    },
    {
      "cell_type": "code",
      "source": [
        "np.around(rho_bell,3)"
      ],
      "outputs": [
        {
          "output_type": "execute_result",
          "execution_count": 18,
          "data": {
            "text/plain": [
              "array([[ 0.494+0.j   , -0.003+0.002j, -0.001+0.j   , -0.5  +0.003j],\n",
              "       [-0.003-0.002j,  0.   +0.j   ,  0.   +0.j   ,  0.003+0.002j],\n",
              "       [-0.001-0.j   ,  0.   -0.j   ,  0.   +0.j   ,  0.001+0.j   ],\n",
              "       [-0.5  -0.003j,  0.003-0.002j,  0.001-0.j   ,  0.506+0.j   ]])"
            ]
          },
          "metadata": {}
        }
      ],
      "execution_count": 18,
      "metadata": {
        "ExecuteTime": {
          "end_time": "2019-12-10T22:03:02.390883Z",
          "start_time": "2019-12-10T22:03:02.383619Z"
        }
      }
    },
    {
      "cell_type": "code",
      "source": [
        "import qiskit.tools.jupyter\n",
        "%qiskit_version_table\n",
        "%qiskit_copyright"
      ],
      "outputs": [
        {
          "output_type": "display_data",
          "data": {
            "text/html": [
              "<h3>Version Information</h3><table><tr><th>Qiskit Software</th><th>Version</th></tr><tr><td>Qiskit</td><td>0.14.0</td></tr><tr><td>Terra</td><td>0.11.0</td></tr><tr><td>Aer</td><td>0.3.4</td></tr><tr><td>Ignis</td><td>0.2.0</td></tr><tr><td>Aqua</td><td>0.6.1</td></tr><tr><td>IBM Q Provider</td><td>0.4.4</td></tr><tr><th>System information</th></tr><tr><td>Python</td><td>3.7.5 (default, Oct 25 2019, 10:52:18) \n",
              "[Clang 4.0.1 (tags/RELEASE_401/final)]</td></tr><tr><td>OS</td><td>Darwin</td></tr><tr><td>CPUs</td><td>4</td></tr><tr><td>Memory (Gb)</td><td>16.0</td></tr><tr><td colspan='2'>Tue Dec 10 17:03:02 2019 EST</td></tr></table>"
            ],
            "text/plain": [
              "<IPython.core.display.HTML object>"
            ]
          },
          "metadata": {}
        },
        {
          "output_type": "display_data",
          "data": {
            "text/html": [
              "<div style='width: 100%; background-color:#d5d9e0;padding-left: 10px; padding-bottom: 10px; padding-right: 10px; padding-top: 5px'><h3>This code is a part of Qiskit</h3><p>&copy; Copyright IBM 2017, 2019.</p><p>This code is licensed under the Apache License, Version 2.0. You may<br>obtain a copy of this license in the LICENSE.txt file in the root directory<br> of this source tree or at http://www.apache.org/licenses/LICENSE-2.0.<p>Any modifications or derivative works of this code must retain this<br>copyright notice, and modified files need to carry a notice indicating<br>that they have been altered from the originals.</p></div>"
            ],
            "text/plain": [
              "<IPython.core.display.HTML object>"
            ]
          },
          "metadata": {}
        }
      ],
      "execution_count": 19,
      "metadata": {
        "ExecuteTime": {
          "end_time": "2019-12-10T22:03:02.465096Z",
          "start_time": "2019-12-10T22:03:02.392599Z"
        }
      }
    },
    {
      "cell_type": "code",
      "source": [],
      "outputs": [],
      "execution_count": null,
      "metadata": {}
    }
  ],
  "metadata": {
    "kernelspec": {
      "display_name": "Python 3",
      "language": "python",
      "name": "python3"
    },
    "language_info": {
      "codemirror_mode": {
        "name": "ipython",
        "version": 3
      },
      "file_extension": ".py",
      "mimetype": "text/x-python",
      "name": "python",
      "nbconvert_exporter": "python",
      "pygments_lexer": "ipython3",
      "version": "3.7.5"
    },
    "varInspector": {
      "cols": {
        "lenName": 16,
        "lenType": 16,
        "lenVar": 40
      },
      "kernels_config": {
        "python": {
          "delete_cmd_postfix": "",
          "delete_cmd_prefix": "del ",
          "library": "var_list.py",
          "varRefreshCmd": "print(var_dic_list())"
        },
        "r": {
          "delete_cmd_postfix": ") ",
          "delete_cmd_prefix": "rm(",
          "library": "var_list.r",
          "varRefreshCmd": "cat(var_dic_list()) "
        }
      },
      "types_to_exclude": [
        "module",
        "function",
        "builtin_function_or_method",
        "instance",
        "_Feature"
      ],
      "window_display": false
    },
    "nteract": {
      "version": "0.22.0"
    }
  },
  "nbformat": 4,
  "nbformat_minor": 2
}
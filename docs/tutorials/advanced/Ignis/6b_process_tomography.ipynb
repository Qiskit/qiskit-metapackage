{
  "cells": [
    {
      "cell_type": "markdown",
      "source": [
        "# Quantum Process Tomography\n",
        "\n",
        "* **Last Updated:** June 17, 2019\n",
        "* **Requires:** qiskit-terra 0.8, qiskit-ignis 0.1.1, qiskit-aer 0.2"
      ],
      "metadata": {}
    },
    {
      "cell_type": "markdown",
      "source": [
        "This notebook contains examples for using the ``ignis.verification.tomography`` process tomography module."
      ],
      "metadata": {}
    },
    {
      "cell_type": "code",
      "source": [
        "# Needed for functions\n",
        "import numpy as np\n",
        "import time\n",
        "\n",
        "# Import QISKit classes\n",
        "import qiskit\n",
        "from qiskit import QuantumRegister, QuantumCircuit, Aer\n",
        "from qiskit.quantum_info import state_fidelity, process_fidelity\n",
        "from qiskit.tools.qi.qi import outer\n",
        "\n",
        "# Tomography functions\n",
        "from qiskit.ignis.verification.tomography import process_tomography_circuits, ProcessTomographyFitter"
      ],
      "outputs": [],
      "execution_count": 1,
      "metadata": {
        "ExecuteTime": {
          "end_time": "2019-12-10T22:04:09.361230Z",
          "start_time": "2019-12-10T22:04:07.232698Z"
        }
      }
    },
    {
      "cell_type": "markdown",
      "source": [
        "## 1-qubit process tomography example"
      ],
      "metadata": {}
    },
    {
      "cell_type": "code",
      "source": [
        "# Process tomography of a Hadamard gate\n",
        "q = QuantumRegister(1)\n",
        "circ = QuantumCircuit(q)\n",
        "circ.h(q[0])\n",
        "\n",
        "# Run circuit on unitary simulator to find ideal unitary\n",
        "job = qiskit.execute(circ, Aer.get_backend('unitary_simulator'))\n",
        "ideal_unitary = job.result().get_unitary(circ)\n",
        "# convert to Choi-matrix in column-major convention\n",
        "choi_ideal = outer(ideal_unitary.ravel(order='F'))\n",
        "\n",
        "# Generate process tomography circuits and run on qasm simulator\n",
        "qpt_circs = process_tomography_circuits(circ, q)\n",
        "job = qiskit.execute(qpt_circs, Aer.get_backend('qasm_simulator'), shots=4000)\n",
        "\n",
        "# Extract tomography data so that counts are indexed by measurement configuration\n",
        "qpt_tomo = ProcessTomographyFitter(job.result(), qpt_circs)\n",
        "qpt_tomo.data"
      ],
      "outputs": [
        {
          "output_type": "execute_result",
          "execution_count": 2,
          "data": {
            "text/plain": [
              "{(('Zp',), ('X',)): {'0': 4000},\n",
              " (('Zp',), ('Y',)): {'1': 2005, '0': 1995},\n",
              " (('Zp',), ('Z',)): {'1': 2034, '0': 1966},\n",
              " (('Zm',), ('X',)): {'1': 4000},\n",
              " (('Zm',), ('Y',)): {'1': 1995, '0': 2005},\n",
              " (('Zm',), ('Z',)): {'1': 1959, '0': 2041},\n",
              " (('Xp',), ('X',)): {'1': 1938, '0': 2062},\n",
              " (('Xp',), ('Y',)): {'1': 1945, '0': 2055},\n",
              " (('Xp',), ('Z',)): {'0': 4000},\n",
              " (('Yp',), ('X',)): {'1': 2007, '0': 1993},\n",
              " (('Yp',), ('Y',)): {'1': 4000},\n",
              " (('Yp',), ('Z',)): {'1': 1939, '0': 2061}}"
            ]
          },
          "metadata": {}
        }
      ],
      "execution_count": 2,
      "metadata": {
        "ExecuteTime": {
          "end_time": "2019-12-10T22:04:09.537523Z",
          "start_time": "2019-12-10T22:04:09.363669Z"
        }
      }
    },
    {
      "cell_type": "code",
      "source": [
        "# MLE Least-Squares tomographic reconstruction\n",
        "t = time.time()\n",
        "choi_lstsq = qpt_tomo.fit(method='lstsq')\n",
        "print('Least-Sq Fitter')\n",
        "print('fit time:', time.time() - t)\n",
        "print('fit fidelity (state):', state_fidelity(choi_ideal / 2, choi_lstsq.data / 2))\n",
        "print('fit fidelity (process):', np.real(process_fidelity(choi_ideal, choi_lstsq.data, require_cptp=False)))\n",
        "\n",
        "\n",
        "# CVXOPT Semidefinite-Program tomographic reconstruction\n",
        "t = time.time()\n",
        "choi_cvx = qpt_tomo.fit(method='cvx')\n",
        "print('\\nCVXOPT Fitter')\n",
        "print('fit time:', time.time() - t)\n",
        "print('fit fidelity (state):', state_fidelity(choi_ideal / 2, choi_cvx.data / 2))\n",
        "print('fit fidelity (process):', np.real(process_fidelity(choi_ideal, choi_cvx.data, require_cptp=False)))\n"
      ],
      "outputs": [
        {
          "output_type": "stream",
          "name": "stdout",
          "text": [
            "Least-Sq Fitter\n",
            "fit time: 0.008728981018066406\n",
            "fit fidelity (state): 0.998101347911632\n",
            "fit fidelity (process): 0.99620629934705\n",
            "\n",
            "CVXOPT Fitter\n",
            "fit time: 0.03952598571777344\n",
            "fit fidelity (state): 0.9998300598697589\n",
            "fit fidelity (process): 0.9996601486134205\n"
          ]
        }
      ],
      "execution_count": 3,
      "metadata": {
        "ExecuteTime": {
          "end_time": "2019-12-10T22:04:09.602711Z",
          "start_time": "2019-12-10T22:04:09.540281Z"
        }
      }
    },
    {
      "cell_type": "markdown",
      "source": [
        "## 1-qubit process tomography of two-qubit swap gate\n",
        "\n",
        "We will prepare qubit-0 and measure qubit-1 so the reconstructed channel should be an identity."
      ],
      "metadata": {}
    },
    {
      "cell_type": "code",
      "source": [
        "# Process tomography of a Hadamard gate\n",
        "q = QuantumRegister(2)\n",
        "circ = QuantumCircuit(q)\n",
        "circ.swap(q[0], q[1])\n",
        "\n",
        "# Ideal channel is a unitary\n",
        "ideal_unitary = np.eye(2)\n",
        "choi_ideal = outer(ideal_unitary.ravel(order='F'))\n",
        "\n",
        "# Generate process tomography circuits and run on qasm simulator\n",
        "# We use the optional prepared_qubits kwarg to specify that the prepared qubit was different to measured qubit\n",
        "qpt_circs = process_tomography_circuits(circ, q[1], prepared_qubits=q[0])\n",
        "job = qiskit.execute(qpt_circs, Aer.get_backend('qasm_simulator'), shots=2000)\n",
        "\n",
        "# Extract tomography data so that counts are indexed by measurement configuration\n",
        "qpt_tomo = ProcessTomographyFitter(job.result(), qpt_circs)\n",
        "qpt_tomo.data"
      ],
      "outputs": [
        {
          "output_type": "execute_result",
          "execution_count": 4,
          "data": {
            "text/plain": [
              "{(('Zp',), ('X',)): {'1': 1011, '0': 989},\n",
              " (('Zp',), ('Y',)): {'1': 969, '0': 1031},\n",
              " (('Zp',), ('Z',)): {'0': 2000},\n",
              " (('Zm',), ('X',)): {'1': 993, '0': 1007},\n",
              " (('Zm',), ('Y',)): {'1': 1024, '0': 976},\n",
              " (('Zm',), ('Z',)): {'1': 2000},\n",
              " (('Xp',), ('X',)): {'0': 2000},\n",
              " (('Xp',), ('Y',)): {'1': 1030, '0': 970},\n",
              " (('Xp',), ('Z',)): {'1': 980, '0': 1020},\n",
              " (('Yp',), ('X',)): {'1': 1015, '0': 985},\n",
              " (('Yp',), ('Y',)): {'0': 2000},\n",
              " (('Yp',), ('Z',)): {'1': 978, '0': 1022}}"
            ]
          },
          "metadata": {}
        }
      ],
      "execution_count": 4,
      "metadata": {
        "ExecuteTime": {
          "end_time": "2019-12-10T22:04:09.748538Z",
          "start_time": "2019-12-10T22:04:09.605145Z"
        }
      }
    },
    {
      "cell_type": "code",
      "source": [
        "# Least-Squares tomographic reconstruction\n",
        "t = time.time()\n",
        "choi_lstsq = qpt_tomo.fit(method='lstsq')\n",
        "print('Least-Sq Fitter')\n",
        "print('fit time:', time.time() - t)\n",
        "print('fit fidelity (state):', state_fidelity(choi_ideal / 2, choi_lstsq.data / 2))\n",
        "print('fit fidelity (process):', np.real(process_fidelity(choi_ideal, choi_lstsq.data, require_cptp=False)))\n",
        "\n",
        "# CVXOPT Semidefinite-Program tomographic reconstruction\n",
        "t = time.time()\n",
        "choi_cvx = qpt_tomo.fit(method='cvx')\n",
        "print('\\nCVXOPT Fitter')\n",
        "print('fit time:', time.time() - t)\n",
        "print('fit fidelity (state):', state_fidelity(choi_ideal / 2, choi_cvx.data / 2))\n",
        "print('fit fidelity (process):', np.real(process_fidelity(choi_ideal, choi_cvx.data, require_cptp=False)))"
      ],
      "outputs": [
        {
          "output_type": "stream",
          "name": "stdout",
          "text": [
            "Least-Sq Fitter\n",
            "fit time: 0.005930900573730469\n",
            "fit fidelity (state): 0.992115841465833\n",
            "fit fidelity (process): 0.9842938428874608\n",
            "\n",
            "CVXOPT Fitter\n",
            "fit time: 0.03724503517150879\n",
            "fit fidelity (state): 0.9999284006090936\n",
            "fit fidelity (process): 0.9998568063446612\n"
          ]
        }
      ],
      "execution_count": 5,
      "metadata": {
        "ExecuteTime": {
          "end_time": "2019-12-10T22:04:09.802862Z",
          "start_time": "2019-12-10T22:04:09.750362Z"
        }
      }
    },
    {
      "cell_type": "markdown",
      "source": [
        "## 2-Qubit entangling circuit"
      ],
      "metadata": {}
    },
    {
      "cell_type": "code",
      "source": [
        "# Bell-state entangling circuit\n",
        "q = QuantumRegister(2)\n",
        "circ = QuantumCircuit(q)\n",
        "circ.h(q[0])\n",
        "circ.cx(q[0], q[1])\n",
        "\n",
        "# Run circuit on unitary simulator to find ideal unitary\n",
        "job = qiskit.execute(circ, Aer.get_backend('unitary_simulator'))\n",
        "ideal_unitary = job.result().get_unitary(circ)\n",
        "# convert to Choi-matrix in column-major convention\n",
        "choi_ideal = outer(ideal_unitary.ravel(order='F'))\n",
        "\n",
        "# Generate process tomography circuits and run on qasm simulator\n",
        "qpt_circs = process_tomography_circuits(circ, q)\n",
        "job = qiskit.execute(qpt_circs, Aer.get_backend('qasm_simulator'), shots=2000)\n",
        "\n",
        "# Extract tomography data so that counts are indexed by measurement configuration\n",
        "qpt_tomo = ProcessTomographyFitter(job.result(), qpt_circs)\n",
        "\n",
        "t = time.time()\n",
        "choi_lstsq = qpt_tomo.fit(method='lstsq')\n",
        "print('Least-Sq Fitter')\n",
        "print('fit time:', time.time() - t)\n",
        "print('fit fidelity (state):', state_fidelity(choi_ideal / 4, choi_lstsq.data / 4))\n",
        "print('fit fidelity (process):', np.real(process_fidelity(choi_ideal, choi_lstsq.data, require_cptp=False)))\n",
        "\n",
        "t = time.time()\n",
        "choi_cvx = qpt_tomo.fit(method='cvx')\n",
        "print('\\nCVXOPT Fitter')\n",
        "print('fit time:', time.time() - t)\n",
        "print('fit fidelity (state):', state_fidelity(choi_ideal / 4, choi_cvx.data / 4))\n",
        "print('fit fidelity (process):', np.real(process_fidelity(choi_ideal, choi_cvx.data, require_cptp=False)))"
      ],
      "outputs": [
        {
          "output_type": "stream",
          "name": "stdout",
          "text": [
            "Least-Sq Fitter\n",
            "fit time: 0.09495401382446289\n",
            "fit fidelity (state): 0.9851755153211967\n",
            "fit fidelity (process): 0.9705707953743966\n",
            "\n",
            "CVXOPT Fitter\n",
            "fit time: 0.9278693199157715\n",
            "fit fidelity (state): 0.999898362918484\n",
            "fit fidelity (process): 0.9997967361255218\n"
          ]
        }
      ],
      "execution_count": 6,
      "metadata": {
        "ExecuteTime": {
          "end_time": "2019-12-10T22:04:12.383347Z",
          "start_time": "2019-12-10T22:04:09.805425Z"
        }
      }
    },
    {
      "cell_type": "markdown",
      "source": [
        "## Using SIC-POVM preparation basis"
      ],
      "metadata": {}
    },
    {
      "cell_type": "code",
      "source": [
        "# Process tomography of a Hadamard gate\n",
        "q = QuantumRegister(1)\n",
        "circ = QuantumCircuit(q)\n",
        "circ.h(q[0])\n",
        "\n",
        "# Run circuit on unitary simulator to find ideal unitary\n",
        "job = qiskit.execute(circ, Aer.get_backend('unitary_simulator'))\n",
        "ideal_unitary = job.result().get_unitary(circ)\n",
        "# convert to Choi-matrix in column-major convention\n",
        "choi_ideal = outer(ideal_unitary.ravel(order='F'))\n",
        "\n",
        "# Generate process tomography circuits and run on qasm simulator\n",
        "qpt_circs = process_tomography_circuits(circ, q, prep_labels='SIC', prep_basis='SIC')\n",
        "job = qiskit.execute(qpt_circs, Aer.get_backend('qasm_simulator'), shots=2000)\n",
        "\n",
        "# Extract tomography data so that counts are indexed by measurement configuration\n",
        "qpt_tomo = ProcessTomographyFitter(job.result(), qpt_circs, prep_basis='SIC')\n",
        "qpt_tomo.data"
      ],
      "outputs": [
        {
          "output_type": "execute_result",
          "execution_count": 7,
          "data": {
            "text/plain": [
              "{(('S0',), ('X',)): {'0': 2000},\n",
              " (('S0',), ('Y',)): {'1': 996, '0': 1004},\n",
              " (('S0',), ('Z',)): {'1': 1020, '0': 980},\n",
              " (('S1',), ('X',)): {'1': 1355, '0': 645},\n",
              " (('S1',), ('Y',)): {'1': 995, '0': 1005},\n",
              " (('S1',), ('Z',)): {'1': 54, '0': 1946},\n",
              " (('S2',), ('X',)): {'1': 1349, '0': 651},\n",
              " (('S2',), ('Y',)): {'1': 182, '0': 1818},\n",
              " (('S2',), ('Z',)): {'1': 1460, '0': 540},\n",
              " (('S3',), ('X',)): {'1': 1368, '0': 632},\n",
              " (('S3',), ('Y',)): {'1': 1811, '0': 189},\n",
              " (('S3',), ('Z',)): {'1': 1481, '0': 519}}"
            ]
          },
          "metadata": {}
        }
      ],
      "execution_count": 7,
      "metadata": {
        "ExecuteTime": {
          "end_time": "2019-12-10T22:04:12.547016Z",
          "start_time": "2019-12-10T22:04:12.385611Z"
        }
      }
    },
    {
      "cell_type": "code",
      "source": [
        "# MLE Least-Squares tomographic reconstruction\n",
        "t = time.time()\n",
        "choi_lstsq = qpt_tomo.fit(method='lstsq')\n",
        "print('Least-Sq Fitter')\n",
        "print('fit time:', time.time() - t)\n",
        "print('fit fidelity (state):', state_fidelity(choi_ideal / 2, choi_lstsq.data / 2))\n",
        "print('fit fidelity (process):', np.real(process_fidelity(choi_ideal, choi_lstsq.data, require_cptp=False)))\n",
        "\n",
        "# CVXOPT Semidefinite-Program tomographic reconstruction\n",
        "t = time.time()\n",
        "choi_cvx = qpt_tomo.fit(method='cvx')\n",
        "\n",
        "print('\\nCVXOPT Fitter')\n",
        "print('fit time:', time.time() - t)\n",
        "print('fit fidelity (state):', state_fidelity(choi_ideal / 2, choi_cvx.data / 2))\n",
        "print('fit fidelity (process):', np.real(process_fidelity(choi_ideal, choi_cvx.data, require_cptp=False)))"
      ],
      "outputs": [
        {
          "output_type": "stream",
          "name": "stdout",
          "text": [
            "Least-Sq Fitter\n",
            "fit time: 0.007868051528930664\n",
            "fit fidelity (state): 0.9985398816691363\n",
            "fit fidelity (process): 0.9970818947829703\n",
            "\n",
            "CVXOPT Fitter\n",
            "fit time: 0.0404360294342041\n",
            "fit fidelity (state): 0.9996813848252835\n",
            "fit fidelity (process): 0.9993628708173398\n"
          ]
        }
      ],
      "execution_count": 8,
      "metadata": {
        "ExecuteTime": {
          "end_time": "2019-12-10T22:04:12.610670Z",
          "start_time": "2019-12-10T22:04:12.552264Z"
        }
      }
    },
    {
      "cell_type": "code",
      "source": [
        "import qiskit.tools.jupyter\n",
        "%qiskit_version_table\n",
        "%qiskit_copyright"
      ],
      "outputs": [
        {
          "output_type": "display_data",
          "data": {
            "text/html": [
              "<h3>Version Information</h3><table><tr><th>Qiskit Software</th><th>Version</th></tr><tr><td>Qiskit</td><td>0.14.0</td></tr><tr><td>Terra</td><td>0.11.0</td></tr><tr><td>Aer</td><td>0.3.4</td></tr><tr><td>Ignis</td><td>0.2.0</td></tr><tr><td>Aqua</td><td>0.6.1</td></tr><tr><td>IBM Q Provider</td><td>0.4.4</td></tr><tr><th>System information</th></tr><tr><td>Python</td><td>3.7.5 (default, Oct 25 2019, 10:52:18) \n",
              "[Clang 4.0.1 (tags/RELEASE_401/final)]</td></tr><tr><td>OS</td><td>Darwin</td></tr><tr><td>CPUs</td><td>4</td></tr><tr><td>Memory (Gb)</td><td>16.0</td></tr><tr><td colspan='2'>Tue Dec 10 17:04:12 2019 EST</td></tr></table>"
            ],
            "text/plain": [
              "<IPython.core.display.HTML object>"
            ]
          },
          "metadata": {}
        },
        {
          "output_type": "display_data",
          "data": {
            "text/html": [
              "<div style='width: 100%; background-color:#d5d9e0;padding-left: 10px; padding-bottom: 10px; padding-right: 10px; padding-top: 5px'><h3>This code is a part of Qiskit</h3><p>&copy; Copyright IBM 2017, 2019.</p><p>This code is licensed under the Apache License, Version 2.0. You may<br>obtain a copy of this license in the LICENSE.txt file in the root directory<br> of this source tree or at http://www.apache.org/licenses/LICENSE-2.0.<p>Any modifications or derivative works of this code must retain this<br>copyright notice, and modified files need to carry a notice indicating<br>that they have been altered from the originals.</p></div>"
            ],
            "text/plain": [
              "<IPython.core.display.HTML object>"
            ]
          },
          "metadata": {}
        }
      ],
      "execution_count": 9,
      "metadata": {
        "ExecuteTime": {
          "end_time": "2019-12-10T22:04:12.693194Z",
          "start_time": "2019-12-10T22:04:12.614199Z"
        }
      }
    },
    {
      "cell_type": "code",
      "source": [],
      "outputs": [],
      "execution_count": null,
      "metadata": {}
    }
  ],
  "metadata": {
    "kernelspec": {
      "display_name": "Python 3",
      "language": "python",
      "name": "python3"
    },
    "language_info": {
      "codemirror_mode": {
        "name": "ipython",
        "version": 3
      },
      "file_extension": ".py",
      "mimetype": "text/x-python",
      "name": "python",
      "nbconvert_exporter": "python",
      "pygments_lexer": "ipython3",
      "version": "3.7.5"
    },
    "varInspector": {
      "cols": {
        "lenName": 16,
        "lenType": 16,
        "lenVar": 40
      },
      "kernels_config": {
        "python": {
          "delete_cmd_postfix": "",
          "delete_cmd_prefix": "del ",
          "library": "var_list.py",
          "varRefreshCmd": "print(var_dic_list())"
        },
        "r": {
          "delete_cmd_postfix": ") ",
          "delete_cmd_prefix": "rm(",
          "library": "var_list.r",
          "varRefreshCmd": "cat(var_dic_list()) "
        }
      },
      "types_to_exclude": [
        "module",
        "function",
        "builtin_function_or_method",
        "instance",
        "_Feature"
      ],
      "window_display": false
    },
    "nteract": {
      "version": "0.22.0"
    }
  },
  "nbformat": 4,
  "nbformat_minor": 2
}
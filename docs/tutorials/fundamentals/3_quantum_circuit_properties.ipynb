{
 "cells": [
  {
   "cell_type": "markdown",
   "metadata": {},
   "source": [
    "# Quantum Circuit Properties"
   ]
  },
  {
   "cell_type": "code",
   "execution_count": null,
   "metadata": {
    "ExecuteTime": {
     "end_time": "2019-08-09T13:41:41.150575Z",
     "start_time": "2019-08-09T13:41:38.833301Z"
    }
   },
   "outputs": [],
   "source": [
    "from qiskit import *\n",
    "%matplotlib inline"
   ]
  },
  {
   "cell_type": "markdown",
   "metadata": {},
   "source": [
    "## Introduction <a name='introduction'></a>\n",
    "\n",
    "When constructing quantum circuits, there are several properties that help quantify the \"size\" of the circuits, and their ability to be run on a noisy quantum device.  Some of these, like number of qubits, are straightforward to understand, while others like depth and number of tensor components require a bit more explanation.  Here we will explain all of these properties, and, in preparation for understanding how circuits change when run on actual devices, highlight the conditions under which they change.\n",
    "\n",
    "\n",
    "### Basics\n",
    "Consider the following circuit:"
   ]
  },
  {
   "cell_type": "code",
   "execution_count": null,
   "metadata": {
    "ExecuteTime": {
     "end_time": "2019-08-09T13:41:41.750753Z",
     "start_time": "2019-08-09T13:41:41.158135Z"
    }
   },
   "outputs": [],
   "source": [
    "qc = QuantumCircuit(12)\n",
    "\n",
    "for idx in range(5):\n",
    "    qc.h(idx)\n",
    "    qc.cx(idx, idx+5)\n",
    "\n",
    "qc.cx(1, 7)\n",
    "qc.x(8)\n",
    "qc.cx(1, 9)\n",
    "qc.x(7)\n",
    "qc.cx(1, 11)\n",
    "qc.swap(6, 11)\n",
    "qc.swap(6, 9)\n",
    "qc.swap(6, 10)\n",
    "qc.x(6)\n",
    "qc.draw()"
   ]
  },
  {
   "cell_type": "markdown",
   "metadata": {},
   "source": [
    "From the plot, it is easy to see that this circuit has 12 qubits, and a collection of Hadamard, CNOT, X, and SWAP gates.  But how to quantify this programmatically? Because we can do single-qubit gates on all the qubits simultaneously, the number of qubits in this circuit is equal to the **width** of the circuit:"
   ]
  },
  {
   "cell_type": "code",
   "execution_count": null,
   "metadata": {
    "ExecuteTime": {
     "end_time": "2019-08-09T13:41:41.770638Z",
     "start_time": "2019-08-09T13:41:41.766728Z"
    }
   },
   "outputs": [],
   "source": [
    "qc.width()"
   ]
  },
  {
   "cell_type": "markdown",
   "metadata": {},
   "source": [
    "<div class=\"alert alert-block alert-warning\">\n",
    "<b>Warning:</b> For a quantum circuit composed from just qubits, the circuit width is equal to the number of qubits.  This is the definition used in quantum computing.  However, for more complicated circuits with classical registers, and classically controlled gates, this equivalence breaks down.  As such, from now on we will <b>not</b> refer to the number of qubits in a quantum circuit as the width.\n",
    "</div>"
   ]
  },
  {
   "cell_type": "markdown",
   "metadata": {},
   "source": [
    "We can also just get the number of qubits directly:"
   ]
  },
  {
   "cell_type": "code",
   "execution_count": null,
   "metadata": {
    "ExecuteTime": {
     "end_time": "2019-08-09T13:41:43.168268Z",
     "start_time": "2019-08-09T13:41:43.165353Z"
    }
   },
   "outputs": [],
   "source": [
    "qc.n_qubits"
   ]
  },
  {
   "cell_type": "markdown",
   "metadata": {},
   "source": [
    "It is also straightforward to get the number and type of the gates in a circuit using `count_ops()`:"
   ]
  },
  {
   "cell_type": "code",
   "execution_count": null,
   "metadata": {
    "ExecuteTime": {
     "end_time": "2019-08-09T13:41:44.253551Z",
     "start_time": "2019-08-09T13:41:44.249665Z"
    }
   },
   "outputs": [],
   "source": [
    "qc.count_ops()"
   ]
  },
  {
   "cell_type": "markdown",
   "metadata": {},
   "source": [
    "We can also get just the raw count of operations by computing the circuits **size**:"
   ]
  },
  {
   "cell_type": "code",
   "execution_count": null,
   "metadata": {
    "ExecuteTime": {
     "end_time": "2019-08-09T13:41:45.551875Z",
     "start_time": "2019-08-09T13:41:45.548211Z"
    }
   },
   "outputs": [],
   "source": [
    "qc.size()"
   ]
  },
  {
   "cell_type": "markdown",
   "metadata": {},
   "source": [
    "## Quantum Circuit Depth <a name=\"depth\"></a>"
   ]
  },
  {
   "cell_type": "markdown",
   "metadata": {},
   "source": [
    "A particularly important circuit property is known as the **depth**.  The depth of a quantum circuit is a measure of how many \"layers\" of quantum gates, executed in parallel, it takes to complete the computation defined by the circuit.  Because quantum gates take time to implement, the depth of a circuit roughly corresponds to the amount of time it takes the quantum computer to execute the circuit.  Thus, the depth of a circuit is one important quantity used to measure if a quantum circuit can be run on a device.\n",
    "\n",
    "The depth of a quantum circuit has a mathematical definition as the longest path in a directed acyclic graph (DAG).  However, such a definition is a bit hard to grasp, even for experts.  Fortunately, the depth of a circuit can be easily understood by anyone familiar with playing [Tetris](https://en.wikipedia.org/wiki/Tetris).  To understand this, let us redraw the circuit with the first five CNOT gates colored differently for clarity:"
   ]
  },
  {
   "cell_type": "markdown",
   "metadata": {},
   "source": [
    "<img src=\"images/depth_1.png\" style=\"width=auto;\"/>"
   ]
  },
  {
   "cell_type": "markdown",
   "metadata": {},
   "source": [
    "To compute the depth, we turn the circuit counterclockwise so that the beginning of the circuit is at the bottom.  We then let the gates fall to the bottom.  Later gates stack on earlier gates, and multi-qubit gate components must be stacked at the same height.  For the current circuit of interest, this stacking looks like:"
   ]
  },
  {
   "cell_type": "markdown",
   "metadata": {
    "ExecuteTime": {
     "end_time": "2019-08-05T16:39:59.435226Z",
     "start_time": "2019-08-05T16:39:59.429815Z"
    }
   },
   "source": [
    "<img src=\"images/depth_2.png\" style=\"width=auto;\"/>"
   ]
  },
  {
   "cell_type": "markdown",
   "metadata": {},
   "source": [
    "We can see that the first five CNOT gates all collapsed down on top of each other, and are stacked on top of the initial set of Hadamard gates.  The remaining gates stack on top of the CNOT layer as shown.  The stack of gates can be partitioned into \"layers\", where each layer represents a set of gates that can be executed in parallel on a quantum device (Hardware limitations may restrict the number and/or type of gates that can be run in parallel).  The **depth** of the circuit is just the number of layers in the circuit;  The depth is equal to the height of the stack of gates.  This computation is done for you in qiskit, and we can verify our visual method:"
   ]
  },
  {
   "cell_type": "code",
   "execution_count": null,
   "metadata": {
    "ExecuteTime": {
     "end_time": "2019-08-09T13:41:54.651583Z",
     "start_time": "2019-08-09T13:41:54.647492Z"
    }
   },
   "outputs": [],
   "source": [
    "qc.depth()"
   ]
  },
  {
   "cell_type": "markdown",
   "metadata": {},
   "source": [
    "## Unitary Factors <a name=\"unitary\"></a>\n",
    "\n",
    "The circuit we are focusing on here is a 12-qubit circuit.  However, does this circuit actually require a 12-qubit quantum computer to run?  That is to say, can we compute  the same result by running a collection of smaller circuits individually?\n",
    "\n",
    "In the limit where only single-qubit gates are performed, it should be clear that each qubit is controlled independently of the rest, and thus we can run each qubit independently and still get the desired result.  Thus, the question becomes are there enough entangling gates in the circuit to have all qubits interacting?  Again, this is best understood in terms of diagrams.  Below, we track the sets of qubits that interact amongst themselves via CNOT gates at each layer in the circuit."
   ]
  },
  {
   "cell_type": "markdown",
   "metadata": {
    "ExecuteTime": {
     "end_time": "2019-08-05T17:23:58.305508Z",
     "start_time": "2019-08-05T17:23:58.301385Z"
    }
   },
   "source": [
    "<img src=\"images/tensor_factors_1.png\" style=\"width=auto;\"/>"
   ]
  },
  {
   "cell_type": "markdown",
   "metadata": {},
   "source": [
    "We can see that at the end of the computation there are three independent sets of qubits.  Thus, our 12-qubit computation is actual two two-qubit calculations and a single eight-qubit computation.  We can verify this via qiskit:"
   ]
  },
  {
   "cell_type": "code",
   "execution_count": null,
   "metadata": {
    "ExecuteTime": {
     "end_time": "2019-08-09T13:41:56.134319Z",
     "start_time": "2019-08-09T13:41:56.129574Z"
    }
   },
   "outputs": [],
   "source": [
    "qc.num_unitary_factors()"
   ]
  },
  {
   "cell_type": "markdown",
   "metadata": {},
   "source": [
    "## Circuits with Classical Registers and Measurements <a name=\"classical\"></a>\n",
    "\n",
    "Several of the circuit properties introduced so far change when adding classical registers and measurements.\n",
    "\n",
    "Let's add measurements to the circuit above."
   ]
  },
  {
   "cell_type": "code",
   "execution_count": null,
   "metadata": {
    "ExecuteTime": {
     "end_time": "2019-08-09T13:41:57.804795Z",
     "start_time": "2019-08-09T13:41:57.175649Z"
    }
   },
   "outputs": [],
   "source": [
    "qc2 = QuantumCircuit(12, 12)\n",
    "\n",
    "for idx in range(5):\n",
    "    qc2.h(idx)\n",
    "    qc2.cx(idx, idx+5)\n",
    "\n",
    "qc2.cx(1, 7)\n",
    "qc2.x(8)\n",
    "qc2.cx(1, 9)\n",
    "qc2.x(7)\n",
    "qc2.cx(1, 11)\n",
    "qc2.swap(6, 11)\n",
    "qc2.swap(6, 9)\n",
    "qc2.swap(6, 10)\n",
    "qc2.x(6)\n",
    "qc2.barrier()\n",
    "qc2.measure(range(12), range(12))\n",
    "qc2.draw()"
   ]
  },
  {
   "cell_type": "markdown",
   "metadata": {},
   "source": [
    "The **width** of the circuit now includes the number of qubits _and_ number of classical bits:"
   ]
  },
  {
   "cell_type": "code",
   "execution_count": null,
   "metadata": {
    "ExecuteTime": {
     "end_time": "2019-08-09T13:41:58.770816Z",
     "start_time": "2019-08-09T13:41:58.767090Z"
    }
   },
   "outputs": [],
   "source": [
    "qc2.width()"
   ]
  },
  {
   "cell_type": "markdown",
   "metadata": {},
   "source": [
    "The number of operations has increased because of the measurements and the barrier we used:"
   ]
  },
  {
   "cell_type": "code",
   "execution_count": null,
   "metadata": {
    "ExecuteTime": {
     "end_time": "2019-08-09T13:41:59.668505Z",
     "start_time": "2019-08-09T13:41:59.664485Z"
    }
   },
   "outputs": [],
   "source": [
    "qc2.count_ops()"
   ]
  },
  {
   "cell_type": "markdown",
   "metadata": {},
   "source": [
    "and the **size** of the circuit has grown:"
   ]
  },
  {
   "cell_type": "code",
   "execution_count": null,
   "metadata": {
    "ExecuteTime": {
     "end_time": "2019-08-09T13:42:00.542953Z",
     "start_time": "2019-08-09T13:42:00.539335Z"
    }
   },
   "outputs": [],
   "source": [
    "qc2.size()"
   ]
  },
  {
   "cell_type": "markdown",
   "metadata": {
    "ExecuteTime": {
     "end_time": "2019-08-05T17:39:12.011784Z",
     "start_time": "2019-08-05T17:39:12.008688Z"
    }
   },
   "source": [
    "The **depth** of the circuit has now increased because measurements are included in the depth computation as they perform physical operations:"
   ]
  },
  {
   "cell_type": "code",
   "execution_count": null,
   "metadata": {
    "ExecuteTime": {
     "end_time": "2019-08-09T13:42:01.831318Z",
     "start_time": "2019-08-09T13:42:01.827625Z"
    }
   },
   "outputs": [],
   "source": [
    "qc2.depth()"
   ]
  },
  {
   "cell_type": "markdown",
   "metadata": {},
   "source": [
    "Barriers and other special commands like snapshots do not count towards the depth directly. However, gates cannot pass through them and must therefore start stacking on top."
   ]
  },
  {
   "cell_type": "markdown",
   "metadata": {},
   "source": [
    "## Dependence of Depth on Gate Selection <a name=\"gate_dependence\"></a>\n",
    "\n",
    "We close by highlighting a very important point.  The **depth** of a quantum circuit, and thus the ability to run said circuit on noisy quantum hardware depends on the choice of gates used to implement that circuit.  The original circuit used in this tutorial had a depth of 9."
   ]
  },
  {
   "cell_type": "code",
   "execution_count": null,
   "metadata": {
    "ExecuteTime": {
     "end_time": "2019-08-09T13:42:04.879677Z",
     "start_time": "2019-08-09T13:42:04.875785Z"
    }
   },
   "outputs": [],
   "source": [
    "qc.depth()"
   ]
  },
  {
   "cell_type": "markdown",
   "metadata": {},
   "source": [
    "However, the SWAP gates used in the construction of that circuit are not native to the IBM Q devices.  A decomposition that runs on the devices is a decomposition in terms of three CNOT gates:"
   ]
  },
  {
   "cell_type": "code",
   "execution_count": null,
   "metadata": {
    "ExecuteTime": {
     "end_time": "2019-08-09T13:42:06.185935Z",
     "start_time": "2019-08-09T13:42:06.047374Z"
    }
   },
   "outputs": [],
   "source": [
    "qc3 = QuantumCircuit(2)\n",
    "qc3.swap(0,1)\n",
    "qc3.decompose().draw() # This decomposes the swap gate into the gates we want"
   ]
  },
  {
   "cell_type": "markdown",
   "metadata": {},
   "source": [
    "So the exact same circuit could be written as:"
   ]
  },
  {
   "cell_type": "code",
   "execution_count": null,
   "metadata": {
    "ExecuteTime": {
     "end_time": "2019-08-09T13:42:07.332409Z",
     "start_time": "2019-08-09T13:42:06.871793Z"
    }
   },
   "outputs": [],
   "source": [
    "qc4 = QuantumCircuit(12)\n",
    "\n",
    "for idx in range(5):\n",
    "    qc4.h(idx)\n",
    "    qc4.cx(idx, idx+5)\n",
    "\n",
    "qc4.cx(1, 7)\n",
    "qc4.x(8)\n",
    "qc4.cx(1, 9)\n",
    "qc4.x(7)\n",
    "qc4.cx(1, 11)\n",
    "\n",
    "qc4.cx(6, 11)\n",
    "qc4.cx(11, 6)\n",
    "qc4.cx(6, 11)\n",
    "\n",
    "qc4.cx(6, 9)\n",
    "qc4.cx(9, 6)\n",
    "qc4.cx(6, 9)\n",
    "\n",
    "qc4.cx(6, 10)\n",
    "qc4.cx(10, 6)\n",
    "qc4.cx(6, 10)\n",
    "\n",
    "qc4.x(6)\n",
    "qc4.draw()"
   ]
  },
  {
   "cell_type": "markdown",
   "metadata": {
    "ExecuteTime": {
     "end_time": "2019-08-05T17:57:54.296659Z",
     "start_time": "2019-08-05T17:57:54.291924Z"
    }
   },
   "source": [
    "That has a depth approaching twice that of the original circuit"
   ]
  },
  {
   "cell_type": "code",
   "execution_count": null,
   "metadata": {
    "ExecuteTime": {
     "end_time": "2019-08-09T13:42:08.282431Z",
     "start_time": "2019-08-09T13:42:08.278588Z"
    }
   },
   "outputs": [],
   "source": [
    "qc4.depth()"
   ]
  },
  {
   "cell_type": "markdown",
   "metadata": {},
   "source": [
    "This simple example is meant to illustrate a very important point: **When running circuits on actual quantum devices, the circuit that gets run is in general not the same circuit that you constructed**.  In addition, the depth of that new circuit is likely to be larger, and in some cases much larger, than the original one.  Fortunately, often times one can reduce this overhead through smart circuit rewriting toolchains."
   ]
  },
  {
   "cell_type": "code",
   "execution_count": null,
   "metadata": {
    "ExecuteTime": {
     "end_time": "2019-08-08T23:38:16.528901Z",
     "start_time": "2019-08-08T23:38:16.523169Z"
    }
   },
   "outputs": [],
   "source": [
    "import qiskit.tools.jupyter\n",
    "%qiskit_version_table\n",
    "%qiskit_copyright"
   ]
  },
  {
   "cell_type": "code",
   "execution_count": null,
   "metadata": {},
   "outputs": [],
   "source": []
  }
 ],
 "metadata": {
  "kernelspec": {
   "display_name": "Python 3",
   "language": "python",
   "name": "python3"
  },
  "language_info": {
   "codemirror_mode": {
    "name": "ipython",
    "version": 3
   },
   "file_extension": ".py",
   "mimetype": "text/x-python",
   "name": "python",
   "nbconvert_exporter": "python",
   "pygments_lexer": "ipython3",
   "version": "3.7.6"
  },
  "nteract": {
   "version": "0.22.0"
  },
  "varInspector": {
   "cols": {
    "lenName": 16,
    "lenType": 16,
    "lenVar": 40
   },
   "kernels_config": {
    "python": {
     "delete_cmd_postfix": "",
     "delete_cmd_prefix": "del ",
     "library": "var_list.py",
     "varRefreshCmd": "print(var_dic_list())"
    },
    "r": {
     "delete_cmd_postfix": ") ",
     "delete_cmd_prefix": "rm(",
     "library": "var_list.r",
     "varRefreshCmd": "cat(var_dic_list()) "
    }
   },
   "types_to_exclude": [
    "module",
    "function",
    "builtin_function_or_method",
    "instance",
    "_Feature"
   ],
   "window_display": false
  }
 },
 "nbformat": 4,
 "nbformat_minor": 2
}

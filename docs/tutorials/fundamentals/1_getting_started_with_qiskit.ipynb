{
  "cells": [
    {
      "cell_type": "markdown",
      "source": [
        "# Getting Started with Qiskit\n",
        "\n",
        "Here, we provide an overview of working with Qiskit.  The fundamental package of Qiskit is Terra that provides the basic building blocks necessary to program quantum computers. The fundamental unit of Qiskit is the [**quantum circuit**](https://en.wikipedia.org/wiki/Quantum_circuit). A basic workflow using Qiskit consists of two stages: **Build** and **Execute**. **Build** allows you to make different quantum circuits that represent the problem you are solving, and **Execute** that allows you to run them on different backends.  After the jobs have been run, the data is collected and postprocessed depending on the desired output."
      ],
      "metadata": {}
    },
    {
      "cell_type": "code",
      "source": [
        "import numpy as np\n",
        "from qiskit import *\n",
        "%matplotlib inline"
      ],
      "outputs": [],
      "execution_count": null,
      "metadata": {
        "ExecuteTime": {
          "end_time": "2019-08-10T11:37:44.387267Z",
          "start_time": "2019-08-10T11:37:41.934365Z"
        }
      }
    },
    {
      "cell_type": "markdown",
      "source": [
        "## Circuit Basics <a name='basics'></a>\n",
        "\n",
        "\n",
        "### Building the circuit\n",
        "\n",
        "The basic element needed for your first program is the QuantumCircuit.  We begin by creating a `QuantumCircuit` comprised of three qubits."
      ],
      "metadata": {}
    },
    {
      "cell_type": "code",
      "source": [
        "# Create a Quantum Circuit acting on a quantum register of three qubits\n",
        "circ = QuantumCircuit(3)"
      ],
      "outputs": [],
      "execution_count": null,
      "metadata": {
        "ExecuteTime": {
          "end_time": "2019-08-10T11:37:44.392806Z",
          "start_time": "2019-08-10T11:37:44.389673Z"
        }
      }
    },
    {
      "cell_type": "markdown",
      "source": [
        "After you create the circuit with its registers, you can add gates (\"operations\") to manipulate the registers. As you proceed through the tutorials you will find more gates and circuits; below is an example of a quantum circuit that makes a three-qubit GHZ state\n",
        "\n",
        "$$|\\psi\\rangle = \\left(|000\\rangle+|111\\rangle\\right)/\\sqrt{2}.$$\n",
        "\n",
        "To create such a state, we start with a three-qubit quantum register. By default, each qubit in the register is initialized to $|0\\rangle$. To make the GHZ state, we apply the following gates:\n",
        "* A Hadamard gate $H$ on qubit 0, which puts it into the superposition state $\\left(|0\\rangle+|1\\rangle\\right)/\\sqrt{2}$.\n",
        "* A controlled-Not operation ($C_{X}$) between qubit 0 and qubit 1.\n",
        "* A controlled-Not operation between qubit 0 and qubit 2.\n",
        "\n",
        "On an ideal quantum computer, the state produced by running this circuit would be the GHZ state above.\n",
        "\n",
        "In Qiskit, operations can be added to the circuit one by one, as shown below."
      ],
      "metadata": {}
    },
    {
      "cell_type": "code",
      "source": [
        "# Add a H gate on qubit 0, putting this qubit in superposition.\n",
        "circ.h(0)\n",
        "# Add a CX (CNOT) gate on control qubit 0 and target qubit 1, putting\n",
        "# the qubits in a Bell state.\n",
        "circ.cx(0, 1)\n",
        "# Add a CX (CNOT) gate on control qubit 0 and target qubit 2, putting\n",
        "# the qubits in a GHZ state.\n",
        "circ.cx(0, 2)"
      ],
      "outputs": [],
      "execution_count": null,
      "metadata": {
        "ExecuteTime": {
          "end_time": "2019-08-10T11:37:44.401502Z",
          "start_time": "2019-08-10T11:37:44.395545Z"
        }
      }
    },
    {
      "cell_type": "markdown",
      "source": [
        "## Visualize Circuit <a name='visualize'></a>\n",
        "\n",
        "You can visualize your circuit using Qiskit `QuantumCircuit.draw()`, which plots the circuit in the form found in many textbooks."
      ],
      "metadata": {}
    },
    {
      "cell_type": "code",
      "source": [
        "circ.draw()"
      ],
      "outputs": [],
      "execution_count": null,
      "metadata": {
        "ExecuteTime": {
          "end_time": "2019-08-10T11:37:44.762773Z",
          "start_time": "2019-08-10T11:37:44.403727Z"
        },
        "scrolled": true
      }
    },
    {
      "cell_type": "markdown",
      "source": [
        "In this circuit, the qubits are put in order, with qubit zero at the top and qubit two at the bottom. The circuit is read left to right (meaning that gates that are applied earlier in the circuit show up further to the left).\n",
        "\n",
        "<div class=\"alert alert-block alert-info\">\n",
        "<b>Note:</b> If you don't have matplotlib set up as your default in '~/.qiskit/settings.conf' it will use a text-based drawer over matplotlib. To set the default to matplotlib, use the following in the settings.conf\n",
        "    \n",
        "    [default]\n",
        "    circuit_drawer = mpl\n",
        "    \n",
        "For those that want the full LaTeX experience, you can also set the circuit_drawer = latex.\n",
        "\n",
        "</div>\n",
        "\n"
      ],
      "metadata": {}
    },
    {
      "cell_type": "markdown",
      "source": [
        "## Simulating circuits using Qiskit Aer <a name='simulation'></a>\n",
        "\n",
        "Qiskit Aer is our package for simulating quantum circuits. It provides many different backends for doing a simulation. There is also a basic, Python only, implementation called `BasicAer` in Terra that can be used as a drop-in replacement for `Aer` in the examples below.\n",
        "\n",
        "### Statevector backend\n",
        "\n",
        "The most common backend in Qiskit Aer is the `statevector_simulator`. This simulator returns the quantum \n",
        "state, which is a complex vector of dimensions $2^n$, where $n$ is the number of qubits \n",
        "(so be careful using this as it will quickly get too large to run on your machine)."
      ],
      "metadata": {}
    },
    {
      "cell_type": "markdown",
      "source": [
        "<div class=\"alert alert-block alert-info\">\n",
        "\n",
        "\n",
        "When representing the state of a multi-qubit system, the tensor order used in Qiskit is different than that used in most physics textbooks. Suppose there are $n$ qubits, and qubit $j$ is labeled as $Q_{j}$. Qiskit uses an ordering in which the $n^{\\mathrm{th}}$ qubit is on the <em><strong>left</strong></em> side of the tensor product, so that the basis vectors are labeled as  $Q_n\\otimes \\cdots  \\otimes  Q_1\\otimes Q_0$.\n",
        "\n",
        "For example, if qubit zero is in state 0, qubit 1 is in state 0, and qubit 2 is in state 1, Qiskit would represent this state as $|100\\rangle$, whereas many physics textbooks would represent it as $|001\\rangle$.\n",
        "\n",
        "This difference in labeling affects the way multi-qubit operations are represented as matrices. For example, Qiskit represents a controlled-X ($C_{X}$) operation with qubit 0 being the control and qubit 1 being the target as\n",
        "\n",
        "$$C_X = \\begin{pmatrix} 1 & 0 & 0 & 0 \\\\  0 & 0 & 0 & 1 \\\\ 0 & 0 & 1 & 0 \\\\ 0 & 1 & 0 & 0 \\\\\\end{pmatrix}.$$\n",
        "\n",
        "</div>\n",
        "\n",
        "To run the above circuit using the statevector simulator, first you need to import Aer and then set the backend to `statevector_simulator`."
      ],
      "metadata": {}
    },
    {
      "cell_type": "code",
      "source": [
        "# Import Aer\n",
        "from qiskit import Aer\n",
        "\n",
        "# Run the quantum circuit on a statevector simulator backend\n",
        "backend = Aer.get_backend('statevector_simulator')"
      ],
      "outputs": [],
      "execution_count": null,
      "metadata": {
        "ExecuteTime": {
          "end_time": "2019-08-10T11:37:44.768493Z",
          "start_time": "2019-08-10T11:37:44.765280Z"
        }
      }
    },
    {
      "cell_type": "markdown",
      "source": [
        "Now that we have chosen the backend, it's time to compile and run the quantum circuit. In Qiskit we provide the `execute` function for this. ``execute`` returns a ``job`` object that encapsulates information about the job submitted to the backend.\n",
        "\n",
        "\n",
        "<div class=\"alert alert-block alert-info\">\n",
        "<b>Tip:</b> You can obtain the above parameters in Jupyter. Simply place the text cursor on a function and press Shift+Tab.\n",
        "</div>"
      ],
      "metadata": {}
    },
    {
      "cell_type": "code",
      "source": [
        "# Create a Quantum Program for execution \n",
        "job = execute(circ, backend)"
      ],
      "outputs": [],
      "execution_count": null,
      "metadata": {
        "ExecuteTime": {
          "end_time": "2019-08-10T11:37:44.799134Z",
          "start_time": "2019-08-10T11:37:44.770995Z"
        }
      }
    },
    {
      "cell_type": "markdown",
      "source": [
        "When you run a program, a job object is made that has the following two useful methods: \n",
        "`job.status()` and `job.result()`, which return the status of the job and a result object, respectively.\n",
        "\n",
        "<div class=\"alert alert-block alert-info\">\n",
        "<b>Note:</b> Jobs run asynchronously, but when the result method is called, it switches to synchronous and waits for it to finish before moving on to another task.\n",
        "</div>"
      ],
      "metadata": {}
    },
    {
      "cell_type": "code",
      "source": [
        "result = job.result()"
      ],
      "outputs": [],
      "execution_count": null,
      "metadata": {
        "ExecuteTime": {
          "end_time": "2019-08-10T11:37:44.804647Z",
          "start_time": "2019-08-10T11:37:44.801681Z"
        }
      }
    },
    {
      "cell_type": "markdown",
      "source": [
        "The results object contains the data and Qiskit provides the method \n",
        "`result.get_statevector(circ)` to return the state vector for the quantum circuit."
      ],
      "metadata": {}
    },
    {
      "cell_type": "code",
      "source": [
        "outputstate = result.get_statevector(circ, decimals=3)\n",
        "print(outputstate)"
      ],
      "outputs": [],
      "execution_count": null,
      "metadata": {
        "ExecuteTime": {
          "end_time": "2019-08-10T11:37:44.814182Z",
          "start_time": "2019-08-10T11:37:44.808905Z"
        }
      }
    },
    {
      "cell_type": "markdown",
      "source": [
        "Qiskit also provides a visualization toolbox to allow you to view these results.\n",
        "\n",
        "Below, we use the visualization function to plot the real and imaginary components of the state density matrix \\rho."
      ],
      "metadata": {}
    },
    {
      "cell_type": "code",
      "source": [
        "from qiskit.visualization import plot_state_city\n",
        "plot_state_city(outputstate)"
      ],
      "outputs": [],
      "execution_count": null,
      "metadata": {
        "ExecuteTime": {
          "end_time": "2019-08-10T11:37:45.605645Z",
          "start_time": "2019-08-10T11:37:44.817291Z"
        }
      }
    },
    {
      "cell_type": "markdown",
      "source": [
        "### Unitary backend"
      ],
      "metadata": {}
    },
    {
      "cell_type": "markdown",
      "source": [
        "Qiskit Aer also includes a `unitary_simulator` that works _provided all the elements in the circuit are unitary operations_. This backend calculates the $2^n \\times 2^n$ matrix representing the gates in the quantum circuit. "
      ],
      "metadata": {}
    },
    {
      "cell_type": "code",
      "source": [
        "# Run the quantum circuit on a unitary simulator backend\n",
        "backend = Aer.get_backend('unitary_simulator')\n",
        "job = execute(circ, backend)\n",
        "result = job.result()\n",
        "\n",
        "# Show the results\n",
        "print(result.get_unitary(circ, decimals=3))"
      ],
      "outputs": [],
      "execution_count": null,
      "metadata": {
        "ExecuteTime": {
          "end_time": "2019-08-10T11:37:45.626148Z",
          "start_time": "2019-08-10T11:37:45.607840Z"
        }
      }
    },
    {
      "cell_type": "markdown",
      "source": [
        "### OpenQASM backend"
      ],
      "metadata": {}
    },
    {
      "cell_type": "markdown",
      "source": [
        "The simulators above are useful because they provide information about the state output by the ideal circuit and the matrix representation of the circuit. However, a real experiment terminates by _measuring_ each qubit (usually in the computational $|0\\rangle, |1\\rangle$ basis). Without measurement, we cannot gain information about the state. Measurements cause the quantum system to collapse into classical bits. \n",
        "\n",
        "For example, suppose we make independent measurements on each qubit of the three-qubit GHZ state\n",
        "$$|\\psi\\rangle = |000\\rangle +|111\\rangle)/\\sqrt{2},$$\n",
        "and let $xyz$ denote the bitstring that results. Recall that, under the qubit labeling used by Qiskit, $x$ would correspond to the outcome on qubit 2, $y$ to the outcome on qubit 1, and $z$ to the outcome on qubit 0. \n",
        "\n",
        "<div class=\"alert alert-block alert-info\">\n",
        "<b>Note:</b> This representation of the bitstring puts the most significant bit (MSB) on the left, and the least significant bit (LSB) on the right. This is the standard ordering of binary bitstrings. We order the qubits in the same way, which is why Qiskit uses a non-standard tensor product order.\n",
        "</div>\n",
        "\n",
        "Recall the probability of obtaining outcome $xyz$ is given by\n",
        "$$\\mathrm{Pr}(xyz) = |\\langle xyz | \\psi \\rangle |^{2}$$ and as such for the GHZ state probability of obtaining 000 or 111 are both 1/2.\n",
        "\n",
        "To simulate a circuit that includes measurement, we need to add measurements to the original circuit above, and use a different Aer backend."
      ],
      "metadata": {}
    },
    {
      "cell_type": "code",
      "source": [
        "# Create a Quantum Circuit\n",
        "meas = QuantumCircuit(3, 3)\n",
        "meas.barrier(range(3))\n",
        "# map the quantum measurement to the classical bits\n",
        "meas.measure(range(3),range(3))\n",
        "\n",
        "# The Qiskit circuit object supports composition using\n",
        "# the addition operator.\n",
        "qc = circ+meas\n",
        "\n",
        "#drawing the circuit\n",
        "qc.draw()"
      ],
      "outputs": [],
      "execution_count": null,
      "metadata": {
        "ExecuteTime": {
          "end_time": "2019-08-10T11:37:45.840681Z",
          "start_time": "2019-08-10T11:37:45.627937Z"
        }
      }
    },
    {
      "cell_type": "markdown",
      "source": [
        "This circuit adds a classical register, and three measurements that are used to map the outcome of qubits to the classical bits. \n",
        "\n",
        "To simulate this circuit, we use the ``qasm_simulator`` in Qiskit Aer. Each run of this circuit will yield either the bitstring 000 or 111. To build up statistics about the distribution of the bitstrings (to, e.g., estimate $\\mathrm{Pr}(000)$), we need to repeat the circuit many times. The number of times the circuit is repeated can be specified in the ``execute`` function, via the ``shots`` keyword."
      ],
      "metadata": {}
    },
    {
      "cell_type": "code",
      "source": [
        "# Use Aer's qasm_simulator\n",
        "backend_sim = Aer.get_backend('qasm_simulator')\n",
        "\n",
        "# Execute the circuit on the qasm simulator.\n",
        "# We've set the number of repeats of the circuit\n",
        "# to be 1024, which is the default.\n",
        "job_sim = execute(qc, backend_sim, shots=1024)\n",
        "\n",
        "# Grab the results from the job.\n",
        "result_sim = job_sim.result()"
      ],
      "outputs": [],
      "execution_count": null,
      "metadata": {
        "ExecuteTime": {
          "end_time": "2019-08-10T11:37:45.868074Z",
          "start_time": "2019-08-10T11:37:45.842666Z"
        }
      }
    },
    {
      "cell_type": "markdown",
      "source": [
        "Once you have a result object, you can access the counts via the function `get_counts(circuit)`. This gives you the _aggregated_ binary outcomes of the circuit you submitted."
      ],
      "metadata": {}
    },
    {
      "cell_type": "code",
      "source": [
        "counts = result_sim.get_counts(qc)\n",
        "print(counts)"
      ],
      "outputs": [],
      "execution_count": null,
      "metadata": {
        "ExecuteTime": {
          "end_time": "2019-08-10T11:37:45.873600Z",
          "start_time": "2019-08-10T11:37:45.869929Z"
        }
      }
    },
    {
      "cell_type": "markdown",
      "source": [
        "Approximately 50 percent of the time, the output bitstring is 000. Qiskit also provides a function `plot_histogram`, which allows you to view the outcomes. "
      ],
      "metadata": {}
    },
    {
      "cell_type": "code",
      "source": [
        "from qiskit.visualization import plot_histogram\n",
        "plot_histogram(counts)"
      ],
      "outputs": [],
      "execution_count": null,
      "metadata": {
        "ExecuteTime": {
          "end_time": "2019-08-10T11:37:45.991815Z",
          "start_time": "2019-08-10T11:37:45.875518Z"
        }
      }
    },
    {
      "cell_type": "markdown",
      "source": [
        "The estimated outcome probabilities $\\mathrm{Pr}(000)$ and  $\\mathrm{Pr}(111)$ are computed by taking the aggregate counts and dividing by the number of shots (times the circuit was repeated). Try changing the ``shots`` keyword in the ``execute`` function and see how the estimated probabilities change."
      ],
      "metadata": {}
    },
    {
      "cell_type": "markdown",
      "source": [
        "## Running circuits from the IBM Q account <a name='ibmq'></a>\n",
        "\n",
        "To facilitate access to real quantum computing hardware, we have provided a simple API interface.\n",
        "To access IBM Q devices, you'll need an API token. You can generate, or view, your API token [here](https://quantum-computing.ibm.com/account) (create an account if you don't already have one).\n",
        "\n",
        "Your IBM Q account lets you run your circuit on real devices or on our cloud simulator. Basic account usage can be seen in the examples below. For more detailed instructions on using the IBM Q account."
      ],
      "metadata": {}
    },
    {
      "cell_type": "code",
      "source": [
        "#from qiskit import IBMQ"
      ],
      "outputs": [],
      "execution_count": null,
      "metadata": {
        "ExecuteTime": {
          "end_time": "2019-08-10T11:37:45.996553Z",
          "start_time": "2019-08-10T11:37:45.993701Z"
        }
      }
    },
    {
      "cell_type": "markdown",
      "source": [
        "After generating your API token, call: `IBMQ.save_account('MY_TOKEN')`.\n",
        "\n",
        "This will store your IBM Q credentials in a local file.  Unless your registration information has changed, you only need to do this once.  You may now load your accounts by calling,"
      ],
      "metadata": {}
    },
    {
      "cell_type": "code",
      "source": [
        "#IBMQ.load_account()"
      ],
      "outputs": [],
      "execution_count": null,
      "metadata": {
        "ExecuteTime": {
          "end_time": "2019-08-10T11:37:48.612022Z",
          "start_time": "2019-08-10T11:37:45.998566Z"
        }
      }
    },
    {
      "cell_type": "markdown",
      "source": [
        "Once your account has been loaded, you have one or more providers available to you"
      ],
      "metadata": {}
    },
    {
      "cell_type": "code",
      "source": [
        "#IBMQ.providers()"
      ],
      "outputs": [],
      "execution_count": null,
      "metadata": {
        "ExecuteTime": {
          "end_time": "2019-08-10T11:37:48.618826Z",
          "start_time": "2019-08-10T11:37:48.614519Z"
        }
      }
    },
    {
      "cell_type": "markdown",
      "source": [
        "Each provider gives access to a selection of services (e.g. Backends) that is authorized by your account.  To see the backends available to a given provider, first select the provider by hub, group, project, or a combination thereof:"
      ],
      "metadata": {}
    },
    {
      "cell_type": "code",
      "source": [
        "#provider = IBMQ.get_provider(group='open')"
      ],
      "outputs": [],
      "execution_count": null,
      "metadata": {
        "ExecuteTime": {
          "end_time": "2019-08-10T11:37:48.626125Z",
          "start_time": "2019-08-10T11:37:48.621318Z"
        }
      }
    },
    {
      "cell_type": "markdown",
      "source": [
        "then ask the provider to list its backends:"
      ],
      "metadata": {}
    },
    {
      "cell_type": "code",
      "source": [
        "#provider.backends()"
      ],
      "outputs": [],
      "execution_count": null,
      "metadata": {
        "ExecuteTime": {
          "end_time": "2019-08-10T11:37:49.023564Z",
          "start_time": "2019-08-10T11:37:48.628510Z"
        }
      }
    },
    {
      "cell_type": "markdown",
      "source": [
        "### Running circuits on real devices\n",
        "\n",
        "Today's quantum information processors are small and noisy, but are advancing at a fast pace. They provide a great opportunity to explore what [noisy, intermediate-scale quantum (NISQ)](https://arxiv.org/abs/1801.00862) computers can do."
      ],
      "metadata": {}
    },
    {
      "cell_type": "markdown",
      "source": [
        "Let us now grab a backend from the provider on which to run our quantum circuit:"
      ],
      "metadata": {}
    },
    {
      "cell_type": "code",
      "source": [
        "#backend = provider.get_backend('ibmq_essex')"
      ],
      "outputs": [],
      "execution_count": null,
      "metadata": {
        "ExecuteTime": {
          "end_time": "2019-08-10T11:37:49.028903Z",
          "start_time": "2019-08-10T11:37:49.025461Z"
        }
      }
    },
    {
      "cell_type": "markdown",
      "source": [
        "To run the circuit on the given device we use `execute`.  Sometimes the devices are busy with jobs from other users.  Your job is added to the list of pending jobs called the queue, and executed in this queue order.  To monitor the status of our job through the process, we can use the `job_monitor`"
      ],
      "metadata": {}
    },
    {
      "cell_type": "markdown",
      "source": [
        "<div class=\"alert alert-block alert-warning\">\n",
        "    <b>Info:</b> The <code>execute</code> functions does much more than just send your circuit(s) to a backend.  This functionality can be explored in <a href=5_using_the_transpiler.ipynb>Part 5: Using the transpiler.</a></div>"
      ],
      "metadata": {}
    },
    {
      "cell_type": "code",
      "source": [
        "#from qiskit.tools.monitor import job_monitor\n",
        "\n",
        "#job_exp = execute(qc, backend=backend)\n",
        "#job_monitor(job_exp)"
      ],
      "outputs": [],
      "execution_count": null,
      "metadata": {
        "ExecuteTime": {
          "end_time": "2019-08-10T11:38:10.495874Z",
          "start_time": "2019-08-10T11:37:49.031047Z"
        },
        "scrolled": true
      }
    },
    {
      "cell_type": "markdown",
      "source": [
        "``job_exp`` has a ``.result()`` method that lets us get the results from running our circuit.\n",
        "\n",
        "<div class=\"alert alert-block alert-info\">\n",
        "<b>Note:</b> When the .result() method is called, the code block will wait until the job has finished before releasing the cell.\n",
        "</div>"
      ],
      "metadata": {}
    },
    {
      "cell_type": "code",
      "source": [
        "#result_exp = job_exp.result()"
      ],
      "outputs": [],
      "execution_count": null,
      "metadata": {
        "ExecuteTime": {
          "end_time": "2019-08-10T11:38:10.930480Z",
          "start_time": "2019-08-10T11:38:10.498070Z"
        }
      }
    },
    {
      "cell_type": "markdown",
      "source": [
        "Like before, the counts from the execution can be obtained using ```get_counts(qc)``` "
      ],
      "metadata": {}
    },
    {
      "cell_type": "code",
      "source": [
        "#counts_exp = result_exp.get_counts(qc)\n",
        "#plot_histogram([counts_exp,counts], legend=['Device', 'Simulator'])"
      ],
      "outputs": [],
      "execution_count": null,
      "metadata": {
        "ExecuteTime": {
          "end_time": "2019-08-10T11:38:11.106254Z",
          "start_time": "2019-08-10T11:38:10.936297Z"
        }
      }
    },
    {
      "cell_type": "markdown",
      "source": [
        "### Simulating circuits using the IBM Q cloud simulator\n",
        "\n",
        "The IBM Q provider also comes with a remote optimized simulator called ``ibmq_qasm_simulator``. This remote simulator is capable of simulating up to 32 qubits. It can be used the same way as the remote real backends. "
      ],
      "metadata": {}
    },
    {
      "cell_type": "code",
      "source": [
        "#simulator_backend = provider.get_backend('ibmq_qasm_simulator')"
      ],
      "outputs": [],
      "execution_count": null,
      "metadata": {
        "ExecuteTime": {
          "end_time": "2019-08-10T11:38:11.111059Z",
          "start_time": "2019-08-10T11:38:11.108664Z"
        }
      }
    },
    {
      "cell_type": "code",
      "source": [
        "#job_cloud = execute(qc, backend=simulator_backend)"
      ],
      "outputs": [],
      "execution_count": null,
      "metadata": {
        "ExecuteTime": {
          "end_time": "2019-08-10T11:38:11.139628Z",
          "start_time": "2019-08-10T11:38:11.113246Z"
        }
      }
    },
    {
      "cell_type": "code",
      "source": [
        "#result_cloud = job_cloud.result()"
      ],
      "outputs": [],
      "execution_count": null,
      "metadata": {
        "ExecuteTime": {
          "end_time": "2019-08-10T11:38:17.557589Z",
          "start_time": "2019-08-10T11:38:11.143017Z"
        }
      }
    },
    {
      "cell_type": "code",
      "source": [
        "#counts_cloud = result_cloud.get_counts(qc)\n",
        "#plot_histogram(counts_cloud)"
      ],
      "outputs": [],
      "execution_count": null,
      "metadata": {
        "ExecuteTime": {
          "end_time": "2019-08-10T11:38:17.649171Z",
          "start_time": "2019-08-10T11:38:17.559620Z"
        }
      }
    },
    {
      "cell_type": "markdown",
      "source": [
        "### Retrieving a previously run job\n",
        "\n",
        "If your experiment takes longer to run then you have time to wait around, or if you simply want to retrieve old jobs, the IBM Q backends allow you to do that.\n",
        "First, you would need to note your job's ID:"
      ],
      "metadata": {}
    },
    {
      "cell_type": "code",
      "source": [
        "#job_id = job_exp.job_id()\n",
        "\n",
        "#print('JOB ID: {}'.format(job_id))"
      ],
      "outputs": [],
      "execution_count": null,
      "metadata": {
        "ExecuteTime": {
          "end_time": "2019-08-10T11:38:17.654536Z",
          "start_time": "2019-08-10T11:38:17.651074Z"
        },
        "scrolled": true
      }
    },
    {
      "cell_type": "markdown",
      "source": [
        "Given a job ID, that job object can be later reconstructed from the backend using ```retrieve_job```:"
      ],
      "metadata": {}
    },
    {
      "cell_type": "code",
      "source": [
        "#retrieved_job = backend.retrieve_job(job_id)"
      ],
      "outputs": [],
      "execution_count": null,
      "metadata": {
        "ExecuteTime": {
          "end_time": "2019-08-10T11:38:18.097079Z",
          "start_time": "2019-08-10T11:38:17.656360Z"
        }
      }
    },
    {
      "cell_type": "markdown",
      "source": [
        "and then the results can be obtained from the new job object. "
      ],
      "metadata": {}
    },
    {
      "cell_type": "code",
      "source": [
        "#retrieved_job.result().get_counts(qc)"
      ],
      "outputs": [],
      "execution_count": null,
      "metadata": {
        "ExecuteTime": {
          "end_time": "2019-08-10T11:38:18.222163Z",
          "start_time": "2019-08-10T11:38:18.099147Z"
        }
      }
    },
    {
      "cell_type": "code",
      "source": [
        "import qiskit.tools.jupyter\n",
        "%qiskit_version_table\n",
        "%qiskit_copyright"
      ],
      "outputs": [],
      "execution_count": null,
      "metadata": {
        "ExecuteTime": {
          "end_time": "2019-08-10T11:38:18.277518Z",
          "start_time": "2019-08-10T11:38:18.224481Z"
        }
      }
    }
  ],
  "metadata": {
    "anaconda-cloud": {},
    "kernelspec": {
      "display_name": "Python 3",
      "language": "python",
      "name": "python3"
    },
    "language_info": {
      "name": "python",
      "version": "3.7.6",
      "mimetype": "text/x-python",
      "codemirror_mode": {
        "name": "ipython",
        "version": 3
      },
      "pygments_lexer": "ipython3",
      "nbconvert_exporter": "python",
      "file_extension": ".py"
    },
    "nteract": {
      "version": "0.22.0"
    },
    "varInspector": {
      "cols": {
        "lenName": 16,
        "lenType": 16,
        "lenVar": 40
      },
      "kernels_config": {
        "python": {
          "delete_cmd_postfix": "",
          "delete_cmd_prefix": "del ",
          "library": "var_list.py",
          "varRefreshCmd": "print(var_dic_list())"
        },
        "r": {
          "delete_cmd_postfix": ") ",
          "delete_cmd_prefix": "rm(",
          "library": "var_list.r",
          "varRefreshCmd": "cat(var_dic_list()) "
        }
      },
      "types_to_exclude": [
        "module",
        "function",
        "builtin_function_or_method",
        "instance",
        "_Feature"
      ],
      "window_display": false
    }
  },
  "nbformat": 4,
  "nbformat_minor": 1
}